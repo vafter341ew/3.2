{
 "cells": [
  {
   "cell_type": "code",
   "execution_count": 76,
   "id": "f5ec6132-f7e8-4d82-8d30-c443cdf9bc89",
   "metadata": {},
   "outputs": [],
   "source": [
    "import polars as pl\n",
    "import polars.selectors as cs\n",
    "import re"
   ]
  },
  {
   "cell_type": "markdown",
   "id": "b689f90b-8792-4881-93b2-89b254ee507d",
   "metadata": {},
   "source": [
    "# Using `polars` column selectors\n",
    "\n",
    "In this notebook, we will look at using [`polars` column selectors](https://docs.pola.rs/api/python/stable/reference/selectors.html#selectors) to perform\n",
    "\n",
    "1. Column selections,\n",
    "2. Group & Aggregate, and\n",
    "3. Table Reshaping"
   ]
  },
  {
   "cell_type": "markdown",
   "id": "1f716ea8-c74d-4626-ae25-77eb451dd834",
   "metadata": {},
   "source": [
    "## Topic 1 - The Data - World Bank Economic Indicators\n",
    "\n",
    "First, let's load the World Bank's [World Development Indicators](https://databank.worldbank.org/source/world-development-indicators)."
   ]
  },
  {
   "cell_type": "markdown",
   "id": "b74d0dd7-26fd-4208-8330-9a086199d375",
   "metadata": {},
   "source": [
    "#### Attempt 1"
   ]
  },
  {
   "cell_type": "code",
   "execution_count": 77,
   "id": "a863172c-66cd-4ae8-8f53-b480c7cdf337",
   "metadata": {
    "scrolled": true
   },
   "outputs": [
    {
     "data": {
      "text/html": [
       "<div><style>\n",
       ".dataframe > thead > tr,\n",
       ".dataframe > tbody > tr {\n",
       "  text-align: right;\n",
       "  white-space: pre-wrap;\n",
       "}\n",
       "</style>\n",
       "<small>shape: (10_173, 67)</small><table border=\"1\" class=\"dataframe\"><thead><tr><th>Country Name</th><th>Region</th><th>Series Name</th><th>Series Code</th><th>1960 [YR1960]</th><th>1961 [YR1961]</th><th>1962 [YR1962]</th><th>1963 [YR1963]</th><th>1964 [YR1964]</th><th>1965 [YR1965]</th><th>1966 [YR1966]</th><th>1967 [YR1967]</th><th>1968 [YR1968]</th><th>1969 [YR1969]</th><th>1970 [YR1970]</th><th>1971 [YR1971]</th><th>1972 [YR1972]</th><th>1973 [YR1973]</th><th>1974 [YR1974]</th><th>1975 [YR1975]</th><th>1976 [YR1976]</th><th>1977 [YR1977]</th><th>1978 [YR1978]</th><th>1979 [YR1979]</th><th>1980 [YR1980]</th><th>1981 [YR1981]</th><th>1982 [YR1982]</th><th>1983 [YR1983]</th><th>1984 [YR1984]</th><th>1985 [YR1985]</th><th>1986 [YR1986]</th><th>1987 [YR1987]</th><th>1988 [YR1988]</th><th>1989 [YR1989]</th><th>1990 [YR1990]</th><th>1991 [YR1991]</th><th>1992 [YR1992]</th><th>1993 [YR1993]</th><th>1994 [YR1994]</th><th>1995 [YR1995]</th><th>1996 [YR1996]</th><th>1997 [YR1997]</th><th>1998 [YR1998]</th><th>1999 [YR1999]</th><th>2000 [YR2000]</th><th>2001 [YR2001]</th><th>2002 [YR2002]</th><th>2003 [YR2003]</th><th>2004 [YR2004]</th><th>2005 [YR2005]</th><th>2006 [YR2006]</th><th>2007 [YR2007]</th><th>2008 [YR2008]</th><th>2009 [YR2009]</th><th>2010 [YR2010]</th><th>2011 [YR2011]</th><th>2012 [YR2012]</th><th>2013 [YR2013]</th><th>2014 [YR2014]</th><th>2015 [YR2015]</th><th>2016 [YR2016]</th><th>2017 [YR2017]</th><th>2018 [YR2018]</th><th>2019 [YR2019]</th><th>2020 [YR2020]</th><th>2021 [YR2021]</th><th>2022 [YR2022]</th></tr><tr><td>str</td><td>str</td><td>str</td><td>str</td><td>str</td><td>str</td><td>str</td><td>str</td><td>str</td><td>str</td><td>str</td><td>str</td><td>str</td><td>str</td><td>str</td><td>str</td><td>str</td><td>str</td><td>str</td><td>str</td><td>str</td><td>str</td><td>str</td><td>str</td><td>str</td><td>str</td><td>str</td><td>str</td><td>str</td><td>str</td><td>str</td><td>str</td><td>str</td><td>str</td><td>str</td><td>str</td><td>str</td><td>str</td><td>str</td><td>str</td><td>str</td><td>str</td><td>str</td><td>str</td><td>str</td><td>str</td><td>str</td><td>str</td><td>str</td><td>str</td><td>str</td><td>str</td><td>str</td><td>str</td><td>str</td><td>f64</td><td>str</td><td>str</td><td>str</td><td>str</td><td>str</td><td>str</td><td>str</td><td>str</td><td>str</td><td>str</td><td>str</td></tr></thead><tbody><tr><td>&quot;Afghanistan&quot;</td><td>&quot;Asia&quot;</td><td>&quot;Diabetes prevalence (% of popu…</td><td>&quot;SH.STA.DIAB.ZS&quot;</td><td>&quot;..&quot;</td><td>&quot;..&quot;</td><td>&quot;..&quot;</td><td>&quot;..&quot;</td><td>&quot;..&quot;</td><td>&quot;..&quot;</td><td>&quot;..&quot;</td><td>&quot;..&quot;</td><td>&quot;..&quot;</td><td>&quot;..&quot;</td><td>&quot;..&quot;</td><td>&quot;..&quot;</td><td>&quot;..&quot;</td><td>&quot;..&quot;</td><td>&quot;..&quot;</td><td>&quot;..&quot;</td><td>&quot;..&quot;</td><td>&quot;..&quot;</td><td>&quot;..&quot;</td><td>&quot;..&quot;</td><td>&quot;..&quot;</td><td>&quot;..&quot;</td><td>&quot;..&quot;</td><td>&quot;..&quot;</td><td>&quot;..&quot;</td><td>&quot;..&quot;</td><td>&quot;..&quot;</td><td>&quot;..&quot;</td><td>&quot;..&quot;</td><td>&quot;..&quot;</td><td>&quot;..&quot;</td><td>&quot;..&quot;</td><td>&quot;..&quot;</td><td>&quot;..&quot;</td><td>&quot;..&quot;</td><td>&quot;..&quot;</td><td>&quot;..&quot;</td><td>&quot;..&quot;</td><td>&quot;..&quot;</td><td>&quot;..&quot;</td><td>&quot;..&quot;</td><td>&quot;..&quot;</td><td>&quot;..&quot;</td><td>&quot;..&quot;</td><td>&quot;..&quot;</td><td>&quot;..&quot;</td><td>&quot;..&quot;</td><td>&quot;..&quot;</td><td>&quot;..&quot;</td><td>&quot;..&quot;</td><td>&quot;..&quot;</td><td>7.6</td><td>&quot;..&quot;</td><td>&quot;..&quot;</td><td>&quot;..&quot;</td><td>&quot;..&quot;</td><td>&quot;..&quot;</td><td>&quot;..&quot;</td><td>&quot;..&quot;</td><td>&quot;..&quot;</td><td>&quot;..&quot;</td><td>&quot;10.9&quot;</td><td>&quot;..&quot;</td></tr><tr><td>&quot;Afghanistan&quot;</td><td>&quot;Asia&quot;</td><td>&quot;Diabetes prevalence (% of popu…</td><td>&quot;SH.STA.DIAB.ZS&quot;</td><td>&quot;..&quot;</td><td>&quot;..&quot;</td><td>&quot;..&quot;</td><td>&quot;..&quot;</td><td>&quot;..&quot;</td><td>&quot;..&quot;</td><td>&quot;..&quot;</td><td>&quot;..&quot;</td><td>&quot;..&quot;</td><td>&quot;..&quot;</td><td>&quot;..&quot;</td><td>&quot;..&quot;</td><td>&quot;..&quot;</td><td>&quot;..&quot;</td><td>&quot;..&quot;</td><td>&quot;..&quot;</td><td>&quot;..&quot;</td><td>&quot;..&quot;</td><td>&quot;..&quot;</td><td>&quot;..&quot;</td><td>&quot;..&quot;</td><td>&quot;..&quot;</td><td>&quot;..&quot;</td><td>&quot;..&quot;</td><td>&quot;..&quot;</td><td>&quot;..&quot;</td><td>&quot;..&quot;</td><td>&quot;..&quot;</td><td>&quot;..&quot;</td><td>&quot;..&quot;</td><td>&quot;..&quot;</td><td>&quot;..&quot;</td><td>&quot;..&quot;</td><td>&quot;..&quot;</td><td>&quot;..&quot;</td><td>&quot;..&quot;</td><td>&quot;..&quot;</td><td>&quot;..&quot;</td><td>&quot;..&quot;</td><td>&quot;..&quot;</td><td>&quot;..&quot;</td><td>&quot;..&quot;</td><td>&quot;..&quot;</td><td>&quot;..&quot;</td><td>&quot;..&quot;</td><td>&quot;..&quot;</td><td>&quot;..&quot;</td><td>&quot;..&quot;</td><td>&quot;..&quot;</td><td>&quot;..&quot;</td><td>&quot;..&quot;</td><td>7.6</td><td>&quot;..&quot;</td><td>&quot;..&quot;</td><td>&quot;..&quot;</td><td>&quot;..&quot;</td><td>&quot;..&quot;</td><td>&quot;..&quot;</td><td>&quot;..&quot;</td><td>&quot;..&quot;</td><td>&quot;..&quot;</td><td>&quot;10.9&quot;</td><td>&quot;..&quot;</td></tr><tr><td>&quot;Afghanistan&quot;</td><td>&quot;Asia&quot;</td><td>&quot;Diabetes prevalence (% of popu…</td><td>&quot;SH.STA.DIAB.ZS&quot;</td><td>&quot;..&quot;</td><td>&quot;..&quot;</td><td>&quot;..&quot;</td><td>&quot;..&quot;</td><td>&quot;..&quot;</td><td>&quot;..&quot;</td><td>&quot;..&quot;</td><td>&quot;..&quot;</td><td>&quot;..&quot;</td><td>&quot;..&quot;</td><td>&quot;..&quot;</td><td>&quot;..&quot;</td><td>&quot;..&quot;</td><td>&quot;..&quot;</td><td>&quot;..&quot;</td><td>&quot;..&quot;</td><td>&quot;..&quot;</td><td>&quot;..&quot;</td><td>&quot;..&quot;</td><td>&quot;..&quot;</td><td>&quot;..&quot;</td><td>&quot;..&quot;</td><td>&quot;..&quot;</td><td>&quot;..&quot;</td><td>&quot;..&quot;</td><td>&quot;..&quot;</td><td>&quot;..&quot;</td><td>&quot;..&quot;</td><td>&quot;..&quot;</td><td>&quot;..&quot;</td><td>&quot;..&quot;</td><td>&quot;..&quot;</td><td>&quot;..&quot;</td><td>&quot;..&quot;</td><td>&quot;..&quot;</td><td>&quot;..&quot;</td><td>&quot;..&quot;</td><td>&quot;..&quot;</td><td>&quot;..&quot;</td><td>&quot;..&quot;</td><td>&quot;..&quot;</td><td>&quot;..&quot;</td><td>&quot;..&quot;</td><td>&quot;..&quot;</td><td>&quot;..&quot;</td><td>&quot;..&quot;</td><td>&quot;..&quot;</td><td>&quot;..&quot;</td><td>&quot;..&quot;</td><td>&quot;..&quot;</td><td>&quot;..&quot;</td><td>7.6</td><td>&quot;..&quot;</td><td>&quot;..&quot;</td><td>&quot;..&quot;</td><td>&quot;..&quot;</td><td>&quot;..&quot;</td><td>&quot;..&quot;</td><td>&quot;..&quot;</td><td>&quot;..&quot;</td><td>&quot;..&quot;</td><td>&quot;10.9&quot;</td><td>&quot;..&quot;</td></tr><tr><td>&quot;Afghanistan&quot;</td><td>&quot;Asia&quot;</td><td>&quot;Diabetes prevalence (% of popu…</td><td>&quot;SH.STA.DIAB.ZS&quot;</td><td>&quot;..&quot;</td><td>&quot;..&quot;</td><td>&quot;..&quot;</td><td>&quot;..&quot;</td><td>&quot;..&quot;</td><td>&quot;..&quot;</td><td>&quot;..&quot;</td><td>&quot;..&quot;</td><td>&quot;..&quot;</td><td>&quot;..&quot;</td><td>&quot;..&quot;</td><td>&quot;..&quot;</td><td>&quot;..&quot;</td><td>&quot;..&quot;</td><td>&quot;..&quot;</td><td>&quot;..&quot;</td><td>&quot;..&quot;</td><td>&quot;..&quot;</td><td>&quot;..&quot;</td><td>&quot;..&quot;</td><td>&quot;..&quot;</td><td>&quot;..&quot;</td><td>&quot;..&quot;</td><td>&quot;..&quot;</td><td>&quot;..&quot;</td><td>&quot;..&quot;</td><td>&quot;..&quot;</td><td>&quot;..&quot;</td><td>&quot;..&quot;</td><td>&quot;..&quot;</td><td>&quot;..&quot;</td><td>&quot;..&quot;</td><td>&quot;..&quot;</td><td>&quot;..&quot;</td><td>&quot;..&quot;</td><td>&quot;..&quot;</td><td>&quot;..&quot;</td><td>&quot;..&quot;</td><td>&quot;..&quot;</td><td>&quot;..&quot;</td><td>&quot;..&quot;</td><td>&quot;..&quot;</td><td>&quot;..&quot;</td><td>&quot;..&quot;</td><td>&quot;..&quot;</td><td>&quot;..&quot;</td><td>&quot;..&quot;</td><td>&quot;..&quot;</td><td>&quot;..&quot;</td><td>&quot;..&quot;</td><td>&quot;..&quot;</td><td>7.6</td><td>&quot;..&quot;</td><td>&quot;..&quot;</td><td>&quot;..&quot;</td><td>&quot;..&quot;</td><td>&quot;..&quot;</td><td>&quot;..&quot;</td><td>&quot;..&quot;</td><td>&quot;..&quot;</td><td>&quot;..&quot;</td><td>&quot;10.9&quot;</td><td>&quot;..&quot;</td></tr><tr><td>&quot;Afghanistan&quot;</td><td>&quot;Asia&quot;</td><td>&quot;Diabetes prevalence (% of popu…</td><td>&quot;SH.STA.DIAB.ZS&quot;</td><td>&quot;..&quot;</td><td>&quot;..&quot;</td><td>&quot;..&quot;</td><td>&quot;..&quot;</td><td>&quot;..&quot;</td><td>&quot;..&quot;</td><td>&quot;..&quot;</td><td>&quot;..&quot;</td><td>&quot;..&quot;</td><td>&quot;..&quot;</td><td>&quot;..&quot;</td><td>&quot;..&quot;</td><td>&quot;..&quot;</td><td>&quot;..&quot;</td><td>&quot;..&quot;</td><td>&quot;..&quot;</td><td>&quot;..&quot;</td><td>&quot;..&quot;</td><td>&quot;..&quot;</td><td>&quot;..&quot;</td><td>&quot;..&quot;</td><td>&quot;..&quot;</td><td>&quot;..&quot;</td><td>&quot;..&quot;</td><td>&quot;..&quot;</td><td>&quot;..&quot;</td><td>&quot;..&quot;</td><td>&quot;..&quot;</td><td>&quot;..&quot;</td><td>&quot;..&quot;</td><td>&quot;..&quot;</td><td>&quot;..&quot;</td><td>&quot;..&quot;</td><td>&quot;..&quot;</td><td>&quot;..&quot;</td><td>&quot;..&quot;</td><td>&quot;..&quot;</td><td>&quot;..&quot;</td><td>&quot;..&quot;</td><td>&quot;..&quot;</td><td>&quot;..&quot;</td><td>&quot;..&quot;</td><td>&quot;..&quot;</td><td>&quot;..&quot;</td><td>&quot;..&quot;</td><td>&quot;..&quot;</td><td>&quot;..&quot;</td><td>&quot;..&quot;</td><td>&quot;..&quot;</td><td>&quot;..&quot;</td><td>&quot;..&quot;</td><td>7.6</td><td>&quot;..&quot;</td><td>&quot;..&quot;</td><td>&quot;..&quot;</td><td>&quot;..&quot;</td><td>&quot;..&quot;</td><td>&quot;..&quot;</td><td>&quot;..&quot;</td><td>&quot;..&quot;</td><td>&quot;..&quot;</td><td>&quot;10.9&quot;</td><td>&quot;..&quot;</td></tr><tr><td>&hellip;</td><td>&hellip;</td><td>&hellip;</td><td>&hellip;</td><td>&hellip;</td><td>&hellip;</td><td>&hellip;</td><td>&hellip;</td><td>&hellip;</td><td>&hellip;</td><td>&hellip;</td><td>&hellip;</td><td>&hellip;</td><td>&hellip;</td><td>&hellip;</td><td>&hellip;</td><td>&hellip;</td><td>&hellip;</td><td>&hellip;</td><td>&hellip;</td><td>&hellip;</td><td>&hellip;</td><td>&hellip;</td><td>&hellip;</td><td>&hellip;</td><td>&hellip;</td><td>&hellip;</td><td>&hellip;</td><td>&hellip;</td><td>&hellip;</td><td>&hellip;</td><td>&hellip;</td><td>&hellip;</td><td>&hellip;</td><td>&hellip;</td><td>&hellip;</td><td>&hellip;</td><td>&hellip;</td><td>&hellip;</td><td>&hellip;</td><td>&hellip;</td><td>&hellip;</td><td>&hellip;</td><td>&hellip;</td><td>&hellip;</td><td>&hellip;</td><td>&hellip;</td><td>&hellip;</td><td>&hellip;</td><td>&hellip;</td><td>&hellip;</td><td>&hellip;</td><td>&hellip;</td><td>&hellip;</td><td>&hellip;</td><td>&hellip;</td><td>&hellip;</td><td>&hellip;</td><td>&hellip;</td><td>&hellip;</td><td>&hellip;</td><td>&hellip;</td><td>&hellip;</td><td>&hellip;</td><td>&hellip;</td><td>&hellip;</td><td>&hellip;</td></tr><tr><td>null</td><td>null</td><td>null</td><td>null</td><td>null</td><td>null</td><td>null</td><td>null</td><td>null</td><td>null</td><td>null</td><td>null</td><td>null</td><td>null</td><td>null</td><td>null</td><td>null</td><td>null</td><td>null</td><td>null</td><td>null</td><td>null</td><td>null</td><td>null</td><td>null</td><td>null</td><td>null</td><td>null</td><td>null</td><td>null</td><td>null</td><td>null</td><td>null</td><td>null</td><td>null</td><td>null</td><td>null</td><td>null</td><td>null</td><td>null</td><td>null</td><td>null</td><td>null</td><td>null</td><td>null</td><td>null</td><td>null</td><td>null</td><td>null</td><td>null</td><td>null</td><td>null</td><td>null</td><td>null</td><td>null</td><td>null</td><td>null</td><td>null</td><td>null</td><td>null</td><td>null</td><td>null</td><td>null</td><td>null</td><td>null</td><td>null</td><td>null</td></tr><tr><td>null</td><td>null</td><td>null</td><td>null</td><td>null</td><td>null</td><td>null</td><td>null</td><td>null</td><td>null</td><td>null</td><td>null</td><td>null</td><td>null</td><td>null</td><td>null</td><td>null</td><td>null</td><td>null</td><td>null</td><td>null</td><td>null</td><td>null</td><td>null</td><td>null</td><td>null</td><td>null</td><td>null</td><td>null</td><td>null</td><td>null</td><td>null</td><td>null</td><td>null</td><td>null</td><td>null</td><td>null</td><td>null</td><td>null</td><td>null</td><td>null</td><td>null</td><td>null</td><td>null</td><td>null</td><td>null</td><td>null</td><td>null</td><td>null</td><td>null</td><td>null</td><td>null</td><td>null</td><td>null</td><td>null</td><td>null</td><td>null</td><td>null</td><td>null</td><td>null</td><td>null</td><td>null</td><td>null</td><td>null</td><td>null</td><td>null</td><td>null</td></tr><tr><td>null</td><td>null</td><td>null</td><td>null</td><td>null</td><td>null</td><td>null</td><td>null</td><td>null</td><td>null</td><td>null</td><td>null</td><td>null</td><td>null</td><td>null</td><td>null</td><td>null</td><td>null</td><td>null</td><td>null</td><td>null</td><td>null</td><td>null</td><td>null</td><td>null</td><td>null</td><td>null</td><td>null</td><td>null</td><td>null</td><td>null</td><td>null</td><td>null</td><td>null</td><td>null</td><td>null</td><td>null</td><td>null</td><td>null</td><td>null</td><td>null</td><td>null</td><td>null</td><td>null</td><td>null</td><td>null</td><td>null</td><td>null</td><td>null</td><td>null</td><td>null</td><td>null</td><td>null</td><td>null</td><td>null</td><td>null</td><td>null</td><td>null</td><td>null</td><td>null</td><td>null</td><td>null</td><td>null</td><td>null</td><td>null</td><td>null</td><td>null</td></tr><tr><td>&quot;Data from database: World Deve…</td><td>null</td><td>null</td><td>null</td><td>null</td><td>null</td><td>null</td><td>null</td><td>null</td><td>null</td><td>null</td><td>null</td><td>null</td><td>null</td><td>null</td><td>null</td><td>null</td><td>null</td><td>null</td><td>null</td><td>null</td><td>null</td><td>null</td><td>null</td><td>null</td><td>null</td><td>null</td><td>null</td><td>null</td><td>null</td><td>null</td><td>null</td><td>null</td><td>null</td><td>null</td><td>null</td><td>null</td><td>null</td><td>null</td><td>null</td><td>null</td><td>null</td><td>null</td><td>null</td><td>null</td><td>null</td><td>null</td><td>null</td><td>null</td><td>null</td><td>null</td><td>null</td><td>null</td><td>null</td><td>null</td><td>null</td><td>null</td><td>null</td><td>null</td><td>null</td><td>null</td><td>null</td><td>null</td><td>null</td><td>null</td><td>null</td><td>null</td></tr><tr><td>&quot;Last Updated: 10/26/2023&quot;</td><td>null</td><td>null</td><td>null</td><td>null</td><td>null</td><td>null</td><td>null</td><td>null</td><td>null</td><td>null</td><td>null</td><td>null</td><td>null</td><td>null</td><td>null</td><td>null</td><td>null</td><td>null</td><td>null</td><td>null</td><td>null</td><td>null</td><td>null</td><td>null</td><td>null</td><td>null</td><td>null</td><td>null</td><td>null</td><td>null</td><td>null</td><td>null</td><td>null</td><td>null</td><td>null</td><td>null</td><td>null</td><td>null</td><td>null</td><td>null</td><td>null</td><td>null</td><td>null</td><td>null</td><td>null</td><td>null</td><td>null</td><td>null</td><td>null</td><td>null</td><td>null</td><td>null</td><td>null</td><td>null</td><td>null</td><td>null</td><td>null</td><td>null</td><td>null</td><td>null</td><td>null</td><td>null</td><td>null</td><td>null</td><td>null</td><td>null</td></tr></tbody></table></div>"
      ],
      "text/plain": [
       "shape: (10_173, 67)\n",
       "┌────────────┬────────┬────────────┬───────────┬───┬───────────┬───────────┬───────────┬───────────┐\n",
       "│ Country    ┆ Region ┆ Series     ┆ Series    ┆ … ┆ 2019      ┆ 2020      ┆ 2021      ┆ 2022      │\n",
       "│ Name       ┆ ---    ┆ Name       ┆ Code      ┆   ┆ [YR2019]  ┆ [YR2020]  ┆ [YR2021]  ┆ [YR2022]  │\n",
       "│ ---        ┆ str    ┆ ---        ┆ ---       ┆   ┆ ---       ┆ ---       ┆ ---       ┆ ---       │\n",
       "│ str        ┆        ┆ str        ┆ str       ┆   ┆ str       ┆ str       ┆ str       ┆ str       │\n",
       "╞════════════╪════════╪════════════╪═══════════╪═══╪═══════════╪═══════════╪═══════════╪═══════════╡\n",
       "│ Afghanista ┆ Asia   ┆ Diabetes   ┆ SH.STA.DI ┆ … ┆ ..        ┆ ..        ┆ 10.9      ┆ ..        │\n",
       "│ n          ┆        ┆ prevalence ┆ AB.ZS     ┆   ┆           ┆           ┆           ┆           │\n",
       "│            ┆        ┆ (% of      ┆           ┆   ┆           ┆           ┆           ┆           │\n",
       "│            ┆        ┆ popu…      ┆           ┆   ┆           ┆           ┆           ┆           │\n",
       "│ Afghanista ┆ Asia   ┆ Diabetes   ┆ SH.STA.DI ┆ … ┆ ..        ┆ ..        ┆ 10.9      ┆ ..        │\n",
       "│ n          ┆        ┆ prevalence ┆ AB.ZS     ┆   ┆           ┆           ┆           ┆           │\n",
       "│            ┆        ┆ (% of      ┆           ┆   ┆           ┆           ┆           ┆           │\n",
       "│            ┆        ┆ popu…      ┆           ┆   ┆           ┆           ┆           ┆           │\n",
       "│ Afghanista ┆ Asia   ┆ Diabetes   ┆ SH.STA.DI ┆ … ┆ ..        ┆ ..        ┆ 10.9      ┆ ..        │\n",
       "│ n          ┆        ┆ prevalence ┆ AB.ZS     ┆   ┆           ┆           ┆           ┆           │\n",
       "│            ┆        ┆ (% of      ┆           ┆   ┆           ┆           ┆           ┆           │\n",
       "│            ┆        ┆ popu…      ┆           ┆   ┆           ┆           ┆           ┆           │\n",
       "│ Afghanista ┆ Asia   ┆ Diabetes   ┆ SH.STA.DI ┆ … ┆ ..        ┆ ..        ┆ 10.9      ┆ ..        │\n",
       "│ n          ┆        ┆ prevalence ┆ AB.ZS     ┆   ┆           ┆           ┆           ┆           │\n",
       "│            ┆        ┆ (% of      ┆           ┆   ┆           ┆           ┆           ┆           │\n",
       "│            ┆        ┆ popu…      ┆           ┆   ┆           ┆           ┆           ┆           │\n",
       "│ Afghanista ┆ Asia   ┆ Diabetes   ┆ SH.STA.DI ┆ … ┆ ..        ┆ ..        ┆ 10.9      ┆ ..        │\n",
       "│ n          ┆        ┆ prevalence ┆ AB.ZS     ┆   ┆           ┆           ┆           ┆           │\n",
       "│            ┆        ┆ (% of      ┆           ┆   ┆           ┆           ┆           ┆           │\n",
       "│            ┆        ┆ popu…      ┆           ┆   ┆           ┆           ┆           ┆           │\n",
       "│ …          ┆ …      ┆ …          ┆ …         ┆ … ┆ …         ┆ …         ┆ …         ┆ …         │\n",
       "│ null       ┆ null   ┆ null       ┆ null      ┆ … ┆ null      ┆ null      ┆ null      ┆ null      │\n",
       "│ null       ┆ null   ┆ null       ┆ null      ┆ … ┆ null      ┆ null      ┆ null      ┆ null      │\n",
       "│ null       ┆ null   ┆ null       ┆ null      ┆ … ┆ null      ┆ null      ┆ null      ┆ null      │\n",
       "│ Data from  ┆ null   ┆ null       ┆ null      ┆ … ┆ null      ┆ null      ┆ null      ┆ null      │\n",
       "│ database:  ┆        ┆            ┆           ┆   ┆           ┆           ┆           ┆           │\n",
       "│ World      ┆        ┆            ┆           ┆   ┆           ┆           ┆           ┆           │\n",
       "│ Deve…      ┆        ┆            ┆           ┆   ┆           ┆           ┆           ┆           │\n",
       "│ Last       ┆ null   ┆ null       ┆ null      ┆ … ┆ null      ┆ null      ┆ null      ┆ null      │\n",
       "│ Updated:   ┆        ┆            ┆           ┆   ┆           ┆           ┆           ┆           │\n",
       "│ 10/26/2023 ┆        ┆            ┆           ┆   ┆           ┆           ┆           ┆           │\n",
       "└────────────┴────────┴────────────┴───────────┴───┴───────────┴───────────┴───────────┴───────────┘"
      ]
     },
     "execution_count": 77,
     "metadata": {},
     "output_type": "execute_result"
    }
   ],
   "source": [
    "(WB_dev_ind :=\n",
    " pl.read_csv('./data/world_bank_raw_download_F23.csv',\n",
    "                 ignore_errors=True  # skip over problematic rows\n",
    "\n",
    "             )\n",
    "    \n",
    ")"
   ]
  },
  {
   "cell_type": "markdown",
   "id": "d88dc3fd-6ad9-412a-a292-e20dd6f36358",
   "metadata": {},
   "source": [
    "#### Attempt 2\n",
    "\n",
    "Let's use the first hint and extend the infer schema length."
   ]
  },
  {
   "cell_type": "code",
   "execution_count": 78,
   "id": "67c0f14d-94e8-49cd-a48e-56e9d81ad2d6",
   "metadata": {},
   "outputs": [
    {
     "data": {
      "text/html": [
       "<div><style>\n",
       ".dataframe > thead > tr,\n",
       ".dataframe > tbody > tr {\n",
       "  text-align: right;\n",
       "  white-space: pre-wrap;\n",
       "}\n",
       "</style>\n",
       "<small>shape: (10_173, 67)</small><table border=\"1\" class=\"dataframe\"><thead><tr><th>Country Name</th><th>Region</th><th>Series Name</th><th>Series Code</th><th>1960 [YR1960]</th><th>1961 [YR1961]</th><th>1962 [YR1962]</th><th>1963 [YR1963]</th><th>1964 [YR1964]</th><th>1965 [YR1965]</th><th>1966 [YR1966]</th><th>1967 [YR1967]</th><th>1968 [YR1968]</th><th>1969 [YR1969]</th><th>1970 [YR1970]</th><th>1971 [YR1971]</th><th>1972 [YR1972]</th><th>1973 [YR1973]</th><th>1974 [YR1974]</th><th>1975 [YR1975]</th><th>1976 [YR1976]</th><th>1977 [YR1977]</th><th>1978 [YR1978]</th><th>1979 [YR1979]</th><th>1980 [YR1980]</th><th>1981 [YR1981]</th><th>1982 [YR1982]</th><th>1983 [YR1983]</th><th>1984 [YR1984]</th><th>1985 [YR1985]</th><th>1986 [YR1986]</th><th>1987 [YR1987]</th><th>1988 [YR1988]</th><th>1989 [YR1989]</th><th>1990 [YR1990]</th><th>1991 [YR1991]</th><th>1992 [YR1992]</th><th>1993 [YR1993]</th><th>1994 [YR1994]</th><th>1995 [YR1995]</th><th>1996 [YR1996]</th><th>1997 [YR1997]</th><th>1998 [YR1998]</th><th>1999 [YR1999]</th><th>2000 [YR2000]</th><th>2001 [YR2001]</th><th>2002 [YR2002]</th><th>2003 [YR2003]</th><th>2004 [YR2004]</th><th>2005 [YR2005]</th><th>2006 [YR2006]</th><th>2007 [YR2007]</th><th>2008 [YR2008]</th><th>2009 [YR2009]</th><th>2010 [YR2010]</th><th>2011 [YR2011]</th><th>2012 [YR2012]</th><th>2013 [YR2013]</th><th>2014 [YR2014]</th><th>2015 [YR2015]</th><th>2016 [YR2016]</th><th>2017 [YR2017]</th><th>2018 [YR2018]</th><th>2019 [YR2019]</th><th>2020 [YR2020]</th><th>2021 [YR2021]</th><th>2022 [YR2022]</th></tr><tr><td>str</td><td>str</td><td>str</td><td>str</td><td>str</td><td>str</td><td>str</td><td>str</td><td>str</td><td>str</td><td>str</td><td>str</td><td>str</td><td>str</td><td>str</td><td>str</td><td>str</td><td>str</td><td>str</td><td>str</td><td>str</td><td>str</td><td>str</td><td>str</td><td>str</td><td>str</td><td>str</td><td>str</td><td>str</td><td>str</td><td>str</td><td>str</td><td>str</td><td>str</td><td>str</td><td>str</td><td>str</td><td>str</td><td>str</td><td>str</td><td>str</td><td>str</td><td>str</td><td>str</td><td>str</td><td>str</td><td>str</td><td>str</td><td>str</td><td>str</td><td>str</td><td>str</td><td>str</td><td>str</td><td>str</td><td>str</td><td>str</td><td>str</td><td>str</td><td>str</td><td>str</td><td>str</td><td>str</td><td>str</td><td>str</td><td>str</td><td>str</td></tr></thead><tbody><tr><td>&quot;Afghanistan&quot;</td><td>&quot;Asia&quot;</td><td>&quot;Diabetes prevalence (% of popu…</td><td>&quot;SH.STA.DIAB.ZS&quot;</td><td>&quot;..&quot;</td><td>&quot;..&quot;</td><td>&quot;..&quot;</td><td>&quot;..&quot;</td><td>&quot;..&quot;</td><td>&quot;..&quot;</td><td>&quot;..&quot;</td><td>&quot;..&quot;</td><td>&quot;..&quot;</td><td>&quot;..&quot;</td><td>&quot;..&quot;</td><td>&quot;..&quot;</td><td>&quot;..&quot;</td><td>&quot;..&quot;</td><td>&quot;..&quot;</td><td>&quot;..&quot;</td><td>&quot;..&quot;</td><td>&quot;..&quot;</td><td>&quot;..&quot;</td><td>&quot;..&quot;</td><td>&quot;..&quot;</td><td>&quot;..&quot;</td><td>&quot;..&quot;</td><td>&quot;..&quot;</td><td>&quot;..&quot;</td><td>&quot;..&quot;</td><td>&quot;..&quot;</td><td>&quot;..&quot;</td><td>&quot;..&quot;</td><td>&quot;..&quot;</td><td>&quot;..&quot;</td><td>&quot;..&quot;</td><td>&quot;..&quot;</td><td>&quot;..&quot;</td><td>&quot;..&quot;</td><td>&quot;..&quot;</td><td>&quot;..&quot;</td><td>&quot;..&quot;</td><td>&quot;..&quot;</td><td>&quot;..&quot;</td><td>&quot;..&quot;</td><td>&quot;..&quot;</td><td>&quot;..&quot;</td><td>&quot;..&quot;</td><td>&quot;..&quot;</td><td>&quot;..&quot;</td><td>&quot;..&quot;</td><td>&quot;..&quot;</td><td>&quot;..&quot;</td><td>&quot;..&quot;</td><td>&quot;..&quot;</td><td>&quot;7.6&quot;</td><td>&quot;..&quot;</td><td>&quot;..&quot;</td><td>&quot;..&quot;</td><td>&quot;..&quot;</td><td>&quot;..&quot;</td><td>&quot;..&quot;</td><td>&quot;..&quot;</td><td>&quot;..&quot;</td><td>&quot;..&quot;</td><td>&quot;10.9&quot;</td><td>&quot;..&quot;</td></tr><tr><td>&quot;Afghanistan&quot;</td><td>&quot;Asia&quot;</td><td>&quot;Diabetes prevalence (% of popu…</td><td>&quot;SH.STA.DIAB.ZS&quot;</td><td>&quot;..&quot;</td><td>&quot;..&quot;</td><td>&quot;..&quot;</td><td>&quot;..&quot;</td><td>&quot;..&quot;</td><td>&quot;..&quot;</td><td>&quot;..&quot;</td><td>&quot;..&quot;</td><td>&quot;..&quot;</td><td>&quot;..&quot;</td><td>&quot;..&quot;</td><td>&quot;..&quot;</td><td>&quot;..&quot;</td><td>&quot;..&quot;</td><td>&quot;..&quot;</td><td>&quot;..&quot;</td><td>&quot;..&quot;</td><td>&quot;..&quot;</td><td>&quot;..&quot;</td><td>&quot;..&quot;</td><td>&quot;..&quot;</td><td>&quot;..&quot;</td><td>&quot;..&quot;</td><td>&quot;..&quot;</td><td>&quot;..&quot;</td><td>&quot;..&quot;</td><td>&quot;..&quot;</td><td>&quot;..&quot;</td><td>&quot;..&quot;</td><td>&quot;..&quot;</td><td>&quot;..&quot;</td><td>&quot;..&quot;</td><td>&quot;..&quot;</td><td>&quot;..&quot;</td><td>&quot;..&quot;</td><td>&quot;..&quot;</td><td>&quot;..&quot;</td><td>&quot;..&quot;</td><td>&quot;..&quot;</td><td>&quot;..&quot;</td><td>&quot;..&quot;</td><td>&quot;..&quot;</td><td>&quot;..&quot;</td><td>&quot;..&quot;</td><td>&quot;..&quot;</td><td>&quot;..&quot;</td><td>&quot;..&quot;</td><td>&quot;..&quot;</td><td>&quot;..&quot;</td><td>&quot;..&quot;</td><td>&quot;..&quot;</td><td>&quot;7.6&quot;</td><td>&quot;..&quot;</td><td>&quot;..&quot;</td><td>&quot;..&quot;</td><td>&quot;..&quot;</td><td>&quot;..&quot;</td><td>&quot;..&quot;</td><td>&quot;..&quot;</td><td>&quot;..&quot;</td><td>&quot;..&quot;</td><td>&quot;10.9&quot;</td><td>&quot;..&quot;</td></tr><tr><td>&quot;Afghanistan&quot;</td><td>&quot;Asia&quot;</td><td>&quot;Diabetes prevalence (% of popu…</td><td>&quot;SH.STA.DIAB.ZS&quot;</td><td>&quot;..&quot;</td><td>&quot;..&quot;</td><td>&quot;..&quot;</td><td>&quot;..&quot;</td><td>&quot;..&quot;</td><td>&quot;..&quot;</td><td>&quot;..&quot;</td><td>&quot;..&quot;</td><td>&quot;..&quot;</td><td>&quot;..&quot;</td><td>&quot;..&quot;</td><td>&quot;..&quot;</td><td>&quot;..&quot;</td><td>&quot;..&quot;</td><td>&quot;..&quot;</td><td>&quot;..&quot;</td><td>&quot;..&quot;</td><td>&quot;..&quot;</td><td>&quot;..&quot;</td><td>&quot;..&quot;</td><td>&quot;..&quot;</td><td>&quot;..&quot;</td><td>&quot;..&quot;</td><td>&quot;..&quot;</td><td>&quot;..&quot;</td><td>&quot;..&quot;</td><td>&quot;..&quot;</td><td>&quot;..&quot;</td><td>&quot;..&quot;</td><td>&quot;..&quot;</td><td>&quot;..&quot;</td><td>&quot;..&quot;</td><td>&quot;..&quot;</td><td>&quot;..&quot;</td><td>&quot;..&quot;</td><td>&quot;..&quot;</td><td>&quot;..&quot;</td><td>&quot;..&quot;</td><td>&quot;..&quot;</td><td>&quot;..&quot;</td><td>&quot;..&quot;</td><td>&quot;..&quot;</td><td>&quot;..&quot;</td><td>&quot;..&quot;</td><td>&quot;..&quot;</td><td>&quot;..&quot;</td><td>&quot;..&quot;</td><td>&quot;..&quot;</td><td>&quot;..&quot;</td><td>&quot;..&quot;</td><td>&quot;..&quot;</td><td>&quot;7.6&quot;</td><td>&quot;..&quot;</td><td>&quot;..&quot;</td><td>&quot;..&quot;</td><td>&quot;..&quot;</td><td>&quot;..&quot;</td><td>&quot;..&quot;</td><td>&quot;..&quot;</td><td>&quot;..&quot;</td><td>&quot;..&quot;</td><td>&quot;10.9&quot;</td><td>&quot;..&quot;</td></tr><tr><td>&quot;Afghanistan&quot;</td><td>&quot;Asia&quot;</td><td>&quot;Diabetes prevalence (% of popu…</td><td>&quot;SH.STA.DIAB.ZS&quot;</td><td>&quot;..&quot;</td><td>&quot;..&quot;</td><td>&quot;..&quot;</td><td>&quot;..&quot;</td><td>&quot;..&quot;</td><td>&quot;..&quot;</td><td>&quot;..&quot;</td><td>&quot;..&quot;</td><td>&quot;..&quot;</td><td>&quot;..&quot;</td><td>&quot;..&quot;</td><td>&quot;..&quot;</td><td>&quot;..&quot;</td><td>&quot;..&quot;</td><td>&quot;..&quot;</td><td>&quot;..&quot;</td><td>&quot;..&quot;</td><td>&quot;..&quot;</td><td>&quot;..&quot;</td><td>&quot;..&quot;</td><td>&quot;..&quot;</td><td>&quot;..&quot;</td><td>&quot;..&quot;</td><td>&quot;..&quot;</td><td>&quot;..&quot;</td><td>&quot;..&quot;</td><td>&quot;..&quot;</td><td>&quot;..&quot;</td><td>&quot;..&quot;</td><td>&quot;..&quot;</td><td>&quot;..&quot;</td><td>&quot;..&quot;</td><td>&quot;..&quot;</td><td>&quot;..&quot;</td><td>&quot;..&quot;</td><td>&quot;..&quot;</td><td>&quot;..&quot;</td><td>&quot;..&quot;</td><td>&quot;..&quot;</td><td>&quot;..&quot;</td><td>&quot;..&quot;</td><td>&quot;..&quot;</td><td>&quot;..&quot;</td><td>&quot;..&quot;</td><td>&quot;..&quot;</td><td>&quot;..&quot;</td><td>&quot;..&quot;</td><td>&quot;..&quot;</td><td>&quot;..&quot;</td><td>&quot;..&quot;</td><td>&quot;..&quot;</td><td>&quot;7.6&quot;</td><td>&quot;..&quot;</td><td>&quot;..&quot;</td><td>&quot;..&quot;</td><td>&quot;..&quot;</td><td>&quot;..&quot;</td><td>&quot;..&quot;</td><td>&quot;..&quot;</td><td>&quot;..&quot;</td><td>&quot;..&quot;</td><td>&quot;10.9&quot;</td><td>&quot;..&quot;</td></tr><tr><td>&quot;Afghanistan&quot;</td><td>&quot;Asia&quot;</td><td>&quot;Diabetes prevalence (% of popu…</td><td>&quot;SH.STA.DIAB.ZS&quot;</td><td>&quot;..&quot;</td><td>&quot;..&quot;</td><td>&quot;..&quot;</td><td>&quot;..&quot;</td><td>&quot;..&quot;</td><td>&quot;..&quot;</td><td>&quot;..&quot;</td><td>&quot;..&quot;</td><td>&quot;..&quot;</td><td>&quot;..&quot;</td><td>&quot;..&quot;</td><td>&quot;..&quot;</td><td>&quot;..&quot;</td><td>&quot;..&quot;</td><td>&quot;..&quot;</td><td>&quot;..&quot;</td><td>&quot;..&quot;</td><td>&quot;..&quot;</td><td>&quot;..&quot;</td><td>&quot;..&quot;</td><td>&quot;..&quot;</td><td>&quot;..&quot;</td><td>&quot;..&quot;</td><td>&quot;..&quot;</td><td>&quot;..&quot;</td><td>&quot;..&quot;</td><td>&quot;..&quot;</td><td>&quot;..&quot;</td><td>&quot;..&quot;</td><td>&quot;..&quot;</td><td>&quot;..&quot;</td><td>&quot;..&quot;</td><td>&quot;..&quot;</td><td>&quot;..&quot;</td><td>&quot;..&quot;</td><td>&quot;..&quot;</td><td>&quot;..&quot;</td><td>&quot;..&quot;</td><td>&quot;..&quot;</td><td>&quot;..&quot;</td><td>&quot;..&quot;</td><td>&quot;..&quot;</td><td>&quot;..&quot;</td><td>&quot;..&quot;</td><td>&quot;..&quot;</td><td>&quot;..&quot;</td><td>&quot;..&quot;</td><td>&quot;..&quot;</td><td>&quot;..&quot;</td><td>&quot;..&quot;</td><td>&quot;..&quot;</td><td>&quot;7.6&quot;</td><td>&quot;..&quot;</td><td>&quot;..&quot;</td><td>&quot;..&quot;</td><td>&quot;..&quot;</td><td>&quot;..&quot;</td><td>&quot;..&quot;</td><td>&quot;..&quot;</td><td>&quot;..&quot;</td><td>&quot;..&quot;</td><td>&quot;10.9&quot;</td><td>&quot;..&quot;</td></tr><tr><td>&hellip;</td><td>&hellip;</td><td>&hellip;</td><td>&hellip;</td><td>&hellip;</td><td>&hellip;</td><td>&hellip;</td><td>&hellip;</td><td>&hellip;</td><td>&hellip;</td><td>&hellip;</td><td>&hellip;</td><td>&hellip;</td><td>&hellip;</td><td>&hellip;</td><td>&hellip;</td><td>&hellip;</td><td>&hellip;</td><td>&hellip;</td><td>&hellip;</td><td>&hellip;</td><td>&hellip;</td><td>&hellip;</td><td>&hellip;</td><td>&hellip;</td><td>&hellip;</td><td>&hellip;</td><td>&hellip;</td><td>&hellip;</td><td>&hellip;</td><td>&hellip;</td><td>&hellip;</td><td>&hellip;</td><td>&hellip;</td><td>&hellip;</td><td>&hellip;</td><td>&hellip;</td><td>&hellip;</td><td>&hellip;</td><td>&hellip;</td><td>&hellip;</td><td>&hellip;</td><td>&hellip;</td><td>&hellip;</td><td>&hellip;</td><td>&hellip;</td><td>&hellip;</td><td>&hellip;</td><td>&hellip;</td><td>&hellip;</td><td>&hellip;</td><td>&hellip;</td><td>&hellip;</td><td>&hellip;</td><td>&hellip;</td><td>&hellip;</td><td>&hellip;</td><td>&hellip;</td><td>&hellip;</td><td>&hellip;</td><td>&hellip;</td><td>&hellip;</td><td>&hellip;</td><td>&hellip;</td><td>&hellip;</td><td>&hellip;</td><td>&hellip;</td></tr><tr><td>null</td><td>null</td><td>null</td><td>null</td><td>null</td><td>null</td><td>null</td><td>null</td><td>null</td><td>null</td><td>null</td><td>null</td><td>null</td><td>null</td><td>null</td><td>null</td><td>null</td><td>null</td><td>null</td><td>null</td><td>null</td><td>null</td><td>null</td><td>null</td><td>null</td><td>null</td><td>null</td><td>null</td><td>null</td><td>null</td><td>null</td><td>null</td><td>null</td><td>null</td><td>null</td><td>null</td><td>null</td><td>null</td><td>null</td><td>null</td><td>null</td><td>null</td><td>null</td><td>null</td><td>null</td><td>null</td><td>null</td><td>null</td><td>null</td><td>null</td><td>null</td><td>null</td><td>null</td><td>null</td><td>null</td><td>null</td><td>null</td><td>null</td><td>null</td><td>null</td><td>null</td><td>null</td><td>null</td><td>null</td><td>null</td><td>null</td><td>null</td></tr><tr><td>null</td><td>null</td><td>null</td><td>null</td><td>null</td><td>null</td><td>null</td><td>null</td><td>null</td><td>null</td><td>null</td><td>null</td><td>null</td><td>null</td><td>null</td><td>null</td><td>null</td><td>null</td><td>null</td><td>null</td><td>null</td><td>null</td><td>null</td><td>null</td><td>null</td><td>null</td><td>null</td><td>null</td><td>null</td><td>null</td><td>null</td><td>null</td><td>null</td><td>null</td><td>null</td><td>null</td><td>null</td><td>null</td><td>null</td><td>null</td><td>null</td><td>null</td><td>null</td><td>null</td><td>null</td><td>null</td><td>null</td><td>null</td><td>null</td><td>null</td><td>null</td><td>null</td><td>null</td><td>null</td><td>null</td><td>null</td><td>null</td><td>null</td><td>null</td><td>null</td><td>null</td><td>null</td><td>null</td><td>null</td><td>null</td><td>null</td><td>null</td></tr><tr><td>null</td><td>null</td><td>null</td><td>null</td><td>null</td><td>null</td><td>null</td><td>null</td><td>null</td><td>null</td><td>null</td><td>null</td><td>null</td><td>null</td><td>null</td><td>null</td><td>null</td><td>null</td><td>null</td><td>null</td><td>null</td><td>null</td><td>null</td><td>null</td><td>null</td><td>null</td><td>null</td><td>null</td><td>null</td><td>null</td><td>null</td><td>null</td><td>null</td><td>null</td><td>null</td><td>null</td><td>null</td><td>null</td><td>null</td><td>null</td><td>null</td><td>null</td><td>null</td><td>null</td><td>null</td><td>null</td><td>null</td><td>null</td><td>null</td><td>null</td><td>null</td><td>null</td><td>null</td><td>null</td><td>null</td><td>null</td><td>null</td><td>null</td><td>null</td><td>null</td><td>null</td><td>null</td><td>null</td><td>null</td><td>null</td><td>null</td><td>null</td></tr><tr><td>&quot;Data from database: World Deve…</td><td>null</td><td>null</td><td>null</td><td>null</td><td>null</td><td>null</td><td>null</td><td>null</td><td>null</td><td>null</td><td>null</td><td>null</td><td>null</td><td>null</td><td>null</td><td>null</td><td>null</td><td>null</td><td>null</td><td>null</td><td>null</td><td>null</td><td>null</td><td>null</td><td>null</td><td>null</td><td>null</td><td>null</td><td>null</td><td>null</td><td>null</td><td>null</td><td>null</td><td>null</td><td>null</td><td>null</td><td>null</td><td>null</td><td>null</td><td>null</td><td>null</td><td>null</td><td>null</td><td>null</td><td>null</td><td>null</td><td>null</td><td>null</td><td>null</td><td>null</td><td>null</td><td>null</td><td>null</td><td>null</td><td>null</td><td>null</td><td>null</td><td>null</td><td>null</td><td>null</td><td>null</td><td>null</td><td>null</td><td>null</td><td>null</td><td>null</td></tr><tr><td>&quot;Last Updated: 10/26/2023&quot;</td><td>null</td><td>null</td><td>null</td><td>null</td><td>null</td><td>null</td><td>null</td><td>null</td><td>null</td><td>null</td><td>null</td><td>null</td><td>null</td><td>null</td><td>null</td><td>null</td><td>null</td><td>null</td><td>null</td><td>null</td><td>null</td><td>null</td><td>null</td><td>null</td><td>null</td><td>null</td><td>null</td><td>null</td><td>null</td><td>null</td><td>null</td><td>null</td><td>null</td><td>null</td><td>null</td><td>null</td><td>null</td><td>null</td><td>null</td><td>null</td><td>null</td><td>null</td><td>null</td><td>null</td><td>null</td><td>null</td><td>null</td><td>null</td><td>null</td><td>null</td><td>null</td><td>null</td><td>null</td><td>null</td><td>null</td><td>null</td><td>null</td><td>null</td><td>null</td><td>null</td><td>null</td><td>null</td><td>null</td><td>null</td><td>null</td><td>null</td></tr></tbody></table></div>"
      ],
      "text/plain": [
       "shape: (10_173, 67)\n",
       "┌────────────┬────────┬────────────┬───────────┬───┬───────────┬───────────┬───────────┬───────────┐\n",
       "│ Country    ┆ Region ┆ Series     ┆ Series    ┆ … ┆ 2019      ┆ 2020      ┆ 2021      ┆ 2022      │\n",
       "│ Name       ┆ ---    ┆ Name       ┆ Code      ┆   ┆ [YR2019]  ┆ [YR2020]  ┆ [YR2021]  ┆ [YR2022]  │\n",
       "│ ---        ┆ str    ┆ ---        ┆ ---       ┆   ┆ ---       ┆ ---       ┆ ---       ┆ ---       │\n",
       "│ str        ┆        ┆ str        ┆ str       ┆   ┆ str       ┆ str       ┆ str       ┆ str       │\n",
       "╞════════════╪════════╪════════════╪═══════════╪═══╪═══════════╪═══════════╪═══════════╪═══════════╡\n",
       "│ Afghanista ┆ Asia   ┆ Diabetes   ┆ SH.STA.DI ┆ … ┆ ..        ┆ ..        ┆ 10.9      ┆ ..        │\n",
       "│ n          ┆        ┆ prevalence ┆ AB.ZS     ┆   ┆           ┆           ┆           ┆           │\n",
       "│            ┆        ┆ (% of      ┆           ┆   ┆           ┆           ┆           ┆           │\n",
       "│            ┆        ┆ popu…      ┆           ┆   ┆           ┆           ┆           ┆           │\n",
       "│ Afghanista ┆ Asia   ┆ Diabetes   ┆ SH.STA.DI ┆ … ┆ ..        ┆ ..        ┆ 10.9      ┆ ..        │\n",
       "│ n          ┆        ┆ prevalence ┆ AB.ZS     ┆   ┆           ┆           ┆           ┆           │\n",
       "│            ┆        ┆ (% of      ┆           ┆   ┆           ┆           ┆           ┆           │\n",
       "│            ┆        ┆ popu…      ┆           ┆   ┆           ┆           ┆           ┆           │\n",
       "│ Afghanista ┆ Asia   ┆ Diabetes   ┆ SH.STA.DI ┆ … ┆ ..        ┆ ..        ┆ 10.9      ┆ ..        │\n",
       "│ n          ┆        ┆ prevalence ┆ AB.ZS     ┆   ┆           ┆           ┆           ┆           │\n",
       "│            ┆        ┆ (% of      ┆           ┆   ┆           ┆           ┆           ┆           │\n",
       "│            ┆        ┆ popu…      ┆           ┆   ┆           ┆           ┆           ┆           │\n",
       "│ Afghanista ┆ Asia   ┆ Diabetes   ┆ SH.STA.DI ┆ … ┆ ..        ┆ ..        ┆ 10.9      ┆ ..        │\n",
       "│ n          ┆        ┆ prevalence ┆ AB.ZS     ┆   ┆           ┆           ┆           ┆           │\n",
       "│            ┆        ┆ (% of      ┆           ┆   ┆           ┆           ┆           ┆           │\n",
       "│            ┆        ┆ popu…      ┆           ┆   ┆           ┆           ┆           ┆           │\n",
       "│ Afghanista ┆ Asia   ┆ Diabetes   ┆ SH.STA.DI ┆ … ┆ ..        ┆ ..        ┆ 10.9      ┆ ..        │\n",
       "│ n          ┆        ┆ prevalence ┆ AB.ZS     ┆   ┆           ┆           ┆           ┆           │\n",
       "│            ┆        ┆ (% of      ┆           ┆   ┆           ┆           ┆           ┆           │\n",
       "│            ┆        ┆ popu…      ┆           ┆   ┆           ┆           ┆           ┆           │\n",
       "│ …          ┆ …      ┆ …          ┆ …         ┆ … ┆ …         ┆ …         ┆ …         ┆ …         │\n",
       "│ null       ┆ null   ┆ null       ┆ null      ┆ … ┆ null      ┆ null      ┆ null      ┆ null      │\n",
       "│ null       ┆ null   ┆ null       ┆ null      ┆ … ┆ null      ┆ null      ┆ null      ┆ null      │\n",
       "│ null       ┆ null   ┆ null       ┆ null      ┆ … ┆ null      ┆ null      ┆ null      ┆ null      │\n",
       "│ Data from  ┆ null   ┆ null       ┆ null      ┆ … ┆ null      ┆ null      ┆ null      ┆ null      │\n",
       "│ database:  ┆        ┆            ┆           ┆   ┆           ┆           ┆           ┆           │\n",
       "│ World      ┆        ┆            ┆           ┆   ┆           ┆           ┆           ┆           │\n",
       "│ Deve…      ┆        ┆            ┆           ┆   ┆           ┆           ┆           ┆           │\n",
       "│ Last       ┆ null   ┆ null       ┆ null      ┆ … ┆ null      ┆ null      ┆ null      ┆ null      │\n",
       "│ Updated:   ┆        ┆            ┆           ┆   ┆           ┆           ┆           ┆           │\n",
       "│ 10/26/2023 ┆        ┆            ┆           ┆   ┆           ┆           ┆           ┆           │\n",
       "└────────────┴────────┴────────────┴───────────┴───┴───────────┴───────────┴───────────┴───────────┘"
      ]
     },
     "execution_count": 78,
     "metadata": {},
     "output_type": "execute_result"
    }
   ],
   "source": [
    "(WB_dev_ind :=\n",
    " pl.read_csv('./data/world_bank_raw_download_F23.csv', \n",
    "             infer_schema_length=10000,\n",
    "            )\n",
    ")"
   ]
  },
  {
   "cell_type": "markdown",
   "id": "ba511487-d143-4160-9ab7-36c4e4276cd5",
   "metadata": {},
   "source": [
    "#### Attempt 3\n",
    "\n",
    "Looks like missing data is expressed as `\"..\"`, let's add that as the `null_value`."
   ]
  },
  {
   "cell_type": "code",
   "execution_count": 79,
   "id": "6ff1055f-ca6a-43c2-9dde-81802a1967f2",
   "metadata": {
    "scrolled": true
   },
   "outputs": [
    {
     "data": {
      "text/html": [
       "<div><style>\n",
       ".dataframe > thead > tr,\n",
       ".dataframe > tbody > tr {\n",
       "  text-align: right;\n",
       "  white-space: pre-wrap;\n",
       "}\n",
       "</style>\n",
       "<small>shape: (10_173, 67)</small><table border=\"1\" class=\"dataframe\"><thead><tr><th>Country Name</th><th>Region</th><th>Series Name</th><th>Series Code</th><th>1960 [YR1960]</th><th>1961 [YR1961]</th><th>1962 [YR1962]</th><th>1963 [YR1963]</th><th>1964 [YR1964]</th><th>1965 [YR1965]</th><th>1966 [YR1966]</th><th>1967 [YR1967]</th><th>1968 [YR1968]</th><th>1969 [YR1969]</th><th>1970 [YR1970]</th><th>1971 [YR1971]</th><th>1972 [YR1972]</th><th>1973 [YR1973]</th><th>1974 [YR1974]</th><th>1975 [YR1975]</th><th>1976 [YR1976]</th><th>1977 [YR1977]</th><th>1978 [YR1978]</th><th>1979 [YR1979]</th><th>1980 [YR1980]</th><th>1981 [YR1981]</th><th>1982 [YR1982]</th><th>1983 [YR1983]</th><th>1984 [YR1984]</th><th>1985 [YR1985]</th><th>1986 [YR1986]</th><th>1987 [YR1987]</th><th>1988 [YR1988]</th><th>1989 [YR1989]</th><th>1990 [YR1990]</th><th>1991 [YR1991]</th><th>1992 [YR1992]</th><th>1993 [YR1993]</th><th>1994 [YR1994]</th><th>1995 [YR1995]</th><th>1996 [YR1996]</th><th>1997 [YR1997]</th><th>1998 [YR1998]</th><th>1999 [YR1999]</th><th>2000 [YR2000]</th><th>2001 [YR2001]</th><th>2002 [YR2002]</th><th>2003 [YR2003]</th><th>2004 [YR2004]</th><th>2005 [YR2005]</th><th>2006 [YR2006]</th><th>2007 [YR2007]</th><th>2008 [YR2008]</th><th>2009 [YR2009]</th><th>2010 [YR2010]</th><th>2011 [YR2011]</th><th>2012 [YR2012]</th><th>2013 [YR2013]</th><th>2014 [YR2014]</th><th>2015 [YR2015]</th><th>2016 [YR2016]</th><th>2017 [YR2017]</th><th>2018 [YR2018]</th><th>2019 [YR2019]</th><th>2020 [YR2020]</th><th>2021 [YR2021]</th><th>2022 [YR2022]</th></tr><tr><td>str</td><td>str</td><td>str</td><td>str</td><td>f64</td><td>f64</td><td>f64</td><td>f64</td><td>f64</td><td>f64</td><td>f64</td><td>f64</td><td>f64</td><td>f64</td><td>f64</td><td>f64</td><td>f64</td><td>f64</td><td>f64</td><td>f64</td><td>f64</td><td>f64</td><td>f64</td><td>f64</td><td>f64</td><td>f64</td><td>f64</td><td>f64</td><td>f64</td><td>f64</td><td>f64</td><td>f64</td><td>f64</td><td>f64</td><td>f64</td><td>f64</td><td>f64</td><td>f64</td><td>f64</td><td>f64</td><td>f64</td><td>f64</td><td>f64</td><td>f64</td><td>f64</td><td>f64</td><td>f64</td><td>f64</td><td>f64</td><td>f64</td><td>f64</td><td>f64</td><td>f64</td><td>f64</td><td>f64</td><td>f64</td><td>f64</td><td>f64</td><td>f64</td><td>f64</td><td>f64</td><td>f64</td><td>f64</td><td>f64</td><td>f64</td><td>f64</td><td>f64</td></tr></thead><tbody><tr><td>&quot;Afghanistan&quot;</td><td>&quot;Asia&quot;</td><td>&quot;Diabetes prevalence (% of popu…</td><td>&quot;SH.STA.DIAB.ZS&quot;</td><td>null</td><td>null</td><td>null</td><td>null</td><td>null</td><td>null</td><td>null</td><td>null</td><td>null</td><td>null</td><td>null</td><td>null</td><td>null</td><td>null</td><td>null</td><td>null</td><td>null</td><td>null</td><td>null</td><td>null</td><td>null</td><td>null</td><td>null</td><td>null</td><td>null</td><td>null</td><td>null</td><td>null</td><td>null</td><td>null</td><td>null</td><td>null</td><td>null</td><td>null</td><td>null</td><td>null</td><td>null</td><td>null</td><td>null</td><td>null</td><td>null</td><td>null</td><td>null</td><td>null</td><td>null</td><td>null</td><td>null</td><td>null</td><td>null</td><td>null</td><td>null</td><td>7.6</td><td>null</td><td>null</td><td>null</td><td>null</td><td>null</td><td>null</td><td>null</td><td>null</td><td>null</td><td>10.9</td><td>null</td></tr><tr><td>&quot;Afghanistan&quot;</td><td>&quot;Asia&quot;</td><td>&quot;Diabetes prevalence (% of popu…</td><td>&quot;SH.STA.DIAB.ZS&quot;</td><td>null</td><td>null</td><td>null</td><td>null</td><td>null</td><td>null</td><td>null</td><td>null</td><td>null</td><td>null</td><td>null</td><td>null</td><td>null</td><td>null</td><td>null</td><td>null</td><td>null</td><td>null</td><td>null</td><td>null</td><td>null</td><td>null</td><td>null</td><td>null</td><td>null</td><td>null</td><td>null</td><td>null</td><td>null</td><td>null</td><td>null</td><td>null</td><td>null</td><td>null</td><td>null</td><td>null</td><td>null</td><td>null</td><td>null</td><td>null</td><td>null</td><td>null</td><td>null</td><td>null</td><td>null</td><td>null</td><td>null</td><td>null</td><td>null</td><td>null</td><td>null</td><td>7.6</td><td>null</td><td>null</td><td>null</td><td>null</td><td>null</td><td>null</td><td>null</td><td>null</td><td>null</td><td>10.9</td><td>null</td></tr><tr><td>&quot;Afghanistan&quot;</td><td>&quot;Asia&quot;</td><td>&quot;Diabetes prevalence (% of popu…</td><td>&quot;SH.STA.DIAB.ZS&quot;</td><td>null</td><td>null</td><td>null</td><td>null</td><td>null</td><td>null</td><td>null</td><td>null</td><td>null</td><td>null</td><td>null</td><td>null</td><td>null</td><td>null</td><td>null</td><td>null</td><td>null</td><td>null</td><td>null</td><td>null</td><td>null</td><td>null</td><td>null</td><td>null</td><td>null</td><td>null</td><td>null</td><td>null</td><td>null</td><td>null</td><td>null</td><td>null</td><td>null</td><td>null</td><td>null</td><td>null</td><td>null</td><td>null</td><td>null</td><td>null</td><td>null</td><td>null</td><td>null</td><td>null</td><td>null</td><td>null</td><td>null</td><td>null</td><td>null</td><td>null</td><td>null</td><td>7.6</td><td>null</td><td>null</td><td>null</td><td>null</td><td>null</td><td>null</td><td>null</td><td>null</td><td>null</td><td>10.9</td><td>null</td></tr><tr><td>&quot;Afghanistan&quot;</td><td>&quot;Asia&quot;</td><td>&quot;Diabetes prevalence (% of popu…</td><td>&quot;SH.STA.DIAB.ZS&quot;</td><td>null</td><td>null</td><td>null</td><td>null</td><td>null</td><td>null</td><td>null</td><td>null</td><td>null</td><td>null</td><td>null</td><td>null</td><td>null</td><td>null</td><td>null</td><td>null</td><td>null</td><td>null</td><td>null</td><td>null</td><td>null</td><td>null</td><td>null</td><td>null</td><td>null</td><td>null</td><td>null</td><td>null</td><td>null</td><td>null</td><td>null</td><td>null</td><td>null</td><td>null</td><td>null</td><td>null</td><td>null</td><td>null</td><td>null</td><td>null</td><td>null</td><td>null</td><td>null</td><td>null</td><td>null</td><td>null</td><td>null</td><td>null</td><td>null</td><td>null</td><td>null</td><td>7.6</td><td>null</td><td>null</td><td>null</td><td>null</td><td>null</td><td>null</td><td>null</td><td>null</td><td>null</td><td>10.9</td><td>null</td></tr><tr><td>&quot;Afghanistan&quot;</td><td>&quot;Asia&quot;</td><td>&quot;Diabetes prevalence (% of popu…</td><td>&quot;SH.STA.DIAB.ZS&quot;</td><td>null</td><td>null</td><td>null</td><td>null</td><td>null</td><td>null</td><td>null</td><td>null</td><td>null</td><td>null</td><td>null</td><td>null</td><td>null</td><td>null</td><td>null</td><td>null</td><td>null</td><td>null</td><td>null</td><td>null</td><td>null</td><td>null</td><td>null</td><td>null</td><td>null</td><td>null</td><td>null</td><td>null</td><td>null</td><td>null</td><td>null</td><td>null</td><td>null</td><td>null</td><td>null</td><td>null</td><td>null</td><td>null</td><td>null</td><td>null</td><td>null</td><td>null</td><td>null</td><td>null</td><td>null</td><td>null</td><td>null</td><td>null</td><td>null</td><td>null</td><td>null</td><td>7.6</td><td>null</td><td>null</td><td>null</td><td>null</td><td>null</td><td>null</td><td>null</td><td>null</td><td>null</td><td>10.9</td><td>null</td></tr><tr><td>&hellip;</td><td>&hellip;</td><td>&hellip;</td><td>&hellip;</td><td>&hellip;</td><td>&hellip;</td><td>&hellip;</td><td>&hellip;</td><td>&hellip;</td><td>&hellip;</td><td>&hellip;</td><td>&hellip;</td><td>&hellip;</td><td>&hellip;</td><td>&hellip;</td><td>&hellip;</td><td>&hellip;</td><td>&hellip;</td><td>&hellip;</td><td>&hellip;</td><td>&hellip;</td><td>&hellip;</td><td>&hellip;</td><td>&hellip;</td><td>&hellip;</td><td>&hellip;</td><td>&hellip;</td><td>&hellip;</td><td>&hellip;</td><td>&hellip;</td><td>&hellip;</td><td>&hellip;</td><td>&hellip;</td><td>&hellip;</td><td>&hellip;</td><td>&hellip;</td><td>&hellip;</td><td>&hellip;</td><td>&hellip;</td><td>&hellip;</td><td>&hellip;</td><td>&hellip;</td><td>&hellip;</td><td>&hellip;</td><td>&hellip;</td><td>&hellip;</td><td>&hellip;</td><td>&hellip;</td><td>&hellip;</td><td>&hellip;</td><td>&hellip;</td><td>&hellip;</td><td>&hellip;</td><td>&hellip;</td><td>&hellip;</td><td>&hellip;</td><td>&hellip;</td><td>&hellip;</td><td>&hellip;</td><td>&hellip;</td><td>&hellip;</td><td>&hellip;</td><td>&hellip;</td><td>&hellip;</td><td>&hellip;</td><td>&hellip;</td><td>&hellip;</td></tr><tr><td>null</td><td>null</td><td>null</td><td>null</td><td>null</td><td>null</td><td>null</td><td>null</td><td>null</td><td>null</td><td>null</td><td>null</td><td>null</td><td>null</td><td>null</td><td>null</td><td>null</td><td>null</td><td>null</td><td>null</td><td>null</td><td>null</td><td>null</td><td>null</td><td>null</td><td>null</td><td>null</td><td>null</td><td>null</td><td>null</td><td>null</td><td>null</td><td>null</td><td>null</td><td>null</td><td>null</td><td>null</td><td>null</td><td>null</td><td>null</td><td>null</td><td>null</td><td>null</td><td>null</td><td>null</td><td>null</td><td>null</td><td>null</td><td>null</td><td>null</td><td>null</td><td>null</td><td>null</td><td>null</td><td>null</td><td>null</td><td>null</td><td>null</td><td>null</td><td>null</td><td>null</td><td>null</td><td>null</td><td>null</td><td>null</td><td>null</td><td>null</td></tr><tr><td>null</td><td>null</td><td>null</td><td>null</td><td>null</td><td>null</td><td>null</td><td>null</td><td>null</td><td>null</td><td>null</td><td>null</td><td>null</td><td>null</td><td>null</td><td>null</td><td>null</td><td>null</td><td>null</td><td>null</td><td>null</td><td>null</td><td>null</td><td>null</td><td>null</td><td>null</td><td>null</td><td>null</td><td>null</td><td>null</td><td>null</td><td>null</td><td>null</td><td>null</td><td>null</td><td>null</td><td>null</td><td>null</td><td>null</td><td>null</td><td>null</td><td>null</td><td>null</td><td>null</td><td>null</td><td>null</td><td>null</td><td>null</td><td>null</td><td>null</td><td>null</td><td>null</td><td>null</td><td>null</td><td>null</td><td>null</td><td>null</td><td>null</td><td>null</td><td>null</td><td>null</td><td>null</td><td>null</td><td>null</td><td>null</td><td>null</td><td>null</td></tr><tr><td>null</td><td>null</td><td>null</td><td>null</td><td>null</td><td>null</td><td>null</td><td>null</td><td>null</td><td>null</td><td>null</td><td>null</td><td>null</td><td>null</td><td>null</td><td>null</td><td>null</td><td>null</td><td>null</td><td>null</td><td>null</td><td>null</td><td>null</td><td>null</td><td>null</td><td>null</td><td>null</td><td>null</td><td>null</td><td>null</td><td>null</td><td>null</td><td>null</td><td>null</td><td>null</td><td>null</td><td>null</td><td>null</td><td>null</td><td>null</td><td>null</td><td>null</td><td>null</td><td>null</td><td>null</td><td>null</td><td>null</td><td>null</td><td>null</td><td>null</td><td>null</td><td>null</td><td>null</td><td>null</td><td>null</td><td>null</td><td>null</td><td>null</td><td>null</td><td>null</td><td>null</td><td>null</td><td>null</td><td>null</td><td>null</td><td>null</td><td>null</td></tr><tr><td>&quot;Data from database: World Deve…</td><td>null</td><td>null</td><td>null</td><td>null</td><td>null</td><td>null</td><td>null</td><td>null</td><td>null</td><td>null</td><td>null</td><td>null</td><td>null</td><td>null</td><td>null</td><td>null</td><td>null</td><td>null</td><td>null</td><td>null</td><td>null</td><td>null</td><td>null</td><td>null</td><td>null</td><td>null</td><td>null</td><td>null</td><td>null</td><td>null</td><td>null</td><td>null</td><td>null</td><td>null</td><td>null</td><td>null</td><td>null</td><td>null</td><td>null</td><td>null</td><td>null</td><td>null</td><td>null</td><td>null</td><td>null</td><td>null</td><td>null</td><td>null</td><td>null</td><td>null</td><td>null</td><td>null</td><td>null</td><td>null</td><td>null</td><td>null</td><td>null</td><td>null</td><td>null</td><td>null</td><td>null</td><td>null</td><td>null</td><td>null</td><td>null</td><td>null</td></tr><tr><td>&quot;Last Updated: 10/26/2023&quot;</td><td>null</td><td>null</td><td>null</td><td>null</td><td>null</td><td>null</td><td>null</td><td>null</td><td>null</td><td>null</td><td>null</td><td>null</td><td>null</td><td>null</td><td>null</td><td>null</td><td>null</td><td>null</td><td>null</td><td>null</td><td>null</td><td>null</td><td>null</td><td>null</td><td>null</td><td>null</td><td>null</td><td>null</td><td>null</td><td>null</td><td>null</td><td>null</td><td>null</td><td>null</td><td>null</td><td>null</td><td>null</td><td>null</td><td>null</td><td>null</td><td>null</td><td>null</td><td>null</td><td>null</td><td>null</td><td>null</td><td>null</td><td>null</td><td>null</td><td>null</td><td>null</td><td>null</td><td>null</td><td>null</td><td>null</td><td>null</td><td>null</td><td>null</td><td>null</td><td>null</td><td>null</td><td>null</td><td>null</td><td>null</td><td>null</td><td>null</td></tr></tbody></table></div>"
      ],
      "text/plain": [
       "shape: (10_173, 67)\n",
       "┌────────────┬────────┬────────────┬───────────┬───┬───────────┬───────────┬───────────┬───────────┐\n",
       "│ Country    ┆ Region ┆ Series     ┆ Series    ┆ … ┆ 2019      ┆ 2020      ┆ 2021      ┆ 2022      │\n",
       "│ Name       ┆ ---    ┆ Name       ┆ Code      ┆   ┆ [YR2019]  ┆ [YR2020]  ┆ [YR2021]  ┆ [YR2022]  │\n",
       "│ ---        ┆ str    ┆ ---        ┆ ---       ┆   ┆ ---       ┆ ---       ┆ ---       ┆ ---       │\n",
       "│ str        ┆        ┆ str        ┆ str       ┆   ┆ f64       ┆ f64       ┆ f64       ┆ f64       │\n",
       "╞════════════╪════════╪════════════╪═══════════╪═══╪═══════════╪═══════════╪═══════════╪═══════════╡\n",
       "│ Afghanista ┆ Asia   ┆ Diabetes   ┆ SH.STA.DI ┆ … ┆ null      ┆ null      ┆ 10.9      ┆ null      │\n",
       "│ n          ┆        ┆ prevalence ┆ AB.ZS     ┆   ┆           ┆           ┆           ┆           │\n",
       "│            ┆        ┆ (% of      ┆           ┆   ┆           ┆           ┆           ┆           │\n",
       "│            ┆        ┆ popu…      ┆           ┆   ┆           ┆           ┆           ┆           │\n",
       "│ Afghanista ┆ Asia   ┆ Diabetes   ┆ SH.STA.DI ┆ … ┆ null      ┆ null      ┆ 10.9      ┆ null      │\n",
       "│ n          ┆        ┆ prevalence ┆ AB.ZS     ┆   ┆           ┆           ┆           ┆           │\n",
       "│            ┆        ┆ (% of      ┆           ┆   ┆           ┆           ┆           ┆           │\n",
       "│            ┆        ┆ popu…      ┆           ┆   ┆           ┆           ┆           ┆           │\n",
       "│ Afghanista ┆ Asia   ┆ Diabetes   ┆ SH.STA.DI ┆ … ┆ null      ┆ null      ┆ 10.9      ┆ null      │\n",
       "│ n          ┆        ┆ prevalence ┆ AB.ZS     ┆   ┆           ┆           ┆           ┆           │\n",
       "│            ┆        ┆ (% of      ┆           ┆   ┆           ┆           ┆           ┆           │\n",
       "│            ┆        ┆ popu…      ┆           ┆   ┆           ┆           ┆           ┆           │\n",
       "│ Afghanista ┆ Asia   ┆ Diabetes   ┆ SH.STA.DI ┆ … ┆ null      ┆ null      ┆ 10.9      ┆ null      │\n",
       "│ n          ┆        ┆ prevalence ┆ AB.ZS     ┆   ┆           ┆           ┆           ┆           │\n",
       "│            ┆        ┆ (% of      ┆           ┆   ┆           ┆           ┆           ┆           │\n",
       "│            ┆        ┆ popu…      ┆           ┆   ┆           ┆           ┆           ┆           │\n",
       "│ Afghanista ┆ Asia   ┆ Diabetes   ┆ SH.STA.DI ┆ … ┆ null      ┆ null      ┆ 10.9      ┆ null      │\n",
       "│ n          ┆        ┆ prevalence ┆ AB.ZS     ┆   ┆           ┆           ┆           ┆           │\n",
       "│            ┆        ┆ (% of      ┆           ┆   ┆           ┆           ┆           ┆           │\n",
       "│            ┆        ┆ popu…      ┆           ┆   ┆           ┆           ┆           ┆           │\n",
       "│ …          ┆ …      ┆ …          ┆ …         ┆ … ┆ …         ┆ …         ┆ …         ┆ …         │\n",
       "│ null       ┆ null   ┆ null       ┆ null      ┆ … ┆ null      ┆ null      ┆ null      ┆ null      │\n",
       "│ null       ┆ null   ┆ null       ┆ null      ┆ … ┆ null      ┆ null      ┆ null      ┆ null      │\n",
       "│ null       ┆ null   ┆ null       ┆ null      ┆ … ┆ null      ┆ null      ┆ null      ┆ null      │\n",
       "│ Data from  ┆ null   ┆ null       ┆ null      ┆ … ┆ null      ┆ null      ┆ null      ┆ null      │\n",
       "│ database:  ┆        ┆            ┆           ┆   ┆           ┆           ┆           ┆           │\n",
       "│ World      ┆        ┆            ┆           ┆   ┆           ┆           ┆           ┆           │\n",
       "│ Deve…      ┆        ┆            ┆           ┆   ┆           ┆           ┆           ┆           │\n",
       "│ Last       ┆ null   ┆ null       ┆ null      ┆ … ┆ null      ┆ null      ┆ null      ┆ null      │\n",
       "│ Updated:   ┆        ┆            ┆           ┆   ┆           ┆           ┆           ┆           │\n",
       "│ 10/26/2023 ┆        ┆            ┆           ┆   ┆           ┆           ┆           ┆           │\n",
       "└────────────┴────────┴────────────┴───────────┴───┴───────────┴───────────┴───────────┴───────────┘"
      ]
     },
     "execution_count": 79,
     "metadata": {},
     "output_type": "execute_result"
    }
   ],
   "source": [
    "(WB_dev_ind :=\n",
    " pl.read_csv('./data/world_bank_raw_download_F23.csv', \n",
    "             infer_schema_length=10000, \n",
    "             null_values='..',\n",
    "            )\n",
    ")"
   ]
  },
  {
   "cell_type": "markdown",
   "id": "231e6dfc-7bd6-44a2-860f-cd1e69d195b1",
   "metadata": {},
   "source": [
    "#### Attempt 4 - Removing rows with a null `Series Name`\n",
    "\n",
    "Notice that there are some extra rows at the bottom of the table that don't correspond to a series name/code.  Let's remove these."
   ]
  },
  {
   "cell_type": "code",
   "execution_count": 80,
   "id": "11de7626-38dc-45c7-8d0d-3800cac83f5f",
   "metadata": {},
   "outputs": [
    {
     "data": {
      "text/html": [
       "<div><style>\n",
       ".dataframe > thead > tr,\n",
       ".dataframe > tbody > tr {\n",
       "  text-align: right;\n",
       "  white-space: pre-wrap;\n",
       "}\n",
       "</style>\n",
       "<small>shape: (10_168, 67)</small><table border=\"1\" class=\"dataframe\"><thead><tr><th>Country Name</th><th>Region</th><th>Series Name</th><th>Series Code</th><th>1960 [YR1960]</th><th>1961 [YR1961]</th><th>1962 [YR1962]</th><th>1963 [YR1963]</th><th>1964 [YR1964]</th><th>1965 [YR1965]</th><th>1966 [YR1966]</th><th>1967 [YR1967]</th><th>1968 [YR1968]</th><th>1969 [YR1969]</th><th>1970 [YR1970]</th><th>1971 [YR1971]</th><th>1972 [YR1972]</th><th>1973 [YR1973]</th><th>1974 [YR1974]</th><th>1975 [YR1975]</th><th>1976 [YR1976]</th><th>1977 [YR1977]</th><th>1978 [YR1978]</th><th>1979 [YR1979]</th><th>1980 [YR1980]</th><th>1981 [YR1981]</th><th>1982 [YR1982]</th><th>1983 [YR1983]</th><th>1984 [YR1984]</th><th>1985 [YR1985]</th><th>1986 [YR1986]</th><th>1987 [YR1987]</th><th>1988 [YR1988]</th><th>1989 [YR1989]</th><th>1990 [YR1990]</th><th>1991 [YR1991]</th><th>1992 [YR1992]</th><th>1993 [YR1993]</th><th>1994 [YR1994]</th><th>1995 [YR1995]</th><th>1996 [YR1996]</th><th>1997 [YR1997]</th><th>1998 [YR1998]</th><th>1999 [YR1999]</th><th>2000 [YR2000]</th><th>2001 [YR2001]</th><th>2002 [YR2002]</th><th>2003 [YR2003]</th><th>2004 [YR2004]</th><th>2005 [YR2005]</th><th>2006 [YR2006]</th><th>2007 [YR2007]</th><th>2008 [YR2008]</th><th>2009 [YR2009]</th><th>2010 [YR2010]</th><th>2011 [YR2011]</th><th>2012 [YR2012]</th><th>2013 [YR2013]</th><th>2014 [YR2014]</th><th>2015 [YR2015]</th><th>2016 [YR2016]</th><th>2017 [YR2017]</th><th>2018 [YR2018]</th><th>2019 [YR2019]</th><th>2020 [YR2020]</th><th>2021 [YR2021]</th><th>2022 [YR2022]</th></tr><tr><td>str</td><td>str</td><td>str</td><td>str</td><td>f64</td><td>f64</td><td>f64</td><td>f64</td><td>f64</td><td>f64</td><td>f64</td><td>f64</td><td>f64</td><td>f64</td><td>f64</td><td>f64</td><td>f64</td><td>f64</td><td>f64</td><td>f64</td><td>f64</td><td>f64</td><td>f64</td><td>f64</td><td>f64</td><td>f64</td><td>f64</td><td>f64</td><td>f64</td><td>f64</td><td>f64</td><td>f64</td><td>f64</td><td>f64</td><td>f64</td><td>f64</td><td>f64</td><td>f64</td><td>f64</td><td>f64</td><td>f64</td><td>f64</td><td>f64</td><td>f64</td><td>f64</td><td>f64</td><td>f64</td><td>f64</td><td>f64</td><td>f64</td><td>f64</td><td>f64</td><td>f64</td><td>f64</td><td>f64</td><td>f64</td><td>f64</td><td>f64</td><td>f64</td><td>f64</td><td>f64</td><td>f64</td><td>f64</td><td>f64</td><td>f64</td><td>f64</td><td>f64</td></tr></thead><tbody><tr><td>&quot;Afghanistan&quot;</td><td>&quot;Asia&quot;</td><td>&quot;Diabetes prevalence (% of popu…</td><td>&quot;SH.STA.DIAB.ZS&quot;</td><td>null</td><td>null</td><td>null</td><td>null</td><td>null</td><td>null</td><td>null</td><td>null</td><td>null</td><td>null</td><td>null</td><td>null</td><td>null</td><td>null</td><td>null</td><td>null</td><td>null</td><td>null</td><td>null</td><td>null</td><td>null</td><td>null</td><td>null</td><td>null</td><td>null</td><td>null</td><td>null</td><td>null</td><td>null</td><td>null</td><td>null</td><td>null</td><td>null</td><td>null</td><td>null</td><td>null</td><td>null</td><td>null</td><td>null</td><td>null</td><td>null</td><td>null</td><td>null</td><td>null</td><td>null</td><td>null</td><td>null</td><td>null</td><td>null</td><td>null</td><td>null</td><td>7.6</td><td>null</td><td>null</td><td>null</td><td>null</td><td>null</td><td>null</td><td>null</td><td>null</td><td>null</td><td>10.9</td><td>null</td></tr><tr><td>&quot;Afghanistan&quot;</td><td>&quot;Asia&quot;</td><td>&quot;Diabetes prevalence (% of popu…</td><td>&quot;SH.STA.DIAB.ZS&quot;</td><td>null</td><td>null</td><td>null</td><td>null</td><td>null</td><td>null</td><td>null</td><td>null</td><td>null</td><td>null</td><td>null</td><td>null</td><td>null</td><td>null</td><td>null</td><td>null</td><td>null</td><td>null</td><td>null</td><td>null</td><td>null</td><td>null</td><td>null</td><td>null</td><td>null</td><td>null</td><td>null</td><td>null</td><td>null</td><td>null</td><td>null</td><td>null</td><td>null</td><td>null</td><td>null</td><td>null</td><td>null</td><td>null</td><td>null</td><td>null</td><td>null</td><td>null</td><td>null</td><td>null</td><td>null</td><td>null</td><td>null</td><td>null</td><td>null</td><td>null</td><td>null</td><td>7.6</td><td>null</td><td>null</td><td>null</td><td>null</td><td>null</td><td>null</td><td>null</td><td>null</td><td>null</td><td>10.9</td><td>null</td></tr><tr><td>&quot;Afghanistan&quot;</td><td>&quot;Asia&quot;</td><td>&quot;Diabetes prevalence (% of popu…</td><td>&quot;SH.STA.DIAB.ZS&quot;</td><td>null</td><td>null</td><td>null</td><td>null</td><td>null</td><td>null</td><td>null</td><td>null</td><td>null</td><td>null</td><td>null</td><td>null</td><td>null</td><td>null</td><td>null</td><td>null</td><td>null</td><td>null</td><td>null</td><td>null</td><td>null</td><td>null</td><td>null</td><td>null</td><td>null</td><td>null</td><td>null</td><td>null</td><td>null</td><td>null</td><td>null</td><td>null</td><td>null</td><td>null</td><td>null</td><td>null</td><td>null</td><td>null</td><td>null</td><td>null</td><td>null</td><td>null</td><td>null</td><td>null</td><td>null</td><td>null</td><td>null</td><td>null</td><td>null</td><td>null</td><td>null</td><td>7.6</td><td>null</td><td>null</td><td>null</td><td>null</td><td>null</td><td>null</td><td>null</td><td>null</td><td>null</td><td>10.9</td><td>null</td></tr><tr><td>&quot;Afghanistan&quot;</td><td>&quot;Asia&quot;</td><td>&quot;Diabetes prevalence (% of popu…</td><td>&quot;SH.STA.DIAB.ZS&quot;</td><td>null</td><td>null</td><td>null</td><td>null</td><td>null</td><td>null</td><td>null</td><td>null</td><td>null</td><td>null</td><td>null</td><td>null</td><td>null</td><td>null</td><td>null</td><td>null</td><td>null</td><td>null</td><td>null</td><td>null</td><td>null</td><td>null</td><td>null</td><td>null</td><td>null</td><td>null</td><td>null</td><td>null</td><td>null</td><td>null</td><td>null</td><td>null</td><td>null</td><td>null</td><td>null</td><td>null</td><td>null</td><td>null</td><td>null</td><td>null</td><td>null</td><td>null</td><td>null</td><td>null</td><td>null</td><td>null</td><td>null</td><td>null</td><td>null</td><td>null</td><td>null</td><td>7.6</td><td>null</td><td>null</td><td>null</td><td>null</td><td>null</td><td>null</td><td>null</td><td>null</td><td>null</td><td>10.9</td><td>null</td></tr><tr><td>&quot;Afghanistan&quot;</td><td>&quot;Asia&quot;</td><td>&quot;Diabetes prevalence (% of popu…</td><td>&quot;SH.STA.DIAB.ZS&quot;</td><td>null</td><td>null</td><td>null</td><td>null</td><td>null</td><td>null</td><td>null</td><td>null</td><td>null</td><td>null</td><td>null</td><td>null</td><td>null</td><td>null</td><td>null</td><td>null</td><td>null</td><td>null</td><td>null</td><td>null</td><td>null</td><td>null</td><td>null</td><td>null</td><td>null</td><td>null</td><td>null</td><td>null</td><td>null</td><td>null</td><td>null</td><td>null</td><td>null</td><td>null</td><td>null</td><td>null</td><td>null</td><td>null</td><td>null</td><td>null</td><td>null</td><td>null</td><td>null</td><td>null</td><td>null</td><td>null</td><td>null</td><td>null</td><td>null</td><td>null</td><td>null</td><td>7.6</td><td>null</td><td>null</td><td>null</td><td>null</td><td>null</td><td>null</td><td>null</td><td>null</td><td>null</td><td>10.9</td><td>null</td></tr><tr><td>&hellip;</td><td>&hellip;</td><td>&hellip;</td><td>&hellip;</td><td>&hellip;</td><td>&hellip;</td><td>&hellip;</td><td>&hellip;</td><td>&hellip;</td><td>&hellip;</td><td>&hellip;</td><td>&hellip;</td><td>&hellip;</td><td>&hellip;</td><td>&hellip;</td><td>&hellip;</td><td>&hellip;</td><td>&hellip;</td><td>&hellip;</td><td>&hellip;</td><td>&hellip;</td><td>&hellip;</td><td>&hellip;</td><td>&hellip;</td><td>&hellip;</td><td>&hellip;</td><td>&hellip;</td><td>&hellip;</td><td>&hellip;</td><td>&hellip;</td><td>&hellip;</td><td>&hellip;</td><td>&hellip;</td><td>&hellip;</td><td>&hellip;</td><td>&hellip;</td><td>&hellip;</td><td>&hellip;</td><td>&hellip;</td><td>&hellip;</td><td>&hellip;</td><td>&hellip;</td><td>&hellip;</td><td>&hellip;</td><td>&hellip;</td><td>&hellip;</td><td>&hellip;</td><td>&hellip;</td><td>&hellip;</td><td>&hellip;</td><td>&hellip;</td><td>&hellip;</td><td>&hellip;</td><td>&hellip;</td><td>&hellip;</td><td>&hellip;</td><td>&hellip;</td><td>&hellip;</td><td>&hellip;</td><td>&hellip;</td><td>&hellip;</td><td>&hellip;</td><td>&hellip;</td><td>&hellip;</td><td>&hellip;</td><td>&hellip;</td><td>&hellip;</td></tr><tr><td>&quot;World&quot;</td><td>null</td><td>&quot;Rural population&quot;</td><td>&quot;SP.RUR.TOTL&quot;</td><td>2.0122e9</td><td>2.0244e9</td><td>2.0468e9</td><td>2.0783e9</td><td>2.1094e9</td><td>2.1460e9</td><td>2.1846e9</td><td>2.2221e9</td><td>2.2607e9</td><td>2.3011e9</td><td>2.3423e9</td><td>2.3840e9</td><td>2.4237e9</td><td>2.4628e9</td><td>2.4999e9</td><td>2.5368e9</td><td>2.5716e9</td><td>2.6055e9</td><td>2.6368e9</td><td>2.6659e9</td><td>2.6942e9</td><td>2.7227e9</td><td>2.7545e9</td><td>2.7876e9</td><td>2.8194e9</td><td>2.8513e9</td><td>2.8839e9</td><td>2.9170e9</td><td>2.9500e9</td><td>2.9829e9</td><td>3.0160e9</td><td>3.0469e9</td><td>3.0766e9</td><td>3.1053e9</td><td>3.1326e9</td><td>3.1590e9</td><td>3.1851e9</td><td>3.2100e9</td><td>3.2336e9</td><td>3.2559e9</td><td>3.2766e9</td><td>3.2926e9</td><td>3.3050e9</td><td>3.3163e9</td><td>3.3263e9</td><td>3.3352e9</td><td>3.3440e9</td><td>3.3525e9</td><td>3.3599e9</td><td>3.3672e9</td><td>3.3743e9</td><td>3.3835e9</td><td>3.3941e9</td><td>3.4037e9</td><td>3.4118e9</td><td>3.4182e9</td><td>3.4239e9</td><td>3.4290e9</td><td>3.4325e9</td><td>3.4346e9</td><td>3.4354e9</td><td>3.4324e9</td><td>3.4263e9</td></tr><tr><td>&quot;World&quot;</td><td>null</td><td>&quot;Urban population&quot;</td><td>&quot;SP.URB.TOTL&quot;</td><td>1.0183e9</td><td>1.0470e9</td><td>1.0791e9</td><td>1.1141e9</td><td>1.1500e9</td><td>1.1811e9</td><td>1.2128e9</td><td>1.2451e9</td><td>1.2783e9</td><td>1.3122e9</td><td>1.3467e9</td><td>1.3826e9</td><td>1.4186e9</td><td>1.4559e9</td><td>1.4947e9</td><td>1.5318e9</td><td>1.5701e9</td><td>1.6089e9</td><td>1.6515e9</td><td>1.6984e9</td><td>1.7466e9</td><td>1.7967e9</td><td>1.8466e9</td><td>1.8956e9</td><td>1.9456e9</td><td>1.9970e9</td><td>2.0504e9</td><td>2.1055e9</td><td>2.1616e9</td><td>2.2178e9</td><td>2.2756e9</td><td>2.3337e9</td><td>2.3916e9</td><td>2.4493e9</td><td>2.5074e9</td><td>2.5656e9</td><td>2.6244e9</td><td>2.6839e9</td><td>2.7441e9</td><td>2.8046e9</td><td>2.8660e9</td><td>2.9320e9</td><td>3.0014e9</td><td>3.0715e9</td><td>3.1429e9</td><td>3.2157e9</td><td>3.2894e9</td><td>3.3636e9</td><td>3.4400e9</td><td>3.5169e9</td><td>3.5940e9</td><td>3.6686e9</td><td>3.7455e9</td><td>3.8242e9</td><td>3.9043e9</td><td>3.9853e9</td><td>4.0664e9</td><td>4.1474e9</td><td>4.2274e9</td><td>4.3063e9</td><td>4.3837e9</td><td>4.4539e9</td><td>4.5231e9</td></tr><tr><td>&quot;World&quot;</td><td>null</td><td>&quot;CO2 emissions (kt)&quot;</td><td>&quot;EN.ATM.CO2E.KT&quot;</td><td>null</td><td>null</td><td>null</td><td>null</td><td>null</td><td>null</td><td>null</td><td>null</td><td>null</td><td>null</td><td>null</td><td>null</td><td>null</td><td>null</td><td>null</td><td>null</td><td>null</td><td>null</td><td>null</td><td>null</td><td>null</td><td>null</td><td>null</td><td>null</td><td>null</td><td>null</td><td>null</td><td>null</td><td>null</td><td>null</td><td>2.1284e7</td><td>2.1440e7</td><td>2.1390e7</td><td>2.1532e7</td><td>2.1677e7</td><td>2.2299e7</td><td>2.2779e7</td><td>2.3203e7</td><td>2.3366e7</td><td>2.3530e7</td><td>2.4280e7</td><td>2.4644e7</td><td>2.4990e7</td><td>2.6133e7</td><td>2.7332e7</td><td>2.8372e7</td><td>2.9308e7</td><td>3.0419e7</td><td>3.0632e7</td><td>3.0238e7</td><td>3.2096e7</td><td>3.3080e7</td><td>3.3460e7</td><td>3.4120e7</td><td>3.4261e7</td><td>3.4070e7</td><td>3.4146e7</td><td>3.4688e7</td><td>3.5561e7</td><td>3.5477e7</td><td>3.3566e7</td><td>null</td><td>null</td></tr><tr><td>&quot;World&quot;</td><td>null</td><td>&quot;Adolescent fertility rate (bir…</td><td>&quot;SP.ADO.TFRT&quot;</td><td>91.748048</td><td>90.692445</td><td>94.138599</td><td>95.977382</td><td>91.732784</td><td>89.285728</td><td>87.201738</td><td>84.5266</td><td>85.594114</td><td>85.010166</td><td>84.750717</td><td>84.645394</td><td>83.463033</td><td>82.905935</td><td>82.786104</td><td>81.86678</td><td>81.784936</td><td>79.347406</td><td>77.332245</td><td>76.727103</td><td>75.603382</td><td>75.696488</td><td>76.842785</td><td>76.598129</td><td>76.603095</td><td>76.050318</td><td>75.408671</td><td>72.901563</td><td>73.311004</td><td>73.851735</td><td>73.791261</td><td>74.656674</td><td>73.885417</td><td>73.376407</td><td>72.666378</td><td>71.666689</td><td>69.551847</td><td>67.726505</td><td>66.758498</td><td>65.452044</td><td>64.43683</td><td>63.825338</td><td>61.907368</td><td>60.069875</td><td>57.055993</td><td>53.385806</td><td>51.88069</td><td>51.890943</td><td>52.966351</td><td>51.994128</td><td>52.023991</td><td>51.659622</td><td>51.43433</td><td>51.199118</td><td>50.806674</td><td>47.189771</td><td>45.659168</td><td>44.917716</td><td>44.070807</td><td>43.372848</td><td>42.745881</td><td>42.479374</td><td>null</td></tr><tr><td>&quot;World&quot;</td><td>null</td><td>&quot;GDP (constant 2015 US$)&quot;</td><td>&quot;NY.GDP.MKTP.KD&quot;</td><td>1.0938e13</td><td>1.1353e13</td><td>1.1956e13</td><td>1.2576e13</td><td>1.3400e13</td><td>1.4144e13</td><td>1.4952e13</td><td>1.5573e13</td><td>1.6498e13</td><td>1.7458e13</td><td>1.8149e13</td><td>1.8925e13</td><td>1.9988e13</td><td>2.1269e13</td><td>2.1651e13</td><td>2.1789e13</td><td>2.2944e13</td><td>2.3885e13</td><td>2.4873e13</td><td>2.5912e13</td><td>2.6396e13</td><td>2.6911e13</td><td>2.6993e13</td><td>2.7701e13</td><td>2.9006e13</td><td>3.0085e13</td><td>3.1107e13</td><td>3.2272e13</td><td>3.3768e13</td><td>3.5019e13</td><td>3.5999e13</td><td>3.6493e13</td><td>3.7237e13</td><td>3.7925e13</td><td>3.9190e13</td><td>4.0398e13</td><td>4.1831e13</td><td>4.3460e13</td><td>4.4686e13</td><td>4.6273e13</td><td>4.8363e13</td><td>4.9335e13</td><td>5.0472e13</td><td>5.2042e13</td><td>5.4369e13</td><td>5.6547e13</td><td>5.9047e13</td><td>6.1634e13</td><td>6.2910e13</td><td>6.2066e13</td><td>6.4884e13</td><td>6.7039e13</td><td>6.8856e13</td><td>7.0790e13</td><td>7.2966e13</td><td>7.5215e13</td><td>7.7328e13</td><td>7.9949e13</td><td>8.2578e13</td><td>8.4720e13</td><td>8.2117e13</td><td>8.7064e13</td><td>8.9746e13</td></tr></tbody></table></div>"
      ],
      "text/plain": [
       "shape: (10_168, 67)\n",
       "┌────────────┬────────┬────────────┬───────────┬───┬───────────┬───────────┬───────────┬───────────┐\n",
       "│ Country    ┆ Region ┆ Series     ┆ Series    ┆ … ┆ 2019      ┆ 2020      ┆ 2021      ┆ 2022      │\n",
       "│ Name       ┆ ---    ┆ Name       ┆ Code      ┆   ┆ [YR2019]  ┆ [YR2020]  ┆ [YR2021]  ┆ [YR2022]  │\n",
       "│ ---        ┆ str    ┆ ---        ┆ ---       ┆   ┆ ---       ┆ ---       ┆ ---       ┆ ---       │\n",
       "│ str        ┆        ┆ str        ┆ str       ┆   ┆ f64       ┆ f64       ┆ f64       ┆ f64       │\n",
       "╞════════════╪════════╪════════════╪═══════════╪═══╪═══════════╪═══════════╪═══════════╪═══════════╡\n",
       "│ Afghanista ┆ Asia   ┆ Diabetes   ┆ SH.STA.DI ┆ … ┆ null      ┆ null      ┆ 10.9      ┆ null      │\n",
       "│ n          ┆        ┆ prevalence ┆ AB.ZS     ┆   ┆           ┆           ┆           ┆           │\n",
       "│            ┆        ┆ (% of      ┆           ┆   ┆           ┆           ┆           ┆           │\n",
       "│            ┆        ┆ popu…      ┆           ┆   ┆           ┆           ┆           ┆           │\n",
       "│ Afghanista ┆ Asia   ┆ Diabetes   ┆ SH.STA.DI ┆ … ┆ null      ┆ null      ┆ 10.9      ┆ null      │\n",
       "│ n          ┆        ┆ prevalence ┆ AB.ZS     ┆   ┆           ┆           ┆           ┆           │\n",
       "│            ┆        ┆ (% of      ┆           ┆   ┆           ┆           ┆           ┆           │\n",
       "│            ┆        ┆ popu…      ┆           ┆   ┆           ┆           ┆           ┆           │\n",
       "│ Afghanista ┆ Asia   ┆ Diabetes   ┆ SH.STA.DI ┆ … ┆ null      ┆ null      ┆ 10.9      ┆ null      │\n",
       "│ n          ┆        ┆ prevalence ┆ AB.ZS     ┆   ┆           ┆           ┆           ┆           │\n",
       "│            ┆        ┆ (% of      ┆           ┆   ┆           ┆           ┆           ┆           │\n",
       "│            ┆        ┆ popu…      ┆           ┆   ┆           ┆           ┆           ┆           │\n",
       "│ Afghanista ┆ Asia   ┆ Diabetes   ┆ SH.STA.DI ┆ … ┆ null      ┆ null      ┆ 10.9      ┆ null      │\n",
       "│ n          ┆        ┆ prevalence ┆ AB.ZS     ┆   ┆           ┆           ┆           ┆           │\n",
       "│            ┆        ┆ (% of      ┆           ┆   ┆           ┆           ┆           ┆           │\n",
       "│            ┆        ┆ popu…      ┆           ┆   ┆           ┆           ┆           ┆           │\n",
       "│ Afghanista ┆ Asia   ┆ Diabetes   ┆ SH.STA.DI ┆ … ┆ null      ┆ null      ┆ 10.9      ┆ null      │\n",
       "│ n          ┆        ┆ prevalence ┆ AB.ZS     ┆   ┆           ┆           ┆           ┆           │\n",
       "│            ┆        ┆ (% of      ┆           ┆   ┆           ┆           ┆           ┆           │\n",
       "│            ┆        ┆ popu…      ┆           ┆   ┆           ┆           ┆           ┆           │\n",
       "│ …          ┆ …      ┆ …          ┆ …         ┆ … ┆ …         ┆ …         ┆ …         ┆ …         │\n",
       "│ World      ┆ null   ┆ Rural      ┆ SP.RUR.TO ┆ … ┆ 3.4346e9  ┆ 3.4354e9  ┆ 3.4324e9  ┆ 3.4263e9  │\n",
       "│            ┆        ┆ population ┆ TL        ┆   ┆           ┆           ┆           ┆           │\n",
       "│ World      ┆ null   ┆ Urban      ┆ SP.URB.TO ┆ … ┆ 4.3063e9  ┆ 4.3837e9  ┆ 4.4539e9  ┆ 4.5231e9  │\n",
       "│            ┆        ┆ population ┆ TL        ┆   ┆           ┆           ┆           ┆           │\n",
       "│ World      ┆ null   ┆ CO2        ┆ EN.ATM.CO ┆ … ┆ 3.5477e7  ┆ 3.3566e7  ┆ null      ┆ null      │\n",
       "│            ┆        ┆ emissions  ┆ 2E.KT     ┆   ┆           ┆           ┆           ┆           │\n",
       "│            ┆        ┆ (kt)       ┆           ┆   ┆           ┆           ┆           ┆           │\n",
       "│ World      ┆ null   ┆ Adolescent ┆ SP.ADO.TF ┆ … ┆ 43.372848 ┆ 42.745881 ┆ 42.479374 ┆ null      │\n",
       "│            ┆        ┆ fertility  ┆ RT        ┆   ┆           ┆           ┆           ┆           │\n",
       "│            ┆        ┆ rate (bir… ┆           ┆   ┆           ┆           ┆           ┆           │\n",
       "│ World      ┆ null   ┆ GDP        ┆ NY.GDP.MK ┆ … ┆ 8.4720e13 ┆ 8.2117e13 ┆ 8.7064e13 ┆ 8.9746e13 │\n",
       "│            ┆        ┆ (constant  ┆ TP.KD     ┆   ┆           ┆           ┆           ┆           │\n",
       "│            ┆        ┆ 2015 US$)  ┆           ┆   ┆           ┆           ┆           ┆           │\n",
       "└────────────┴────────┴────────────┴───────────┴───┴───────────┴───────────┴───────────┴───────────┘"
      ]
     },
     "execution_count": 80,
     "metadata": {},
     "output_type": "execute_result"
    }
   ],
   "source": [
    "(WB_dev_ind :=\n",
    " pl.read_csv('./data/world_bank_raw_download_F23.csv', \n",
    "             infer_schema_length=10000, \n",
    "             null_values='..',\n",
    "            )\n",
    " .filter(pl.col(\"Series Name\").is_not_null())\n",
    ")"
   ]
  },
  {
   "cell_type": "markdown",
   "id": "931c7878-1ea3-4254-9390-4d43b521dbd6",
   "metadata": {},
   "source": [
    "#### Attempt 5 - Cleaning up the columns names using `rename` and a `dict` comprehension\n",
    "\n",
    "Notice that there are some extra rows at the bottom of the table that don't correspond to a series name/code.  Let's remove these."
   ]
  },
  {
   "cell_type": "markdown",
   "id": "4f716443-1502-4e67-8bb8-f9334cabf82b",
   "metadata": {},
   "source": [
    "#### Review - the `rename` method"
   ]
  },
  {
   "cell_type": "code",
   "execution_count": 81,
   "id": "88bb7e3a-3d7c-4c64-bc5e-5a9163ac8d9d",
   "metadata": {},
   "outputs": [
    {
     "data": {
      "text/html": [
       "<div><style>\n",
       ".dataframe > thead > tr,\n",
       ".dataframe > tbody > tr {\n",
       "  text-align: right;\n",
       "  white-space: pre-wrap;\n",
       "}\n",
       "</style>\n",
       "<small>shape: (5, 67)</small><table border=\"1\" class=\"dataframe\"><thead><tr><th>Country Name</th><th>Region</th><th>Series Name</th><th>Series Code</th><th>1960</th><th>1961</th><th>1962 [YR1962]</th><th>1963 [YR1963]</th><th>1964 [YR1964]</th><th>1965 [YR1965]</th><th>1966 [YR1966]</th><th>1967 [YR1967]</th><th>1968 [YR1968]</th><th>1969 [YR1969]</th><th>1970 [YR1970]</th><th>1971 [YR1971]</th><th>1972 [YR1972]</th><th>1973 [YR1973]</th><th>1974 [YR1974]</th><th>1975 [YR1975]</th><th>1976 [YR1976]</th><th>1977 [YR1977]</th><th>1978 [YR1978]</th><th>1979 [YR1979]</th><th>1980 [YR1980]</th><th>1981 [YR1981]</th><th>1982 [YR1982]</th><th>1983 [YR1983]</th><th>1984 [YR1984]</th><th>1985 [YR1985]</th><th>1986 [YR1986]</th><th>1987 [YR1987]</th><th>1988 [YR1988]</th><th>1989 [YR1989]</th><th>1990 [YR1990]</th><th>1991 [YR1991]</th><th>1992 [YR1992]</th><th>1993 [YR1993]</th><th>1994 [YR1994]</th><th>1995 [YR1995]</th><th>1996 [YR1996]</th><th>1997 [YR1997]</th><th>1998 [YR1998]</th><th>1999 [YR1999]</th><th>2000 [YR2000]</th><th>2001 [YR2001]</th><th>2002 [YR2002]</th><th>2003 [YR2003]</th><th>2004 [YR2004]</th><th>2005 [YR2005]</th><th>2006 [YR2006]</th><th>2007 [YR2007]</th><th>2008 [YR2008]</th><th>2009 [YR2009]</th><th>2010 [YR2010]</th><th>2011 [YR2011]</th><th>2012 [YR2012]</th><th>2013 [YR2013]</th><th>2014 [YR2014]</th><th>2015 [YR2015]</th><th>2016 [YR2016]</th><th>2017 [YR2017]</th><th>2018 [YR2018]</th><th>2019 [YR2019]</th><th>2020 [YR2020]</th><th>2021 [YR2021]</th><th>2022 [YR2022]</th></tr><tr><td>str</td><td>str</td><td>str</td><td>str</td><td>f64</td><td>f64</td><td>f64</td><td>f64</td><td>f64</td><td>f64</td><td>f64</td><td>f64</td><td>f64</td><td>f64</td><td>f64</td><td>f64</td><td>f64</td><td>f64</td><td>f64</td><td>f64</td><td>f64</td><td>f64</td><td>f64</td><td>f64</td><td>f64</td><td>f64</td><td>f64</td><td>f64</td><td>f64</td><td>f64</td><td>f64</td><td>f64</td><td>f64</td><td>f64</td><td>f64</td><td>f64</td><td>f64</td><td>f64</td><td>f64</td><td>f64</td><td>f64</td><td>f64</td><td>f64</td><td>f64</td><td>f64</td><td>f64</td><td>f64</td><td>f64</td><td>f64</td><td>f64</td><td>f64</td><td>f64</td><td>f64</td><td>f64</td><td>f64</td><td>f64</td><td>f64</td><td>f64</td><td>f64</td><td>f64</td><td>f64</td><td>f64</td><td>f64</td><td>f64</td><td>f64</td><td>f64</td><td>f64</td></tr></thead><tbody><tr><td>&quot;Afghanistan&quot;</td><td>&quot;Asia&quot;</td><td>&quot;Diabetes prevalence (% of popu…</td><td>&quot;SH.STA.DIAB.ZS&quot;</td><td>null</td><td>null</td><td>null</td><td>null</td><td>null</td><td>null</td><td>null</td><td>null</td><td>null</td><td>null</td><td>null</td><td>null</td><td>null</td><td>null</td><td>null</td><td>null</td><td>null</td><td>null</td><td>null</td><td>null</td><td>null</td><td>null</td><td>null</td><td>null</td><td>null</td><td>null</td><td>null</td><td>null</td><td>null</td><td>null</td><td>null</td><td>null</td><td>null</td><td>null</td><td>null</td><td>null</td><td>null</td><td>null</td><td>null</td><td>null</td><td>null</td><td>null</td><td>null</td><td>null</td><td>null</td><td>null</td><td>null</td><td>null</td><td>null</td><td>null</td><td>null</td><td>7.6</td><td>null</td><td>null</td><td>null</td><td>null</td><td>null</td><td>null</td><td>null</td><td>null</td><td>null</td><td>10.9</td><td>null</td></tr><tr><td>&quot;Afghanistan&quot;</td><td>&quot;Asia&quot;</td><td>&quot;Diabetes prevalence (% of popu…</td><td>&quot;SH.STA.DIAB.ZS&quot;</td><td>null</td><td>null</td><td>null</td><td>null</td><td>null</td><td>null</td><td>null</td><td>null</td><td>null</td><td>null</td><td>null</td><td>null</td><td>null</td><td>null</td><td>null</td><td>null</td><td>null</td><td>null</td><td>null</td><td>null</td><td>null</td><td>null</td><td>null</td><td>null</td><td>null</td><td>null</td><td>null</td><td>null</td><td>null</td><td>null</td><td>null</td><td>null</td><td>null</td><td>null</td><td>null</td><td>null</td><td>null</td><td>null</td><td>null</td><td>null</td><td>null</td><td>null</td><td>null</td><td>null</td><td>null</td><td>null</td><td>null</td><td>null</td><td>null</td><td>null</td><td>null</td><td>7.6</td><td>null</td><td>null</td><td>null</td><td>null</td><td>null</td><td>null</td><td>null</td><td>null</td><td>null</td><td>10.9</td><td>null</td></tr><tr><td>&quot;Afghanistan&quot;</td><td>&quot;Asia&quot;</td><td>&quot;Diabetes prevalence (% of popu…</td><td>&quot;SH.STA.DIAB.ZS&quot;</td><td>null</td><td>null</td><td>null</td><td>null</td><td>null</td><td>null</td><td>null</td><td>null</td><td>null</td><td>null</td><td>null</td><td>null</td><td>null</td><td>null</td><td>null</td><td>null</td><td>null</td><td>null</td><td>null</td><td>null</td><td>null</td><td>null</td><td>null</td><td>null</td><td>null</td><td>null</td><td>null</td><td>null</td><td>null</td><td>null</td><td>null</td><td>null</td><td>null</td><td>null</td><td>null</td><td>null</td><td>null</td><td>null</td><td>null</td><td>null</td><td>null</td><td>null</td><td>null</td><td>null</td><td>null</td><td>null</td><td>null</td><td>null</td><td>null</td><td>null</td><td>null</td><td>7.6</td><td>null</td><td>null</td><td>null</td><td>null</td><td>null</td><td>null</td><td>null</td><td>null</td><td>null</td><td>10.9</td><td>null</td></tr><tr><td>&quot;Afghanistan&quot;</td><td>&quot;Asia&quot;</td><td>&quot;Diabetes prevalence (% of popu…</td><td>&quot;SH.STA.DIAB.ZS&quot;</td><td>null</td><td>null</td><td>null</td><td>null</td><td>null</td><td>null</td><td>null</td><td>null</td><td>null</td><td>null</td><td>null</td><td>null</td><td>null</td><td>null</td><td>null</td><td>null</td><td>null</td><td>null</td><td>null</td><td>null</td><td>null</td><td>null</td><td>null</td><td>null</td><td>null</td><td>null</td><td>null</td><td>null</td><td>null</td><td>null</td><td>null</td><td>null</td><td>null</td><td>null</td><td>null</td><td>null</td><td>null</td><td>null</td><td>null</td><td>null</td><td>null</td><td>null</td><td>null</td><td>null</td><td>null</td><td>null</td><td>null</td><td>null</td><td>null</td><td>null</td><td>null</td><td>7.6</td><td>null</td><td>null</td><td>null</td><td>null</td><td>null</td><td>null</td><td>null</td><td>null</td><td>null</td><td>10.9</td><td>null</td></tr><tr><td>&quot;Afghanistan&quot;</td><td>&quot;Asia&quot;</td><td>&quot;Diabetes prevalence (% of popu…</td><td>&quot;SH.STA.DIAB.ZS&quot;</td><td>null</td><td>null</td><td>null</td><td>null</td><td>null</td><td>null</td><td>null</td><td>null</td><td>null</td><td>null</td><td>null</td><td>null</td><td>null</td><td>null</td><td>null</td><td>null</td><td>null</td><td>null</td><td>null</td><td>null</td><td>null</td><td>null</td><td>null</td><td>null</td><td>null</td><td>null</td><td>null</td><td>null</td><td>null</td><td>null</td><td>null</td><td>null</td><td>null</td><td>null</td><td>null</td><td>null</td><td>null</td><td>null</td><td>null</td><td>null</td><td>null</td><td>null</td><td>null</td><td>null</td><td>null</td><td>null</td><td>null</td><td>null</td><td>null</td><td>null</td><td>null</td><td>7.6</td><td>null</td><td>null</td><td>null</td><td>null</td><td>null</td><td>null</td><td>null</td><td>null</td><td>null</td><td>10.9</td><td>null</td></tr></tbody></table></div>"
      ],
      "text/plain": [
       "shape: (5, 67)\n",
       "┌────────────┬────────┬────────────┬───────────┬───┬───────────┬───────────┬───────────┬───────────┐\n",
       "│ Country    ┆ Region ┆ Series     ┆ Series    ┆ … ┆ 2019      ┆ 2020      ┆ 2021      ┆ 2022      │\n",
       "│ Name       ┆ ---    ┆ Name       ┆ Code      ┆   ┆ [YR2019]  ┆ [YR2020]  ┆ [YR2021]  ┆ [YR2022]  │\n",
       "│ ---        ┆ str    ┆ ---        ┆ ---       ┆   ┆ ---       ┆ ---       ┆ ---       ┆ ---       │\n",
       "│ str        ┆        ┆ str        ┆ str       ┆   ┆ f64       ┆ f64       ┆ f64       ┆ f64       │\n",
       "╞════════════╪════════╪════════════╪═══════════╪═══╪═══════════╪═══════════╪═══════════╪═══════════╡\n",
       "│ Afghanista ┆ Asia   ┆ Diabetes   ┆ SH.STA.DI ┆ … ┆ null      ┆ null      ┆ 10.9      ┆ null      │\n",
       "│ n          ┆        ┆ prevalence ┆ AB.ZS     ┆   ┆           ┆           ┆           ┆           │\n",
       "│            ┆        ┆ (% of      ┆           ┆   ┆           ┆           ┆           ┆           │\n",
       "│            ┆        ┆ popu…      ┆           ┆   ┆           ┆           ┆           ┆           │\n",
       "│ Afghanista ┆ Asia   ┆ Diabetes   ┆ SH.STA.DI ┆ … ┆ null      ┆ null      ┆ 10.9      ┆ null      │\n",
       "│ n          ┆        ┆ prevalence ┆ AB.ZS     ┆   ┆           ┆           ┆           ┆           │\n",
       "│            ┆        ┆ (% of      ┆           ┆   ┆           ┆           ┆           ┆           │\n",
       "│            ┆        ┆ popu…      ┆           ┆   ┆           ┆           ┆           ┆           │\n",
       "│ Afghanista ┆ Asia   ┆ Diabetes   ┆ SH.STA.DI ┆ … ┆ null      ┆ null      ┆ 10.9      ┆ null      │\n",
       "│ n          ┆        ┆ prevalence ┆ AB.ZS     ┆   ┆           ┆           ┆           ┆           │\n",
       "│            ┆        ┆ (% of      ┆           ┆   ┆           ┆           ┆           ┆           │\n",
       "│            ┆        ┆ popu…      ┆           ┆   ┆           ┆           ┆           ┆           │\n",
       "│ Afghanista ┆ Asia   ┆ Diabetes   ┆ SH.STA.DI ┆ … ┆ null      ┆ null      ┆ 10.9      ┆ null      │\n",
       "│ n          ┆        ┆ prevalence ┆ AB.ZS     ┆   ┆           ┆           ┆           ┆           │\n",
       "│            ┆        ┆ (% of      ┆           ┆   ┆           ┆           ┆           ┆           │\n",
       "│            ┆        ┆ popu…      ┆           ┆   ┆           ┆           ┆           ┆           │\n",
       "│ Afghanista ┆ Asia   ┆ Diabetes   ┆ SH.STA.DI ┆ … ┆ null      ┆ null      ┆ 10.9      ┆ null      │\n",
       "│ n          ┆        ┆ prevalence ┆ AB.ZS     ┆   ┆           ┆           ┆           ┆           │\n",
       "│            ┆        ┆ (% of      ┆           ┆   ┆           ┆           ┆           ┆           │\n",
       "│            ┆        ┆ popu…      ┆           ┆   ┆           ┆           ┆           ┆           │\n",
       "└────────────┴────────┴────────────┴───────────┴───┴───────────┴───────────┴───────────┴───────────┘"
      ]
     },
     "execution_count": 81,
     "metadata": {},
     "output_type": "execute_result"
    }
   ],
   "source": [
    "(WB_dev_ind\n",
    " .rename({'1960 [YR1960]':'1960',\n",
    "          '1961 [YR1961]':'1961',\n",
    "         })\n",
    " ).head()"
   ]
  },
  {
   "cell_type": "markdown",
   "id": "374a65f6-c666-424c-95e9-51246a41e6b5",
   "metadata": {},
   "source": [
    "#### First, do it to one ..."
   ]
  },
  {
   "cell_type": "code",
   "execution_count": 82,
   "id": "10dd31a7-551f-485e-aedb-65b125903152",
   "metadata": {},
   "outputs": [
    {
     "data": {
      "text/plain": [
       "['1960', 'YR1960]']"
      ]
     },
     "execution_count": 82,
     "metadata": {},
     "output_type": "execute_result"
    }
   ],
   "source": [
    "'1960 [YR1960]'.split(' [')"
   ]
  },
  {
   "cell_type": "code",
   "execution_count": 83,
   "id": "65027085-82fc-41cd-9aa3-02051707cbcd",
   "metadata": {},
   "outputs": [
    {
     "data": {
      "text/plain": [
       "'1960'"
      ]
     },
     "execution_count": 83,
     "metadata": {},
     "output_type": "execute_result"
    }
   ],
   "source": [
    "'1960 [YR1960]'.split(' [')[0]"
   ]
  },
  {
   "cell_type": "markdown",
   "id": "46efd875-7e0d-4727-99e1-da2baa3c12ab",
   "metadata": {},
   "source": [
    "#### ... then do it to all."
   ]
  },
  {
   "cell_type": "code",
   "execution_count": 84,
   "id": "b2f781d9-ae94-4acc-985f-7d105bdabfe6",
   "metadata": {},
   "outputs": [
    {
     "data": {
      "text/plain": [
       "{'1960 [YR1960]': '1960',\n",
       " '1961 [YR1961]': '1961',\n",
       " '1962 [YR1962]': '1962',\n",
       " '1963 [YR1963]': '1963',\n",
       " '1964 [YR1964]': '1964',\n",
       " '1965 [YR1965]': '1965',\n",
       " '1966 [YR1966]': '1966',\n",
       " '1967 [YR1967]': '1967',\n",
       " '1968 [YR1968]': '1968',\n",
       " '1969 [YR1969]': '1969',\n",
       " '1970 [YR1970]': '1970',\n",
       " '1971 [YR1971]': '1971',\n",
       " '1972 [YR1972]': '1972',\n",
       " '1973 [YR1973]': '1973',\n",
       " '1974 [YR1974]': '1974',\n",
       " '1975 [YR1975]': '1975',\n",
       " '1976 [YR1976]': '1976',\n",
       " '1977 [YR1977]': '1977',\n",
       " '1978 [YR1978]': '1978',\n",
       " '1979 [YR1979]': '1979',\n",
       " '1980 [YR1980]': '1980',\n",
       " '1981 [YR1981]': '1981',\n",
       " '1982 [YR1982]': '1982',\n",
       " '1983 [YR1983]': '1983',\n",
       " '1984 [YR1984]': '1984',\n",
       " '1985 [YR1985]': '1985',\n",
       " '1986 [YR1986]': '1986',\n",
       " '1987 [YR1987]': '1987',\n",
       " '1988 [YR1988]': '1988',\n",
       " '1989 [YR1989]': '1989',\n",
       " '1990 [YR1990]': '1990',\n",
       " '1991 [YR1991]': '1991',\n",
       " '1992 [YR1992]': '1992',\n",
       " '1993 [YR1993]': '1993',\n",
       " '1994 [YR1994]': '1994',\n",
       " '1995 [YR1995]': '1995',\n",
       " '1996 [YR1996]': '1996',\n",
       " '1997 [YR1997]': '1997',\n",
       " '1998 [YR1998]': '1998',\n",
       " '1999 [YR1999]': '1999',\n",
       " '2000 [YR2000]': '2000',\n",
       " '2001 [YR2001]': '2001',\n",
       " '2002 [YR2002]': '2002',\n",
       " '2003 [YR2003]': '2003',\n",
       " '2004 [YR2004]': '2004',\n",
       " '2005 [YR2005]': '2005',\n",
       " '2006 [YR2006]': '2006',\n",
       " '2007 [YR2007]': '2007',\n",
       " '2008 [YR2008]': '2008',\n",
       " '2009 [YR2009]': '2009',\n",
       " '2010 [YR2010]': '2010',\n",
       " '2011 [YR2011]': '2011',\n",
       " '2012 [YR2012]': '2012',\n",
       " '2013 [YR2013]': '2013',\n",
       " '2014 [YR2014]': '2014',\n",
       " '2015 [YR2015]': '2015',\n",
       " '2016 [YR2016]': '2016',\n",
       " '2017 [YR2017]': '2017',\n",
       " '2018 [YR2018]': '2018',\n",
       " '2019 [YR2019]': '2019',\n",
       " '2020 [YR2020]': '2020',\n",
       " '2021 [YR2021]': '2021',\n",
       " '2022 [YR2022]': '2022'}"
      ]
     },
     "execution_count": 84,
     "metadata": {},
     "output_type": "execute_result"
    }
   ],
   "source": [
    "(rename_years :=\n",
    "    {old: old.split(\" [\")[0] \n",
    "     for old in WB_dev_ind.columns \n",
    "     if '[YR' in old\n",
    "    }\n",
    ")"
   ]
  },
  {
   "cell_type": "code",
   "execution_count": 85,
   "id": "2dfe636d-385d-4a2d-8f85-78fc88ea6b64",
   "metadata": {},
   "outputs": [
    {
     "data": {
      "text/html": [
       "<div><style>\n",
       ".dataframe > thead > tr,\n",
       ".dataframe > tbody > tr {\n",
       "  text-align: right;\n",
       "  white-space: pre-wrap;\n",
       "}\n",
       "</style>\n",
       "<small>shape: (5, 67)</small><table border=\"1\" class=\"dataframe\"><thead><tr><th>Country Name</th><th>Region</th><th>Series Name</th><th>Series Code</th><th>1960</th><th>1961</th><th>1962</th><th>1963</th><th>1964</th><th>1965</th><th>1966</th><th>1967</th><th>1968</th><th>1969</th><th>1970</th><th>1971</th><th>1972</th><th>1973</th><th>1974</th><th>1975</th><th>1976</th><th>1977</th><th>1978</th><th>1979</th><th>1980</th><th>1981</th><th>1982</th><th>1983</th><th>1984</th><th>1985</th><th>1986</th><th>1987</th><th>1988</th><th>1989</th><th>1990</th><th>1991</th><th>1992</th><th>1993</th><th>1994</th><th>1995</th><th>1996</th><th>1997</th><th>1998</th><th>1999</th><th>2000</th><th>2001</th><th>2002</th><th>2003</th><th>2004</th><th>2005</th><th>2006</th><th>2007</th><th>2008</th><th>2009</th><th>2010</th><th>2011</th><th>2012</th><th>2013</th><th>2014</th><th>2015</th><th>2016</th><th>2017</th><th>2018</th><th>2019</th><th>2020</th><th>2021</th><th>2022</th></tr><tr><td>str</td><td>str</td><td>str</td><td>str</td><td>f64</td><td>f64</td><td>f64</td><td>f64</td><td>f64</td><td>f64</td><td>f64</td><td>f64</td><td>f64</td><td>f64</td><td>f64</td><td>f64</td><td>f64</td><td>f64</td><td>f64</td><td>f64</td><td>f64</td><td>f64</td><td>f64</td><td>f64</td><td>f64</td><td>f64</td><td>f64</td><td>f64</td><td>f64</td><td>f64</td><td>f64</td><td>f64</td><td>f64</td><td>f64</td><td>f64</td><td>f64</td><td>f64</td><td>f64</td><td>f64</td><td>f64</td><td>f64</td><td>f64</td><td>f64</td><td>f64</td><td>f64</td><td>f64</td><td>f64</td><td>f64</td><td>f64</td><td>f64</td><td>f64</td><td>f64</td><td>f64</td><td>f64</td><td>f64</td><td>f64</td><td>f64</td><td>f64</td><td>f64</td><td>f64</td><td>f64</td><td>f64</td><td>f64</td><td>f64</td><td>f64</td><td>f64</td><td>f64</td></tr></thead><tbody><tr><td>&quot;Afghanistan&quot;</td><td>&quot;Asia&quot;</td><td>&quot;Diabetes prevalence (% of popu…</td><td>&quot;SH.STA.DIAB.ZS&quot;</td><td>null</td><td>null</td><td>null</td><td>null</td><td>null</td><td>null</td><td>null</td><td>null</td><td>null</td><td>null</td><td>null</td><td>null</td><td>null</td><td>null</td><td>null</td><td>null</td><td>null</td><td>null</td><td>null</td><td>null</td><td>null</td><td>null</td><td>null</td><td>null</td><td>null</td><td>null</td><td>null</td><td>null</td><td>null</td><td>null</td><td>null</td><td>null</td><td>null</td><td>null</td><td>null</td><td>null</td><td>null</td><td>null</td><td>null</td><td>null</td><td>null</td><td>null</td><td>null</td><td>null</td><td>null</td><td>null</td><td>null</td><td>null</td><td>null</td><td>null</td><td>null</td><td>7.6</td><td>null</td><td>null</td><td>null</td><td>null</td><td>null</td><td>null</td><td>null</td><td>null</td><td>null</td><td>10.9</td><td>null</td></tr><tr><td>&quot;Afghanistan&quot;</td><td>&quot;Asia&quot;</td><td>&quot;Diabetes prevalence (% of popu…</td><td>&quot;SH.STA.DIAB.ZS&quot;</td><td>null</td><td>null</td><td>null</td><td>null</td><td>null</td><td>null</td><td>null</td><td>null</td><td>null</td><td>null</td><td>null</td><td>null</td><td>null</td><td>null</td><td>null</td><td>null</td><td>null</td><td>null</td><td>null</td><td>null</td><td>null</td><td>null</td><td>null</td><td>null</td><td>null</td><td>null</td><td>null</td><td>null</td><td>null</td><td>null</td><td>null</td><td>null</td><td>null</td><td>null</td><td>null</td><td>null</td><td>null</td><td>null</td><td>null</td><td>null</td><td>null</td><td>null</td><td>null</td><td>null</td><td>null</td><td>null</td><td>null</td><td>null</td><td>null</td><td>null</td><td>null</td><td>7.6</td><td>null</td><td>null</td><td>null</td><td>null</td><td>null</td><td>null</td><td>null</td><td>null</td><td>null</td><td>10.9</td><td>null</td></tr><tr><td>&quot;Afghanistan&quot;</td><td>&quot;Asia&quot;</td><td>&quot;Diabetes prevalence (% of popu…</td><td>&quot;SH.STA.DIAB.ZS&quot;</td><td>null</td><td>null</td><td>null</td><td>null</td><td>null</td><td>null</td><td>null</td><td>null</td><td>null</td><td>null</td><td>null</td><td>null</td><td>null</td><td>null</td><td>null</td><td>null</td><td>null</td><td>null</td><td>null</td><td>null</td><td>null</td><td>null</td><td>null</td><td>null</td><td>null</td><td>null</td><td>null</td><td>null</td><td>null</td><td>null</td><td>null</td><td>null</td><td>null</td><td>null</td><td>null</td><td>null</td><td>null</td><td>null</td><td>null</td><td>null</td><td>null</td><td>null</td><td>null</td><td>null</td><td>null</td><td>null</td><td>null</td><td>null</td><td>null</td><td>null</td><td>null</td><td>7.6</td><td>null</td><td>null</td><td>null</td><td>null</td><td>null</td><td>null</td><td>null</td><td>null</td><td>null</td><td>10.9</td><td>null</td></tr><tr><td>&quot;Afghanistan&quot;</td><td>&quot;Asia&quot;</td><td>&quot;Diabetes prevalence (% of popu…</td><td>&quot;SH.STA.DIAB.ZS&quot;</td><td>null</td><td>null</td><td>null</td><td>null</td><td>null</td><td>null</td><td>null</td><td>null</td><td>null</td><td>null</td><td>null</td><td>null</td><td>null</td><td>null</td><td>null</td><td>null</td><td>null</td><td>null</td><td>null</td><td>null</td><td>null</td><td>null</td><td>null</td><td>null</td><td>null</td><td>null</td><td>null</td><td>null</td><td>null</td><td>null</td><td>null</td><td>null</td><td>null</td><td>null</td><td>null</td><td>null</td><td>null</td><td>null</td><td>null</td><td>null</td><td>null</td><td>null</td><td>null</td><td>null</td><td>null</td><td>null</td><td>null</td><td>null</td><td>null</td><td>null</td><td>null</td><td>7.6</td><td>null</td><td>null</td><td>null</td><td>null</td><td>null</td><td>null</td><td>null</td><td>null</td><td>null</td><td>10.9</td><td>null</td></tr><tr><td>&quot;Afghanistan&quot;</td><td>&quot;Asia&quot;</td><td>&quot;Diabetes prevalence (% of popu…</td><td>&quot;SH.STA.DIAB.ZS&quot;</td><td>null</td><td>null</td><td>null</td><td>null</td><td>null</td><td>null</td><td>null</td><td>null</td><td>null</td><td>null</td><td>null</td><td>null</td><td>null</td><td>null</td><td>null</td><td>null</td><td>null</td><td>null</td><td>null</td><td>null</td><td>null</td><td>null</td><td>null</td><td>null</td><td>null</td><td>null</td><td>null</td><td>null</td><td>null</td><td>null</td><td>null</td><td>null</td><td>null</td><td>null</td><td>null</td><td>null</td><td>null</td><td>null</td><td>null</td><td>null</td><td>null</td><td>null</td><td>null</td><td>null</td><td>null</td><td>null</td><td>null</td><td>null</td><td>null</td><td>null</td><td>null</td><td>7.6</td><td>null</td><td>null</td><td>null</td><td>null</td><td>null</td><td>null</td><td>null</td><td>null</td><td>null</td><td>10.9</td><td>null</td></tr></tbody></table></div>"
      ],
      "text/plain": [
       "shape: (5, 67)\n",
       "┌──────────────┬────────┬─────────────────────────┬────────────────┬───┬──────┬──────┬──────┬──────┐\n",
       "│ Country Name ┆ Region ┆ Series Name             ┆ Series Code    ┆ … ┆ 2019 ┆ 2020 ┆ 2021 ┆ 2022 │\n",
       "│ ---          ┆ ---    ┆ ---                     ┆ ---            ┆   ┆ ---  ┆ ---  ┆ ---  ┆ ---  │\n",
       "│ str          ┆ str    ┆ str                     ┆ str            ┆   ┆ f64  ┆ f64  ┆ f64  ┆ f64  │\n",
       "╞══════════════╪════════╪═════════════════════════╪════════════════╪═══╪══════╪══════╪══════╪══════╡\n",
       "│ Afghanistan  ┆ Asia   ┆ Diabetes prevalence (%  ┆ SH.STA.DIAB.ZS ┆ … ┆ null ┆ null ┆ 10.9 ┆ null │\n",
       "│              ┆        ┆ of popu…                ┆                ┆   ┆      ┆      ┆      ┆      │\n",
       "│ Afghanistan  ┆ Asia   ┆ Diabetes prevalence (%  ┆ SH.STA.DIAB.ZS ┆ … ┆ null ┆ null ┆ 10.9 ┆ null │\n",
       "│              ┆        ┆ of popu…                ┆                ┆   ┆      ┆      ┆      ┆      │\n",
       "│ Afghanistan  ┆ Asia   ┆ Diabetes prevalence (%  ┆ SH.STA.DIAB.ZS ┆ … ┆ null ┆ null ┆ 10.9 ┆ null │\n",
       "│              ┆        ┆ of popu…                ┆                ┆   ┆      ┆      ┆      ┆      │\n",
       "│ Afghanistan  ┆ Asia   ┆ Diabetes prevalence (%  ┆ SH.STA.DIAB.ZS ┆ … ┆ null ┆ null ┆ 10.9 ┆ null │\n",
       "│              ┆        ┆ of popu…                ┆                ┆   ┆      ┆      ┆      ┆      │\n",
       "│ Afghanistan  ┆ Asia   ┆ Diabetes prevalence (%  ┆ SH.STA.DIAB.ZS ┆ … ┆ null ┆ null ┆ 10.9 ┆ null │\n",
       "│              ┆        ┆ of popu…                ┆                ┆   ┆      ┆      ┆      ┆      │\n",
       "└──────────────┴────────┴─────────────────────────┴────────────────┴───┴──────┴──────┴──────┴──────┘"
      ]
     },
     "execution_count": 85,
     "metadata": {},
     "output_type": "execute_result"
    }
   ],
   "source": [
    "(WB_dev_ind :=\n",
    " pl.read_csv('./data/world_bank_raw_download_F23.csv', \n",
    "             infer_schema_length=10000, \n",
    "             null_values='..',\n",
    "            )\n",
    " .filter(pl.col(\"Series Name\").is_not_null())\n",
    " .rename(rename_years)\n",
    ").head()"
   ]
  },
  {
   "cell_type": "markdown",
   "id": "9d1bddb7-a679-49b0-94fe-632b1c7fb862",
   "metadata": {},
   "source": [
    "## Topic 2 - Using list comprehensions to select columns\n",
    "\n",
    "While there is a cleaner solution (see below), we can use columns selection to illustrate using `list` comprehensions to programmically process the column names in a select.\n",
    "\n",
    "To illustrate, we look at some familiar string verbs.\n",
    "- `by_name` to select by the exact name,\n",
    "- `contains` to check for a sub-string,\n",
    "- `starts_with` and `ends_with` to select by prefix/suffix,\n",
    "- `matches` to capture more complicated patterns with a RegEx."
   ]
  },
  {
   "cell_type": "markdown",
   "id": "5e139828-7c1b-48ff-a62a-7930ad56ebe7",
   "metadata": {},
   "source": [
    "#### Example - Selecting BY NAME"
   ]
  },
  {
   "cell_type": "code",
   "execution_count": 86,
   "id": "d2651d31-83c6-4938-baf3-d068dd98391a",
   "metadata": {
    "scrolled": true
   },
   "outputs": [
    {
     "data": {
      "text/html": [
       "<div><style>\n",
       ".dataframe > thead > tr,\n",
       ".dataframe > tbody > tr {\n",
       "  text-align: right;\n",
       "  white-space: pre-wrap;\n",
       "}\n",
       "</style>\n",
       "<small>shape: (5, 2)</small><table border=\"1\" class=\"dataframe\"><thead><tr><th>Series Name</th><th>Series Code</th></tr><tr><td>str</td><td>str</td></tr></thead><tbody><tr><td>&quot;Diabetes prevalence (% of popu…</td><td>&quot;SH.STA.DIAB.ZS&quot;</td></tr><tr><td>&quot;Diabetes prevalence (% of popu…</td><td>&quot;SH.STA.DIAB.ZS&quot;</td></tr><tr><td>&quot;Diabetes prevalence (% of popu…</td><td>&quot;SH.STA.DIAB.ZS&quot;</td></tr><tr><td>&quot;Diabetes prevalence (% of popu…</td><td>&quot;SH.STA.DIAB.ZS&quot;</td></tr><tr><td>&quot;Diabetes prevalence (% of popu…</td><td>&quot;SH.STA.DIAB.ZS&quot;</td></tr></tbody></table></div>"
      ],
      "text/plain": [
       "shape: (5, 2)\n",
       "┌─────────────────────────────────┬────────────────┐\n",
       "│ Series Name                     ┆ Series Code    │\n",
       "│ ---                             ┆ ---            │\n",
       "│ str                             ┆ str            │\n",
       "╞═════════════════════════════════╪════════════════╡\n",
       "│ Diabetes prevalence (% of popu… ┆ SH.STA.DIAB.ZS │\n",
       "│ Diabetes prevalence (% of popu… ┆ SH.STA.DIAB.ZS │\n",
       "│ Diabetes prevalence (% of popu… ┆ SH.STA.DIAB.ZS │\n",
       "│ Diabetes prevalence (% of popu… ┆ SH.STA.DIAB.ZS │\n",
       "│ Diabetes prevalence (% of popu… ┆ SH.STA.DIAB.ZS │\n",
       "└─────────────────────────────────┴────────────────┘"
      ]
     },
     "execution_count": 86,
     "metadata": {},
     "output_type": "execute_result"
    }
   ],
   "source": [
    "(WB_dev_ind\n",
    " .select([col \n",
    "          for col in WB_dev_ind.columns \n",
    "          if col in (\"Series Name\", \"Series Code\")\n",
    "         ])\n",
    ").head()"
   ]
  },
  {
   "cell_type": "markdown",
   "id": "0b8012cd-c50b-47e5-bf01-ea770f044d4e",
   "metadata": {},
   "source": [
    "#### Example - Selecting the Series name that CONTAINS a substring"
   ]
  },
  {
   "cell_type": "code",
   "execution_count": 87,
   "id": "cd44880c-cc0f-4c72-be34-3ccc78fbaeeb",
   "metadata": {},
   "outputs": [
    {
     "data": {
      "text/html": [
       "<div><style>\n",
       ".dataframe > thead > tr,\n",
       ".dataframe > tbody > tr {\n",
       "  text-align: right;\n",
       "  white-space: pre-wrap;\n",
       "}\n",
       "</style>\n",
       "<small>shape: (5, 2)</small><table border=\"1\" class=\"dataframe\"><thead><tr><th>Series Name</th><th>Series Code</th></tr><tr><td>str</td><td>str</td></tr></thead><tbody><tr><td>&quot;Diabetes prevalence (% of popu…</td><td>&quot;SH.STA.DIAB.ZS&quot;</td></tr><tr><td>&quot;Diabetes prevalence (% of popu…</td><td>&quot;SH.STA.DIAB.ZS&quot;</td></tr><tr><td>&quot;Diabetes prevalence (% of popu…</td><td>&quot;SH.STA.DIAB.ZS&quot;</td></tr><tr><td>&quot;Diabetes prevalence (% of popu…</td><td>&quot;SH.STA.DIAB.ZS&quot;</td></tr><tr><td>&quot;Diabetes prevalence (% of popu…</td><td>&quot;SH.STA.DIAB.ZS&quot;</td></tr></tbody></table></div>"
      ],
      "text/plain": [
       "shape: (5, 2)\n",
       "┌─────────────────────────────────┬────────────────┐\n",
       "│ Series Name                     ┆ Series Code    │\n",
       "│ ---                             ┆ ---            │\n",
       "│ str                             ┆ str            │\n",
       "╞═════════════════════════════════╪════════════════╡\n",
       "│ Diabetes prevalence (% of popu… ┆ SH.STA.DIAB.ZS │\n",
       "│ Diabetes prevalence (% of popu… ┆ SH.STA.DIAB.ZS │\n",
       "│ Diabetes prevalence (% of popu… ┆ SH.STA.DIAB.ZS │\n",
       "│ Diabetes prevalence (% of popu… ┆ SH.STA.DIAB.ZS │\n",
       "│ Diabetes prevalence (% of popu… ┆ SH.STA.DIAB.ZS │\n",
       "└─────────────────────────────────┴────────────────┘"
      ]
     },
     "execution_count": 87,
     "metadata": {},
     "output_type": "execute_result"
    }
   ],
   "source": [
    "(WB_dev_ind\n",
    " .select([col \n",
    "          for col in WB_dev_ind.columns \n",
    "          if 'Series' in col\n",
    "         ])\n",
    ").head()\n"
   ]
  },
  {
   "cell_type": "markdown",
   "id": "f44ccfe1-f20c-4a66-80e4-a4166f43bc7a",
   "metadata": {},
   "source": [
    "#### Example - Selecting that STARTSWITH a substring"
   ]
  },
  {
   "cell_type": "code",
   "execution_count": 88,
   "id": "08053120-f7f4-48fb-bd7c-79fa82d2d42e",
   "metadata": {},
   "outputs": [
    {
     "data": {
      "text/html": [
       "<div><style>\n",
       ".dataframe > thead > tr,\n",
       ".dataframe > tbody > tr {\n",
       "  text-align: right;\n",
       "  white-space: pre-wrap;\n",
       "}\n",
       "</style>\n",
       "<small>shape: (5, 10)</small><table border=\"1\" class=\"dataframe\"><thead><tr><th>1990</th><th>1991</th><th>1992</th><th>1993</th><th>1994</th><th>1995</th><th>1996</th><th>1997</th><th>1998</th><th>1999</th></tr><tr><td>f64</td><td>f64</td><td>f64</td><td>f64</td><td>f64</td><td>f64</td><td>f64</td><td>f64</td><td>f64</td><td>f64</td></tr></thead><tbody><tr><td>null</td><td>null</td><td>null</td><td>null</td><td>null</td><td>null</td><td>null</td><td>null</td><td>null</td><td>null</td></tr><tr><td>null</td><td>null</td><td>null</td><td>null</td><td>null</td><td>null</td><td>null</td><td>null</td><td>null</td><td>null</td></tr><tr><td>null</td><td>null</td><td>null</td><td>null</td><td>null</td><td>null</td><td>null</td><td>null</td><td>null</td><td>null</td></tr><tr><td>null</td><td>null</td><td>null</td><td>null</td><td>null</td><td>null</td><td>null</td><td>null</td><td>null</td><td>null</td></tr><tr><td>null</td><td>null</td><td>null</td><td>null</td><td>null</td><td>null</td><td>null</td><td>null</td><td>null</td><td>null</td></tr></tbody></table></div>"
      ],
      "text/plain": [
       "shape: (5, 10)\n",
       "┌──────┬──────┬──────┬──────┬───┬──────┬──────┬──────┬──────┐\n",
       "│ 1990 ┆ 1991 ┆ 1992 ┆ 1993 ┆ … ┆ 1996 ┆ 1997 ┆ 1998 ┆ 1999 │\n",
       "│ ---  ┆ ---  ┆ ---  ┆ ---  ┆   ┆ ---  ┆ ---  ┆ ---  ┆ ---  │\n",
       "│ f64  ┆ f64  ┆ f64  ┆ f64  ┆   ┆ f64  ┆ f64  ┆ f64  ┆ f64  │\n",
       "╞══════╪══════╪══════╪══════╪═══╪══════╪══════╪══════╪══════╡\n",
       "│ null ┆ null ┆ null ┆ null ┆ … ┆ null ┆ null ┆ null ┆ null │\n",
       "│ null ┆ null ┆ null ┆ null ┆ … ┆ null ┆ null ┆ null ┆ null │\n",
       "│ null ┆ null ┆ null ┆ null ┆ … ┆ null ┆ null ┆ null ┆ null │\n",
       "│ null ┆ null ┆ null ┆ null ┆ … ┆ null ┆ null ┆ null ┆ null │\n",
       "│ null ┆ null ┆ null ┆ null ┆ … ┆ null ┆ null ┆ null ┆ null │\n",
       "└──────┴──────┴──────┴──────┴───┴──────┴──────┴──────┴──────┘"
      ]
     },
     "execution_count": 88,
     "metadata": {},
     "output_type": "execute_result"
    }
   ],
   "source": [
    "(WB_dev_ind\n",
    " .select([col \n",
    "          for col in WB_dev_ind.columns \n",
    "          if col.startswith('199')\n",
    "         ])\n",
    ").head()\n"
   ]
  },
  {
   "cell_type": "markdown",
   "id": "b90fd6d1-ee02-41a1-8afd-6831a2330b44",
   "metadata": {},
   "source": [
    "#### Example - Selecting columns that MATCH a RegEx pattern"
   ]
  },
  {
   "cell_type": "code",
   "execution_count": 89,
   "id": "a58f8b61-c2e9-48cc-b710-a076b3094490",
   "metadata": {},
   "outputs": [
    {
     "data": {
      "text/plain": [
       "[<re.Match object; span=(0, 4), match='1990'>,\n",
       " <re.Match object; span=(0, 4), match='1991'>,\n",
       " <re.Match object; span=(0, 4), match='1992'>,\n",
       " <re.Match object; span=(0, 4), match='1993'>,\n",
       " <re.Match object; span=(0, 4), match='1994'>,\n",
       " None,\n",
       " None,\n",
       " None,\n",
       " None,\n",
       " None]"
      ]
     },
     "execution_count": 89,
     "metadata": {},
     "output_type": "execute_result"
    }
   ],
   "source": [
    "early_90s = re.compile(r'^199[0-4]')\n",
    "the_90s = [str(y) for y in range(1990, 2000)]\n",
    "[early_90s.match(y) for y in the_90s]"
   ]
  },
  {
   "cell_type": "code",
   "execution_count": 90,
   "id": "df933949-a1b9-40c1-8b1a-64700aa7b04a",
   "metadata": {},
   "outputs": [
    {
     "data": {
      "text/html": [
       "<div><style>\n",
       ".dataframe > thead > tr,\n",
       ".dataframe > tbody > tr {\n",
       "  text-align: right;\n",
       "  white-space: pre-wrap;\n",
       "}\n",
       "</style>\n",
       "<small>shape: (5, 5)</small><table border=\"1\" class=\"dataframe\"><thead><tr><th>1990</th><th>1991</th><th>1992</th><th>1993</th><th>1994</th></tr><tr><td>f64</td><td>f64</td><td>f64</td><td>f64</td><td>f64</td></tr></thead><tbody><tr><td>null</td><td>null</td><td>null</td><td>null</td><td>null</td></tr><tr><td>null</td><td>null</td><td>null</td><td>null</td><td>null</td></tr><tr><td>null</td><td>null</td><td>null</td><td>null</td><td>null</td></tr><tr><td>null</td><td>null</td><td>null</td><td>null</td><td>null</td></tr><tr><td>null</td><td>null</td><td>null</td><td>null</td><td>null</td></tr></tbody></table></div>"
      ],
      "text/plain": [
       "shape: (5, 5)\n",
       "┌──────┬──────┬──────┬──────┬──────┐\n",
       "│ 1990 ┆ 1991 ┆ 1992 ┆ 1993 ┆ 1994 │\n",
       "│ ---  ┆ ---  ┆ ---  ┆ ---  ┆ ---  │\n",
       "│ f64  ┆ f64  ┆ f64  ┆ f64  ┆ f64  │\n",
       "╞══════╪══════╪══════╪══════╪══════╡\n",
       "│ null ┆ null ┆ null ┆ null ┆ null │\n",
       "│ null ┆ null ┆ null ┆ null ┆ null │\n",
       "│ null ┆ null ┆ null ┆ null ┆ null │\n",
       "│ null ┆ null ┆ null ┆ null ┆ null │\n",
       "│ null ┆ null ┆ null ┆ null ┆ null │\n",
       "└──────┴──────┴──────┴──────┴──────┘"
      ]
     },
     "execution_count": 90,
     "metadata": {},
     "output_type": "execute_result"
    }
   ],
   "source": [
    "(WB_dev_ind\n",
    " .select([col \n",
    "          for col in WB_dev_ind.columns \n",
    "          if early_90s.match(col)\n",
    "         ])\n",
    ").head()\n"
   ]
  },
  {
   "cell_type": "markdown",
   "id": "d1c04146-d2a7-44d6-bcc9-29aaae578fc1",
   "metadata": {},
   "source": [
    "## <font color=\"red\"> Exercise 3.1.1 </font>\n",
    "\n",
    "Create a table the contains the diabetes prevalence for each region.  For each part, use list comprehensions where possible.\n",
    "\n",
    "Note that you will need to\n",
    "\n",
    "1. Reshape to move all relevant series into columns and years into rows,\n",
    "2. Compute the total diabetes cases for each country/year,\n",
    "3. Aggregate the numerator (total diabetes) and denominator (population) for each region/year, and\n",
    "4. Compute the diabetes prevalence."
   ]
  },
  {
   "cell_type": "code",
   "execution_count": 91,
   "id": "1956052a-8732-40fa-8b63-18e96f8491f7",
   "metadata": {},
   "outputs": [
    {
     "name": "stderr",
     "output_type": "stream",
     "text": [
      "C:\\Users\\im4284hw\\AppData\\Local\\Temp\\ipykernel_18972\\28510562.py:5: DeprecationWarning: `DataFrame.melt` is deprecated; use `DataFrame.unpivot` instead, with `index` instead of `id_vars` and `on` instead of `value_vars`\n",
      "  WB_long = WB_dev_ind.melt(\n"
     ]
    }
   ],
   "source": [
    "# Your code here\n",
    "year_cols = [c for c in WB_dev_ind.columns if c.isdigit()]  # list comprehension as you asked to do in the video\n",
    "\n",
    "# reshape from wide to long\n",
    "WB_long = WB_dev_ind.melt(\n",
    "    id_vars=[\"Country Name\", \"Region\", \"Series Name\", \"Series Code\"], \n",
    "    value_vars=year_cols,\n",
    "    variable_name=\"Year\",\n",
    "    value_name=\"Value\"\n",
    ")\n"
   ]
  },
  {
   "cell_type": "code",
   "execution_count": 92,
   "id": "25a8d5f7",
   "metadata": {},
   "outputs": [],
   "source": [
    "# diabetes cases by country and year\n",
    "df_cases = (\n",
    "    WB_long\n",
    "    .filter(pl.col(\"Series Name\") == \"Diabetes cases\")\n",
    "    .group_by([\"Country Name\", \"Year\"])\n",
    "    .agg(pl.col(\"Value\").sum().alias(\"Total_diabetes\"))\n",
    ")\n"
   ]
  },
  {
   "cell_type": "code",
   "execution_count": 93,
   "id": "4da67317",
   "metadata": {},
   "outputs": [],
   "source": [
    "# population by country and year\n",
    "df_pop = (\n",
    "    WB_long\n",
    "    .filter(pl.col(\"Series Name\") == \"Population\")\n",
    "    .group_by([\"Country Name\", \"Year\"])\n",
    "    .agg(pl.col(\"Value\").sum().alias(\"Population\"))\n",
    ")\n"
   ]
  },
  {
   "cell_type": "code",
   "execution_count": 94,
   "id": "065d1695",
   "metadata": {},
   "outputs": [],
   "source": [
    "# join diabetes cases with population\n",
    "df_country = df_cases.join(df_pop, on=[\"Country Name\", \"Year\"])\n",
    "# aggregate to region level\n",
    "df_region = (\n",
    "    df_country\n",
    "    .join(WB_dev_ind.select([\"Country Name\", \"Region\"]).unique(), on=\"Country Name\")\n",
    "    .group_by([\"Region\", \"Year\"])\n",
    "    .agg([\n",
    "        pl.col(\"Total_diabetes\").sum().alias(\"Region_diabetes\"),\n",
    "        pl.col(\"Population\").sum().alias(\"Region_population\")\n",
    "    ])\n",
    ")\n"
   ]
  },
  {
   "cell_type": "code",
   "execution_count": 95,
   "id": "dbb027b9",
   "metadata": {},
   "outputs": [
    {
     "data": {
      "text/html": [
       "<div><style>\n",
       ".dataframe > thead > tr,\n",
       ".dataframe > tbody > tr {\n",
       "  text-align: right;\n",
       "  white-space: pre-wrap;\n",
       "}\n",
       "</style>\n",
       "<small>shape: (0, 5)</small><table border=\"1\" class=\"dataframe\"><thead><tr><th>Region</th><th>Year</th><th>Region_diabetes</th><th>Region_population</th><th>Prevalence</th></tr><tr><td>str</td><td>str</td><td>f64</td><td>f64</td><td>f64</td></tr></thead><tbody></tbody></table></div>"
      ],
      "text/plain": [
       "shape: (0, 5)\n",
       "┌────────┬──────┬─────────────────┬───────────────────┬────────────┐\n",
       "│ Region ┆ Year ┆ Region_diabetes ┆ Region_population ┆ Prevalence │\n",
       "│ ---    ┆ ---  ┆ ---             ┆ ---               ┆ ---        │\n",
       "│ str    ┆ str  ┆ f64             ┆ f64               ┆ f64        │\n",
       "╞════════╪══════╪═════════════════╪═══════════════════╪════════════╡\n",
       "└────────┴──────┴─────────────────┴───────────────────┴────────────┘"
      ]
     },
     "execution_count": 95,
     "metadata": {},
     "output_type": "execute_result"
    }
   ],
   "source": [
    "# calculate prevalence\n",
    "df_result = df_region.with_columns(\n",
    "    (pl.col(\"Region_diabetes\") / pl.col(\"Region_population\")).alias(\"Prevalence\")\n",
    ")\n",
    "\n",
    "df_result.head()\n"
   ]
  },
  {
   "cell_type": "markdown",
   "id": "03fbd022-5ab1-4022-9596-8362dc4769ef",
   "metadata": {},
   "source": [
    "## Topic 3 - `polars` Column Selectors\n",
    "\n",
    "Allow column selection based on\n",
    "\n",
    "- with familiar string verbs,\n",
    "- by name,\n",
    "- index,\n",
    "- type, or\n",
    "- other useful helper functions like `contains`, `starts_with`, or `matches`"
   ]
  },
  {
   "cell_type": "markdown",
   "id": "09a21a05-47de-4c7b-9213-352b671724f4",
   "metadata": {},
   "source": [
    "### Familiar string-based helpers\n",
    "\n",
    "First, we return to these string verbs.\n",
    "- `by_name` to select by the exact name,\n",
    "- `contains` to check for a sub-string,\n",
    "- `starts_with` and `ends_with` to select by prefix/suffix,\n",
    "- `matches` to capture more complicated patterns with a RegEx."
   ]
  },
  {
   "cell_type": "markdown",
   "id": "eee8e82e-dff8-40ea-a693-5136172c92a3",
   "metadata": {},
   "source": [
    "#### Example - Selecting by name"
   ]
  },
  {
   "cell_type": "code",
   "execution_count": 96,
   "id": "b08cc5a9-ff85-41ad-8a96-2687834fa7eb",
   "metadata": {
    "scrolled": true
   },
   "outputs": [
    {
     "data": {
      "text/html": [
       "<div><style>\n",
       ".dataframe > thead > tr,\n",
       ".dataframe > tbody > tr {\n",
       "  text-align: right;\n",
       "  white-space: pre-wrap;\n",
       "}\n",
       "</style>\n",
       "<small>shape: (5, 2)</small><table border=\"1\" class=\"dataframe\"><thead><tr><th>Series Name</th><th>Series Code</th></tr><tr><td>str</td><td>str</td></tr></thead><tbody><tr><td>&quot;Diabetes prevalence (% of popu…</td><td>&quot;SH.STA.DIAB.ZS&quot;</td></tr><tr><td>&quot;Diabetes prevalence (% of popu…</td><td>&quot;SH.STA.DIAB.ZS&quot;</td></tr><tr><td>&quot;Diabetes prevalence (% of popu…</td><td>&quot;SH.STA.DIAB.ZS&quot;</td></tr><tr><td>&quot;Diabetes prevalence (% of popu…</td><td>&quot;SH.STA.DIAB.ZS&quot;</td></tr><tr><td>&quot;Diabetes prevalence (% of popu…</td><td>&quot;SH.STA.DIAB.ZS&quot;</td></tr></tbody></table></div>"
      ],
      "text/plain": [
       "shape: (5, 2)\n",
       "┌─────────────────────────────────┬────────────────┐\n",
       "│ Series Name                     ┆ Series Code    │\n",
       "│ ---                             ┆ ---            │\n",
       "│ str                             ┆ str            │\n",
       "╞═════════════════════════════════╪════════════════╡\n",
       "│ Diabetes prevalence (% of popu… ┆ SH.STA.DIAB.ZS │\n",
       "│ Diabetes prevalence (% of popu… ┆ SH.STA.DIAB.ZS │\n",
       "│ Diabetes prevalence (% of popu… ┆ SH.STA.DIAB.ZS │\n",
       "│ Diabetes prevalence (% of popu… ┆ SH.STA.DIAB.ZS │\n",
       "│ Diabetes prevalence (% of popu… ┆ SH.STA.DIAB.ZS │\n",
       "└─────────────────────────────────┴────────────────┘"
      ]
     },
     "execution_count": 96,
     "metadata": {},
     "output_type": "execute_result"
    }
   ],
   "source": [
    "(WB_dev_ind\n",
    " .select(cs.by_name(\"Series Name\", \"Series Code\"))\n",
    ").head()"
   ]
  },
  {
   "cell_type": "markdown",
   "id": "58b52c16-caeb-499f-abca-3cf59397b48f",
   "metadata": {},
   "source": [
    "#### Example - Selecting the Series name and code using `contains`"
   ]
  },
  {
   "cell_type": "code",
   "execution_count": 97,
   "id": "8ff1cbc1-66eb-47e4-9ba2-9cd267fd32d6",
   "metadata": {},
   "outputs": [
    {
     "data": {
      "text/html": [
       "<div><style>\n",
       ".dataframe > thead > tr,\n",
       ".dataframe > tbody > tr {\n",
       "  text-align: right;\n",
       "  white-space: pre-wrap;\n",
       "}\n",
       "</style>\n",
       "<small>shape: (5, 2)</small><table border=\"1\" class=\"dataframe\"><thead><tr><th>Series Name</th><th>Series Code</th></tr><tr><td>str</td><td>str</td></tr></thead><tbody><tr><td>&quot;Diabetes prevalence (% of popu…</td><td>&quot;SH.STA.DIAB.ZS&quot;</td></tr><tr><td>&quot;Diabetes prevalence (% of popu…</td><td>&quot;SH.STA.DIAB.ZS&quot;</td></tr><tr><td>&quot;Diabetes prevalence (% of popu…</td><td>&quot;SH.STA.DIAB.ZS&quot;</td></tr><tr><td>&quot;Diabetes prevalence (% of popu…</td><td>&quot;SH.STA.DIAB.ZS&quot;</td></tr><tr><td>&quot;Diabetes prevalence (% of popu…</td><td>&quot;SH.STA.DIAB.ZS&quot;</td></tr></tbody></table></div>"
      ],
      "text/plain": [
       "shape: (5, 2)\n",
       "┌─────────────────────────────────┬────────────────┐\n",
       "│ Series Name                     ┆ Series Code    │\n",
       "│ ---                             ┆ ---            │\n",
       "│ str                             ┆ str            │\n",
       "╞═════════════════════════════════╪════════════════╡\n",
       "│ Diabetes prevalence (% of popu… ┆ SH.STA.DIAB.ZS │\n",
       "│ Diabetes prevalence (% of popu… ┆ SH.STA.DIAB.ZS │\n",
       "│ Diabetes prevalence (% of popu… ┆ SH.STA.DIAB.ZS │\n",
       "│ Diabetes prevalence (% of popu… ┆ SH.STA.DIAB.ZS │\n",
       "│ Diabetes prevalence (% of popu… ┆ SH.STA.DIAB.ZS │\n",
       "└─────────────────────────────────┴────────────────┘"
      ]
     },
     "execution_count": 97,
     "metadata": {},
     "output_type": "execute_result"
    }
   ],
   "source": [
    "(WB_dev_ind\n",
    " .select(cs.contains('Series'))\n",
    ").head()\n"
   ]
  },
  {
   "cell_type": "markdown",
   "id": "9949a570-c567-4c4c-a68c-1e27ceed8241",
   "metadata": {},
   "source": [
    "#### Example - Selecting the 1990's using `starts_with`"
   ]
  },
  {
   "cell_type": "code",
   "execution_count": 98,
   "id": "97b4016e-c227-41a2-9e18-fbe17d09e324",
   "metadata": {},
   "outputs": [
    {
     "data": {
      "text/html": [
       "<div><style>\n",
       ".dataframe > thead > tr,\n",
       ".dataframe > tbody > tr {\n",
       "  text-align: right;\n",
       "  white-space: pre-wrap;\n",
       "}\n",
       "</style>\n",
       "<small>shape: (5, 10)</small><table border=\"1\" class=\"dataframe\"><thead><tr><th>1990</th><th>1991</th><th>1992</th><th>1993</th><th>1994</th><th>1995</th><th>1996</th><th>1997</th><th>1998</th><th>1999</th></tr><tr><td>f64</td><td>f64</td><td>f64</td><td>f64</td><td>f64</td><td>f64</td><td>f64</td><td>f64</td><td>f64</td><td>f64</td></tr></thead><tbody><tr><td>null</td><td>null</td><td>null</td><td>null</td><td>null</td><td>null</td><td>null</td><td>null</td><td>null</td><td>null</td></tr><tr><td>null</td><td>null</td><td>null</td><td>null</td><td>null</td><td>null</td><td>null</td><td>null</td><td>null</td><td>null</td></tr><tr><td>null</td><td>null</td><td>null</td><td>null</td><td>null</td><td>null</td><td>null</td><td>null</td><td>null</td><td>null</td></tr><tr><td>null</td><td>null</td><td>null</td><td>null</td><td>null</td><td>null</td><td>null</td><td>null</td><td>null</td><td>null</td></tr><tr><td>null</td><td>null</td><td>null</td><td>null</td><td>null</td><td>null</td><td>null</td><td>null</td><td>null</td><td>null</td></tr></tbody></table></div>"
      ],
      "text/plain": [
       "shape: (5, 10)\n",
       "┌──────┬──────┬──────┬──────┬───┬──────┬──────┬──────┬──────┐\n",
       "│ 1990 ┆ 1991 ┆ 1992 ┆ 1993 ┆ … ┆ 1996 ┆ 1997 ┆ 1998 ┆ 1999 │\n",
       "│ ---  ┆ ---  ┆ ---  ┆ ---  ┆   ┆ ---  ┆ ---  ┆ ---  ┆ ---  │\n",
       "│ f64  ┆ f64  ┆ f64  ┆ f64  ┆   ┆ f64  ┆ f64  ┆ f64  ┆ f64  │\n",
       "╞══════╪══════╪══════╪══════╪═══╪══════╪══════╪══════╪══════╡\n",
       "│ null ┆ null ┆ null ┆ null ┆ … ┆ null ┆ null ┆ null ┆ null │\n",
       "│ null ┆ null ┆ null ┆ null ┆ … ┆ null ┆ null ┆ null ┆ null │\n",
       "│ null ┆ null ┆ null ┆ null ┆ … ┆ null ┆ null ┆ null ┆ null │\n",
       "│ null ┆ null ┆ null ┆ null ┆ … ┆ null ┆ null ┆ null ┆ null │\n",
       "│ null ┆ null ┆ null ┆ null ┆ … ┆ null ┆ null ┆ null ┆ null │\n",
       "└──────┴──────┴──────┴──────┴───┴──────┴──────┴──────┴──────┘"
      ]
     },
     "execution_count": 98,
     "metadata": {},
     "output_type": "execute_result"
    }
   ],
   "source": [
    "(WB_dev_ind\n",
    " .select(cs.starts_with('199'))\n",
    ").head()\n"
   ]
  },
  {
   "cell_type": "markdown",
   "id": "8d4a8729-ec7b-4350-baa2-c99ac64ce35e",
   "metadata": {},
   "source": [
    "#### Example - Selecting the first five years of 1990's using `matches`"
   ]
  },
  {
   "cell_type": "code",
   "execution_count": 99,
   "id": "9569f141-1128-4a35-807c-7f576784f731",
   "metadata": {},
   "outputs": [
    {
     "data": {
      "text/html": [
       "<div><style>\n",
       ".dataframe > thead > tr,\n",
       ".dataframe > tbody > tr {\n",
       "  text-align: right;\n",
       "  white-space: pre-wrap;\n",
       "}\n",
       "</style>\n",
       "<small>shape: (5, 5)</small><table border=\"1\" class=\"dataframe\"><thead><tr><th>1990</th><th>1991</th><th>1992</th><th>1993</th><th>1994</th></tr><tr><td>f64</td><td>f64</td><td>f64</td><td>f64</td><td>f64</td></tr></thead><tbody><tr><td>null</td><td>null</td><td>null</td><td>null</td><td>null</td></tr><tr><td>null</td><td>null</td><td>null</td><td>null</td><td>null</td></tr><tr><td>null</td><td>null</td><td>null</td><td>null</td><td>null</td></tr><tr><td>null</td><td>null</td><td>null</td><td>null</td><td>null</td></tr><tr><td>null</td><td>null</td><td>null</td><td>null</td><td>null</td></tr></tbody></table></div>"
      ],
      "text/plain": [
       "shape: (5, 5)\n",
       "┌──────┬──────┬──────┬──────┬──────┐\n",
       "│ 1990 ┆ 1991 ┆ 1992 ┆ 1993 ┆ 1994 │\n",
       "│ ---  ┆ ---  ┆ ---  ┆ ---  ┆ ---  │\n",
       "│ f64  ┆ f64  ┆ f64  ┆ f64  ┆ f64  │\n",
       "╞══════╪══════╪══════╪══════╪══════╡\n",
       "│ null ┆ null ┆ null ┆ null ┆ null │\n",
       "│ null ┆ null ┆ null ┆ null ┆ null │\n",
       "│ null ┆ null ┆ null ┆ null ┆ null │\n",
       "│ null ┆ null ┆ null ┆ null ┆ null │\n",
       "│ null ┆ null ┆ null ┆ null ┆ null │\n",
       "└──────┴──────┴──────┴──────┴──────┘"
      ]
     },
     "execution_count": 99,
     "metadata": {},
     "output_type": "execute_result"
    }
   ],
   "source": [
    "(WB_dev_ind\n",
    " .select(cs.matches(r'^199[0-4]'))\n",
    ").head()\n"
   ]
  },
  {
   "cell_type": "markdown",
   "id": "986318d4-8d29-4866-a6af-f1cad2741863",
   "metadata": {},
   "source": [
    "### Selecting columns by type\n",
    "\n",
    "One unique feature of `polars` columns selectors is the ability to select columns by type."
   ]
  },
  {
   "cell_type": "markdown",
   "id": "59ac1afb-63e6-4666-8fe7-2e7794c65c05",
   "metadata": {},
   "source": [
    "#### Example - Selecting by index"
   ]
  },
  {
   "cell_type": "code",
   "execution_count": 100,
   "id": "60e19443-0e26-45a4-a045-d204a123e75d",
   "metadata": {
    "scrolled": true
   },
   "outputs": [
    {
     "data": {
      "text/html": [
       "<div><style>\n",
       ".dataframe > thead > tr,\n",
       ".dataframe > tbody > tr {\n",
       "  text-align: right;\n",
       "  white-space: pre-wrap;\n",
       "}\n",
       "</style>\n",
       "<small>shape: (5, 4)</small><table border=\"1\" class=\"dataframe\"><thead><tr><th>Region</th><th>Series Name</th><th>Series Code</th><th>1960</th></tr><tr><td>str</td><td>str</td><td>str</td><td>f64</td></tr></thead><tbody><tr><td>&quot;Asia&quot;</td><td>&quot;Diabetes prevalence (% of popu…</td><td>&quot;SH.STA.DIAB.ZS&quot;</td><td>null</td></tr><tr><td>&quot;Asia&quot;</td><td>&quot;Diabetes prevalence (% of popu…</td><td>&quot;SH.STA.DIAB.ZS&quot;</td><td>null</td></tr><tr><td>&quot;Asia&quot;</td><td>&quot;Diabetes prevalence (% of popu…</td><td>&quot;SH.STA.DIAB.ZS&quot;</td><td>null</td></tr><tr><td>&quot;Asia&quot;</td><td>&quot;Diabetes prevalence (% of popu…</td><td>&quot;SH.STA.DIAB.ZS&quot;</td><td>null</td></tr><tr><td>&quot;Asia&quot;</td><td>&quot;Diabetes prevalence (% of popu…</td><td>&quot;SH.STA.DIAB.ZS&quot;</td><td>null</td></tr></tbody></table></div>"
      ],
      "text/plain": [
       "shape: (5, 4)\n",
       "┌────────┬─────────────────────────────────┬────────────────┬──────┐\n",
       "│ Region ┆ Series Name                     ┆ Series Code    ┆ 1960 │\n",
       "│ ---    ┆ ---                             ┆ ---            ┆ ---  │\n",
       "│ str    ┆ str                             ┆ str            ┆ f64  │\n",
       "╞════════╪═════════════════════════════════╪════════════════╪══════╡\n",
       "│ Asia   ┆ Diabetes prevalence (% of popu… ┆ SH.STA.DIAB.ZS ┆ null │\n",
       "│ Asia   ┆ Diabetes prevalence (% of popu… ┆ SH.STA.DIAB.ZS ┆ null │\n",
       "│ Asia   ┆ Diabetes prevalence (% of popu… ┆ SH.STA.DIAB.ZS ┆ null │\n",
       "│ Asia   ┆ Diabetes prevalence (% of popu… ┆ SH.STA.DIAB.ZS ┆ null │\n",
       "│ Asia   ┆ Diabetes prevalence (% of popu… ┆ SH.STA.DIAB.ZS ┆ null │\n",
       "└────────┴─────────────────────────────────┴────────────────┴──────┘"
      ]
     },
     "execution_count": 100,
     "metadata": {},
     "output_type": "execute_result"
    }
   ],
   "source": [
    "(WB_dev_ind\n",
    " .select(cs.by_index(range(1,5)))\n",
    ").head()"
   ]
  },
  {
   "cell_type": "markdown",
   "id": "b10a3a2b-af77-4c8f-a047-098c50475509",
   "metadata": {},
   "source": [
    "#### Example - Selecting all string columns."
   ]
  },
  {
   "cell_type": "code",
   "execution_count": 101,
   "id": "2137bad9-bdcb-4b62-b426-cfb6a6f01898",
   "metadata": {
    "scrolled": true
   },
   "outputs": [
    {
     "data": {
      "text/html": [
       "<div><style>\n",
       ".dataframe > thead > tr,\n",
       ".dataframe > tbody > tr {\n",
       "  text-align: right;\n",
       "  white-space: pre-wrap;\n",
       "}\n",
       "</style>\n",
       "<small>shape: (5, 4)</small><table border=\"1\" class=\"dataframe\"><thead><tr><th>Country Name</th><th>Region</th><th>Series Name</th><th>Series Code</th></tr><tr><td>str</td><td>str</td><td>str</td><td>str</td></tr></thead><tbody><tr><td>&quot;Afghanistan&quot;</td><td>&quot;Asia&quot;</td><td>&quot;Diabetes prevalence (% of popu…</td><td>&quot;SH.STA.DIAB.ZS&quot;</td></tr><tr><td>&quot;Afghanistan&quot;</td><td>&quot;Asia&quot;</td><td>&quot;Diabetes prevalence (% of popu…</td><td>&quot;SH.STA.DIAB.ZS&quot;</td></tr><tr><td>&quot;Afghanistan&quot;</td><td>&quot;Asia&quot;</td><td>&quot;Diabetes prevalence (% of popu…</td><td>&quot;SH.STA.DIAB.ZS&quot;</td></tr><tr><td>&quot;Afghanistan&quot;</td><td>&quot;Asia&quot;</td><td>&quot;Diabetes prevalence (% of popu…</td><td>&quot;SH.STA.DIAB.ZS&quot;</td></tr><tr><td>&quot;Afghanistan&quot;</td><td>&quot;Asia&quot;</td><td>&quot;Diabetes prevalence (% of popu…</td><td>&quot;SH.STA.DIAB.ZS&quot;</td></tr></tbody></table></div>"
      ],
      "text/plain": [
       "shape: (5, 4)\n",
       "┌──────────────┬────────┬─────────────────────────────────┬────────────────┐\n",
       "│ Country Name ┆ Region ┆ Series Name                     ┆ Series Code    │\n",
       "│ ---          ┆ ---    ┆ ---                             ┆ ---            │\n",
       "│ str          ┆ str    ┆ str                             ┆ str            │\n",
       "╞══════════════╪════════╪═════════════════════════════════╪════════════════╡\n",
       "│ Afghanistan  ┆ Asia   ┆ Diabetes prevalence (% of popu… ┆ SH.STA.DIAB.ZS │\n",
       "│ Afghanistan  ┆ Asia   ┆ Diabetes prevalence (% of popu… ┆ SH.STA.DIAB.ZS │\n",
       "│ Afghanistan  ┆ Asia   ┆ Diabetes prevalence (% of popu… ┆ SH.STA.DIAB.ZS │\n",
       "│ Afghanistan  ┆ Asia   ┆ Diabetes prevalence (% of popu… ┆ SH.STA.DIAB.ZS │\n",
       "│ Afghanistan  ┆ Asia   ┆ Diabetes prevalence (% of popu… ┆ SH.STA.DIAB.ZS │\n",
       "└──────────────┴────────┴─────────────────────────────────┴────────────────┘"
      ]
     },
     "execution_count": 101,
     "metadata": {},
     "output_type": "execute_result"
    }
   ],
   "source": [
    "(WB_dev_ind\n",
    " .select(cs.by_dtype(pl.String))\n",
    ").head()"
   ]
  },
  {
   "cell_type": "code",
   "execution_count": 102,
   "id": "48e89841-dc66-4079-85eb-72e0090d4921",
   "metadata": {
    "scrolled": true
   },
   "outputs": [
    {
     "data": {
      "text/html": [
       "<div><style>\n",
       ".dataframe > thead > tr,\n",
       ".dataframe > tbody > tr {\n",
       "  text-align: right;\n",
       "  white-space: pre-wrap;\n",
       "}\n",
       "</style>\n",
       "<small>shape: (5, 4)</small><table border=\"1\" class=\"dataframe\"><thead><tr><th>Country Name</th><th>Region</th><th>Series Name</th><th>Series Code</th></tr><tr><td>str</td><td>str</td><td>str</td><td>str</td></tr></thead><tbody><tr><td>&quot;Afghanistan&quot;</td><td>&quot;Asia&quot;</td><td>&quot;Diabetes prevalence (% of popu…</td><td>&quot;SH.STA.DIAB.ZS&quot;</td></tr><tr><td>&quot;Afghanistan&quot;</td><td>&quot;Asia&quot;</td><td>&quot;Diabetes prevalence (% of popu…</td><td>&quot;SH.STA.DIAB.ZS&quot;</td></tr><tr><td>&quot;Afghanistan&quot;</td><td>&quot;Asia&quot;</td><td>&quot;Diabetes prevalence (% of popu…</td><td>&quot;SH.STA.DIAB.ZS&quot;</td></tr><tr><td>&quot;Afghanistan&quot;</td><td>&quot;Asia&quot;</td><td>&quot;Diabetes prevalence (% of popu…</td><td>&quot;SH.STA.DIAB.ZS&quot;</td></tr><tr><td>&quot;Afghanistan&quot;</td><td>&quot;Asia&quot;</td><td>&quot;Diabetes prevalence (% of popu…</td><td>&quot;SH.STA.DIAB.ZS&quot;</td></tr></tbody></table></div>"
      ],
      "text/plain": [
       "shape: (5, 4)\n",
       "┌──────────────┬────────┬─────────────────────────────────┬────────────────┐\n",
       "│ Country Name ┆ Region ┆ Series Name                     ┆ Series Code    │\n",
       "│ ---          ┆ ---    ┆ ---                             ┆ ---            │\n",
       "│ str          ┆ str    ┆ str                             ┆ str            │\n",
       "╞══════════════╪════════╪═════════════════════════════════╪════════════════╡\n",
       "│ Afghanistan  ┆ Asia   ┆ Diabetes prevalence (% of popu… ┆ SH.STA.DIAB.ZS │\n",
       "│ Afghanistan  ┆ Asia   ┆ Diabetes prevalence (% of popu… ┆ SH.STA.DIAB.ZS │\n",
       "│ Afghanistan  ┆ Asia   ┆ Diabetes prevalence (% of popu… ┆ SH.STA.DIAB.ZS │\n",
       "│ Afghanistan  ┆ Asia   ┆ Diabetes prevalence (% of popu… ┆ SH.STA.DIAB.ZS │\n",
       "│ Afghanistan  ┆ Asia   ┆ Diabetes prevalence (% of popu… ┆ SH.STA.DIAB.ZS │\n",
       "└──────────────┴────────┴─────────────────────────────────┴────────────────┘"
      ]
     },
     "execution_count": 102,
     "metadata": {},
     "output_type": "execute_result"
    }
   ],
   "source": [
    "(WB_dev_ind\n",
    " .select(cs.string())\n",
    ").head()"
   ]
  },
  {
   "cell_type": "markdown",
   "id": "e3522998-f4cc-4af8-b84b-cb0f382f0461",
   "metadata": {},
   "source": [
    "### Combining selectors with set operations\n",
    "\n",
    "Another useful feature: Combine with set operations:\n",
    "\n",
    "- **Complement.** `~selector1`\n",
    "- **Union.** `selector1 | selector2`\n",
    "- **Intersection.** `selector1 & selector2`\n",
    "- **Difference.** `selector1 - selector2`\n",
    "- **Symmetric difference.** `selector1 ^ selector2`"
   ]
  },
  {
   "cell_type": "markdown",
   "id": "a01c2af7-84db-41be-acf7-7fac88770326",
   "metadata": {},
   "source": [
    "#### Example - All the string/index columns excluding the `Series Code`"
   ]
  },
  {
   "cell_type": "code",
   "execution_count": 103,
   "id": "e125433b-64c3-4723-9a5b-b1d9e90a7ee5",
   "metadata": {},
   "outputs": [
    {
     "data": {
      "text/html": [
       "<div><style>\n",
       ".dataframe > thead > tr,\n",
       ".dataframe > tbody > tr {\n",
       "  text-align: right;\n",
       "  white-space: pre-wrap;\n",
       "}\n",
       "</style>\n",
       "<small>shape: (5, 3)</small><table border=\"1\" class=\"dataframe\"><thead><tr><th>Country Name</th><th>Region</th><th>Series Name</th></tr><tr><td>str</td><td>str</td><td>str</td></tr></thead><tbody><tr><td>&quot;Afghanistan&quot;</td><td>&quot;Asia&quot;</td><td>&quot;Diabetes prevalence (% of popu…</td></tr><tr><td>&quot;Afghanistan&quot;</td><td>&quot;Asia&quot;</td><td>&quot;Diabetes prevalence (% of popu…</td></tr><tr><td>&quot;Afghanistan&quot;</td><td>&quot;Asia&quot;</td><td>&quot;Diabetes prevalence (% of popu…</td></tr><tr><td>&quot;Afghanistan&quot;</td><td>&quot;Asia&quot;</td><td>&quot;Diabetes prevalence (% of popu…</td></tr><tr><td>&quot;Afghanistan&quot;</td><td>&quot;Asia&quot;</td><td>&quot;Diabetes prevalence (% of popu…</td></tr></tbody></table></div>"
      ],
      "text/plain": [
       "shape: (5, 3)\n",
       "┌──────────────┬────────┬─────────────────────────────────┐\n",
       "│ Country Name ┆ Region ┆ Series Name                     │\n",
       "│ ---          ┆ ---    ┆ ---                             │\n",
       "│ str          ┆ str    ┆ str                             │\n",
       "╞══════════════╪════════╪═════════════════════════════════╡\n",
       "│ Afghanistan  ┆ Asia   ┆ Diabetes prevalence (% of popu… │\n",
       "│ Afghanistan  ┆ Asia   ┆ Diabetes prevalence (% of popu… │\n",
       "│ Afghanistan  ┆ Asia   ┆ Diabetes prevalence (% of popu… │\n",
       "│ Afghanistan  ┆ Asia   ┆ Diabetes prevalence (% of popu… │\n",
       "│ Afghanistan  ┆ Asia   ┆ Diabetes prevalence (% of popu… │\n",
       "└──────────────┴────────┴─────────────────────────────────┘"
      ]
     },
     "execution_count": 103,
     "metadata": {},
     "output_type": "execute_result"
    }
   ],
   "source": [
    "(WB_dev_ind\n",
    " .select(cs.string() - cs.contains('Code'))\n",
    ").head()\n"
   ]
  },
  {
   "cell_type": "markdown",
   "id": "573a1a83-63ba-4566-95af-903527dc4dca",
   "metadata": {},
   "source": [
    "#### Example - All index columns (minus the `Series Code`) and the `1990`s"
   ]
  },
  {
   "cell_type": "code",
   "execution_count": 104,
   "id": "5ab76126-b7b9-45cc-82a4-80b8bd666265",
   "metadata": {},
   "outputs": [
    {
     "data": {
      "text/html": [
       "<div><style>\n",
       ".dataframe > thead > tr,\n",
       ".dataframe > tbody > tr {\n",
       "  text-align: right;\n",
       "  white-space: pre-wrap;\n",
       "}\n",
       "</style>\n",
       "<small>shape: (5, 13)</small><table border=\"1\" class=\"dataframe\"><thead><tr><th>Country Name</th><th>Region</th><th>Series Name</th><th>1990</th><th>1991</th><th>1992</th><th>1993</th><th>1994</th><th>1995</th><th>1996</th><th>1997</th><th>1998</th><th>1999</th></tr><tr><td>str</td><td>str</td><td>str</td><td>f64</td><td>f64</td><td>f64</td><td>f64</td><td>f64</td><td>f64</td><td>f64</td><td>f64</td><td>f64</td><td>f64</td></tr></thead><tbody><tr><td>&quot;Afghanistan&quot;</td><td>&quot;Asia&quot;</td><td>&quot;Diabetes prevalence (% of popu…</td><td>null</td><td>null</td><td>null</td><td>null</td><td>null</td><td>null</td><td>null</td><td>null</td><td>null</td><td>null</td></tr><tr><td>&quot;Afghanistan&quot;</td><td>&quot;Asia&quot;</td><td>&quot;Diabetes prevalence (% of popu…</td><td>null</td><td>null</td><td>null</td><td>null</td><td>null</td><td>null</td><td>null</td><td>null</td><td>null</td><td>null</td></tr><tr><td>&quot;Afghanistan&quot;</td><td>&quot;Asia&quot;</td><td>&quot;Diabetes prevalence (% of popu…</td><td>null</td><td>null</td><td>null</td><td>null</td><td>null</td><td>null</td><td>null</td><td>null</td><td>null</td><td>null</td></tr><tr><td>&quot;Afghanistan&quot;</td><td>&quot;Asia&quot;</td><td>&quot;Diabetes prevalence (% of popu…</td><td>null</td><td>null</td><td>null</td><td>null</td><td>null</td><td>null</td><td>null</td><td>null</td><td>null</td><td>null</td></tr><tr><td>&quot;Afghanistan&quot;</td><td>&quot;Asia&quot;</td><td>&quot;Diabetes prevalence (% of popu…</td><td>null</td><td>null</td><td>null</td><td>null</td><td>null</td><td>null</td><td>null</td><td>null</td><td>null</td><td>null</td></tr></tbody></table></div>"
      ],
      "text/plain": [
       "shape: (5, 13)\n",
       "┌──────────────┬────────┬─────────────────────────────────┬──────┬───┬──────┬──────┬──────┬──────┐\n",
       "│ Country Name ┆ Region ┆ Series Name                     ┆ 1990 ┆ … ┆ 1996 ┆ 1997 ┆ 1998 ┆ 1999 │\n",
       "│ ---          ┆ ---    ┆ ---                             ┆ ---  ┆   ┆ ---  ┆ ---  ┆ ---  ┆ ---  │\n",
       "│ str          ┆ str    ┆ str                             ┆ f64  ┆   ┆ f64  ┆ f64  ┆ f64  ┆ f64  │\n",
       "╞══════════════╪════════╪═════════════════════════════════╪══════╪═══╪══════╪══════╪══════╪══════╡\n",
       "│ Afghanistan  ┆ Asia   ┆ Diabetes prevalence (% of popu… ┆ null ┆ … ┆ null ┆ null ┆ null ┆ null │\n",
       "│ Afghanistan  ┆ Asia   ┆ Diabetes prevalence (% of popu… ┆ null ┆ … ┆ null ┆ null ┆ null ┆ null │\n",
       "│ Afghanistan  ┆ Asia   ┆ Diabetes prevalence (% of popu… ┆ null ┆ … ┆ null ┆ null ┆ null ┆ null │\n",
       "│ Afghanistan  ┆ Asia   ┆ Diabetes prevalence (% of popu… ┆ null ┆ … ┆ null ┆ null ┆ null ┆ null │\n",
       "│ Afghanistan  ┆ Asia   ┆ Diabetes prevalence (% of popu… ┆ null ┆ … ┆ null ┆ null ┆ null ┆ null │\n",
       "└──────────────┴────────┴─────────────────────────────────┴──────┴───┴──────┴──────┴──────┴──────┘"
      ]
     },
     "execution_count": 104,
     "metadata": {},
     "output_type": "execute_result"
    }
   ],
   "source": [
    "(WB_dev_ind\n",
    " .select(cs.string() - cs.contains('Code') | cs.starts_with('199'))\n",
    ").head()\n"
   ]
  },
  {
   "cell_type": "markdown",
   "id": "7e2885cd-e0b5-4062-8767-7f2bd2594935",
   "metadata": {},
   "source": [
    "### Using column selectors to reshape tables.\n",
    "\n",
    "Another place where column selectors are useful is when reshaping tables, e.g., using `pivot` or `unpivot`."
   ]
  },
  {
   "cell_type": "markdown",
   "id": "f08376b7-6c24-44e7-9110-0ac7d90c5698",
   "metadata": {},
   "source": [
    "### Example - Making a tidy subset of the data\n",
    "\n",
    "**Goal.** Compare the urban and overall population changes across regions for each year in the `1990`s for each region.\n",
    "\n",
    "**Task 1.** Tidy up the table by reshaping, by\n",
    "1. `filter` to the measures of interest,\n",
    "1. `unpivot` the years in question, and\n",
    "2. `pivot` to measures into separate columns."
   ]
  },
  {
   "cell_type": "markdown",
   "id": "1c4ab7d9-ebb9-4eaf-8001-9778184d8f17",
   "metadata": {},
   "source": [
    "#### Solution - Using columns selectors in `unpivot` and `pivot`"
   ]
  },
  {
   "cell_type": "code",
   "execution_count": 105,
   "id": "32cf9da3-85b1-4202-bd85-9c549d4c083c",
   "metadata": {},
   "outputs": [
    {
     "data": {
      "text/html": [
       "<div><style>\n",
       ".dataframe > thead > tr,\n",
       ".dataframe > tbody > tr {\n",
       "  text-align: right;\n",
       "  white-space: pre-wrap;\n",
       "}\n",
       "</style>\n",
       "<small>shape: (8,)</small><table border=\"1\" class=\"dataframe\"><thead><tr><th>Series Name</th></tr><tr><td>str</td></tr></thead><tbody><tr><td>&quot;Urban population&quot;</td></tr><tr><td>&quot;GDP (constant 2015 US$)&quot;</td></tr><tr><td>&quot;Diabetes prevalence (% of popu…</td></tr><tr><td>&quot;Population, total&quot;</td></tr><tr><td>&quot;Rural population&quot;</td></tr><tr><td>&quot;Individuals using the Internet…</td></tr><tr><td>&quot;CO2 emissions (kt)&quot;</td></tr><tr><td>&quot;Adolescent fertility rate (bir…</td></tr></tbody></table></div>"
      ],
      "text/plain": [
       "shape: (8,)\n",
       "Series: 'Series Name' [str]\n",
       "[\n",
       "\t\"Urban population\"\n",
       "\t\"GDP (constant 2015 US$)\"\n",
       "\t\"Diabetes prevalence (% of popu…\n",
       "\t\"Population, total\"\n",
       "\t\"Rural population\"\n",
       "\t\"Individuals using the Internet…\n",
       "\t\"CO2 emissions (kt)\"\n",
       "\t\"Adolescent fertility rate (bir…\n",
       "]"
      ]
     },
     "execution_count": 105,
     "metadata": {},
     "output_type": "execute_result"
    }
   ],
   "source": [
    "WB_dev_ind['Series Name'].unique()"
   ]
  },
  {
   "cell_type": "code",
   "execution_count": 106,
   "id": "266bc664-588d-41c0-8b08-8093b67bd578",
   "metadata": {},
   "outputs": [
    {
     "data": {
      "text/html": [
       "<div><style>\n",
       ".dataframe > thead > tr,\n",
       ".dataframe > tbody > tr {\n",
       "  text-align: right;\n",
       "  white-space: pre-wrap;\n",
       "}\n",
       "</style>\n",
       "<small>shape: (70, 4)</small><table border=\"1\" class=\"dataframe\"><thead><tr><th>Region</th><th>Year</th><th>Population, total</th><th>Urban population</th></tr><tr><td>str</td><td>str</td><td>f64</td><td>f64</td></tr></thead><tbody><tr><td>&quot;Asia&quot;</td><td>&quot;1990&quot;</td><td>1.7345e10</td><td>5.2656e9</td></tr><tr><td>&quot;Europe&quot;</td><td>&quot;1990&quot;</td><td>4.2569e9</td><td>2.9720e9</td></tr><tr><td>&quot;Africa&quot;</td><td>&quot;1990&quot;</td><td>3.8158e9</td><td>1.2023e9</td></tr><tr><td>&quot;Oceania&quot;</td><td>&quot;1990&quot;</td><td>1.59420834e8</td><td>1.1343462e8</td></tr><tr><td>&quot;The Americas&quot;</td><td>&quot;1990&quot;</td><td>4.3141e9</td><td>3.1286e9</td></tr><tr><td>&hellip;</td><td>&hellip;</td><td>&hellip;</td><td>&hellip;</td></tr><tr><td>&quot;Africa&quot;</td><td>&quot;1999&quot;</td><td>4.7785e9</td><td>1.6553e9</td></tr><tr><td>&quot;Oceania&quot;</td><td>&quot;1999&quot;</td><td>1.83646284e8</td><td>1.26016476e8</td></tr><tr><td>&quot;The Americas&quot;</td><td>&quot;1999&quot;</td><td>4.9395e9</td><td>3.7764e9</td></tr><tr><td>&quot;Middle East&quot;</td><td>&quot;1999&quot;</td><td>1.0034e9</td><td>6.4207557e8</td></tr><tr><td>null</td><td>&quot;1999&quot;</td><td>5.8353e10</td><td>2.5365e10</td></tr></tbody></table></div>"
      ],
      "text/plain": [
       "shape: (70, 4)\n",
       "┌──────────────┬──────┬───────────────────┬──────────────────┐\n",
       "│ Region       ┆ Year ┆ Population, total ┆ Urban population │\n",
       "│ ---          ┆ ---  ┆ ---               ┆ ---              │\n",
       "│ str          ┆ str  ┆ f64               ┆ f64              │\n",
       "╞══════════════╪══════╪═══════════════════╪══════════════════╡\n",
       "│ Asia         ┆ 1990 ┆ 1.7345e10         ┆ 5.2656e9         │\n",
       "│ Europe       ┆ 1990 ┆ 4.2569e9          ┆ 2.9720e9         │\n",
       "│ Africa       ┆ 1990 ┆ 3.8158e9          ┆ 1.2023e9         │\n",
       "│ Oceania      ┆ 1990 ┆ 1.59420834e8      ┆ 1.1343462e8      │\n",
       "│ The Americas ┆ 1990 ┆ 4.3141e9          ┆ 3.1286e9         │\n",
       "│ …            ┆ …    ┆ …                 ┆ …                │\n",
       "│ Africa       ┆ 1999 ┆ 4.7785e9          ┆ 1.6553e9         │\n",
       "│ Oceania      ┆ 1999 ┆ 1.83646284e8      ┆ 1.26016476e8     │\n",
       "│ The Americas ┆ 1999 ┆ 4.9395e9          ┆ 3.7764e9         │\n",
       "│ Middle East  ┆ 1999 ┆ 1.0034e9          ┆ 6.4207557e8      │\n",
       "│ null         ┆ 1999 ┆ 5.8353e10         ┆ 2.5365e10        │\n",
       "└──────────────┴──────┴───────────────────┴──────────────────┘"
      ]
     },
     "execution_count": 106,
     "metadata": {},
     "output_type": "execute_result"
    }
   ],
   "source": [
    "(pop_nums :=\n",
    " WB_dev_ind\n",
    " .select(cs.string() - cs.contains('Code') \n",
    "         | cs.starts_with('199')\n",
    "        )\n",
    " .filter(pl.col('Series Name')\n",
    "           .str.contains(r'^(Urban|Population)')\n",
    "        )\n",
    " .unpivot(on = cs.starts_with('199'),\n",
    "          index= cs.string(),\n",
    "          variable_name = \"Year\",\n",
    "          )\n",
    " .pivot(on = 'Series Name',\n",
    "        values = 'value',\n",
    "        index = cs.by_name('Region', 'Year'),  # Column selectors captured the new column!\n",
    "        aggregate_function='sum'\n",
    "       )\n",
    ")"
   ]
  },
  {
   "cell_type": "markdown",
   "id": "9282e5cb-c332-40fc-8191-9c4a65f8489f",
   "metadata": {},
   "source": [
    "## <font color=\"red\"> Exercise 3.1.2 </font>\n",
    "\n",
    "Create a table the contains the diabetes prevalence for each region.  For each part, use column selectors where possible.\n",
    "\n",
    "Note that you will need to\n",
    "\n",
    "1. Reshape to move all relevant series into columns and years into rows,\n",
    "2. Compute the total diabetes cases for each country/year,\n",
    "3. Aggregate the numerator (total diabetes) and denominator (population) for each region/year, and\n",
    "4. Compute the diabetes prevalence."
   ]
  },
  {
   "cell_type": "code",
   "execution_count": 107,
   "id": "f24128ed-da0b-4710-99e3-6f5262505864",
   "metadata": {},
   "outputs": [
    {
     "name": "stderr",
     "output_type": "stream",
     "text": [
      "C:\\Users\\im4284hw\\AppData\\Local\\Temp\\ipykernel_18972\\3206153316.py:5: DeprecationWarning: `DataFrame.melt` is deprecated; use `DataFrame.unpivot` instead, with `index` instead of `id_vars` and `on` instead of `value_vars`\n",
      "  WB_long = WB_dev_ind.melt(\n"
     ]
    }
   ],
   "source": [
    "# Your code here\n",
    "# Step 1: Reshape from wide to long\n",
    "year_cols = WB_dev_ind.select(pl.col(\"^\\\\d+$\")).columns  # regex match for numeric columns\n",
    "\n",
    "WB_long = WB_dev_ind.melt(\n",
    "    id_vars=[\"Country Name\", \"Region\", \"Series Name\", \"Series Code\"],\n",
    "    value_vars=year_cols,          # now this is a list of strings\n",
    "    variable_name=\"Year\",\n",
    "    value_name=\"Value\"\n",
    ")\n"
   ]
  },
  {
   "cell_type": "code",
   "execution_count": 108,
   "id": "02603bd2",
   "metadata": {},
   "outputs": [],
   "source": [
    "# Step 2: Diabetes cases\n",
    "df_cases = (\n",
    "    WB_long\n",
    "    .filter(pl.col(\"Series Name\") == \"Diabetes cases\")\n",
    "    .group_by([pl.col(\"Country Name\"), pl.col(\"Year\")])  # using selectors\n",
    "    .agg(pl.col(\"Value\").sum().alias(\"Total_diabetes\"))\n",
    ")"
   ]
  },
  {
   "cell_type": "code",
   "execution_count": 109,
   "id": "fdf228b9",
   "metadata": {},
   "outputs": [],
   "source": [
    "df_pop = (\n",
    "    WB_long\n",
    "    .filter(pl.col(\"Series Name\") == \"Population\")\n",
    "    .group_by([pl.col(\"Country Name\"), pl.col(\"Year\")])\n",
    "    .agg(pl.col(\"Value\").sum().alias(\"Population\"))\n",
    ")\n"
   ]
  },
  {
   "cell_type": "code",
   "execution_count": 110,
   "id": "323fc005",
   "metadata": {},
   "outputs": [],
   "source": [
    "# aggregate by region/year\n",
    "df_country = df_cases.join(df_pop, on=[\"Country Name\", \"Year\"])\n",
    "\n",
    "df_region = (\n",
    "    df_country\n",
    "    .join(WB_dev_ind.select([pl.col(\"Country Name\"), pl.col(\"Region\")]).unique(),\n",
    "          on=\"Country Name\")\n",
    "    .group_by([pl.col(\"Region\"), pl.col(\"Year\")])\n",
    "    .agg([\n",
    "        pl.col(\"Total_diabetes\").sum().alias(\"Region_diabetes\"),\n",
    "        pl.col(\"Population\").sum().alias(\"Region_population\")\n",
    "    ])\n",
    ")"
   ]
  },
  {
   "cell_type": "code",
   "execution_count": 111,
   "id": "f6f66955",
   "metadata": {},
   "outputs": [
    {
     "data": {
      "text/html": [
       "<div><style>\n",
       ".dataframe > thead > tr,\n",
       ".dataframe > tbody > tr {\n",
       "  text-align: right;\n",
       "  white-space: pre-wrap;\n",
       "}\n",
       "</style>\n",
       "<small>shape: (0, 5)</small><table border=\"1\" class=\"dataframe\"><thead><tr><th>Region</th><th>Year</th><th>Region_diabetes</th><th>Region_population</th><th>Prevalence</th></tr><tr><td>str</td><td>str</td><td>f64</td><td>f64</td><td>f64</td></tr></thead><tbody></tbody></table></div>"
      ],
      "text/plain": [
       "shape: (0, 5)\n",
       "┌────────┬──────┬─────────────────┬───────────────────┬────────────┐\n",
       "│ Region ┆ Year ┆ Region_diabetes ┆ Region_population ┆ Prevalence │\n",
       "│ ---    ┆ ---  ┆ ---             ┆ ---               ┆ ---        │\n",
       "│ str    ┆ str  ┆ f64             ┆ f64               ┆ f64        │\n",
       "╞════════╪══════╪═════════════════╪═══════════════════╪════════════╡\n",
       "└────────┴──────┴─────────────────┴───────────────────┴────────────┘"
      ]
     },
     "execution_count": 111,
     "metadata": {},
     "output_type": "execute_result"
    }
   ],
   "source": [
    "#Prevalence\n",
    "df_result = df_region.with_columns(\n",
    "    (pl.col(\"Region_diabetes\") / pl.col(\"Region_population\")).alias(\"Prevalence\")\n",
    ")\n",
    "\n",
    "df_result.head()"
   ]
  },
  {
   "cell_type": "markdown",
   "id": "2dc23ecb-d21b-4360-9b14-dc8cb0598dba",
   "metadata": {},
   "source": [
    "## Topic 4 - Using columns selectors to group and aggregate.\n",
    "\n",
    "We can also use column selectors when transforming columns, such as\n",
    "\n",
    "Aggregation also benefits from columns selectors, both for\n",
    "1. Performing the same calulation on multiple columns,\n",
    "2. Selecting columns to `group_by`, as well as\n",
    "2. Performing multiple similar `agg`regations."
   ]
  },
  {
   "cell_type": "markdown",
   "id": "d309e3be-4e3e-40e7-bf23-8fe1059b2144",
   "metadata": {},
   "source": [
    "### Example 1 - Computing rates per 1,000 people.\n",
    "\n",
    "First, let's illustrate using a column selector in a mutate.\n",
    "\n",
    "**Goal.** Compute the per 1,000 person rates for CO2 and GDP for the 2000s."
   ]
  },
  {
   "cell_type": "code",
   "execution_count": 112,
   "id": "ec993d7a-fef0-4210-b46e-d54b6012bd18",
   "metadata": {},
   "outputs": [
    {
     "data": {
      "text/html": [
       "<div><style>\n",
       ".dataframe > thead > tr,\n",
       ".dataframe > tbody > tr {\n",
       "  text-align: right;\n",
       "  white-space: pre-wrap;\n",
       "}\n",
       "</style>\n",
       "<small>shape: (60, 7)</small><table border=\"1\" class=\"dataframe\"><thead><tr><th>Year</th><th>Region</th><th>Population, total</th><th>CO2 emissions (kt)</th><th>GDP (constant 2015 US$)</th><th>CO2 emissions (kt) per 1,000 people</th><th>GDP (constant 2015 US$) per 1,000 people</th></tr><tr><td>str</td><td>str</td><td>i64</td><td>f64</td><td>f64</td><td>f64</td><td>f64</td></tr></thead><tbody><tr><td>&quot;2000&quot;</td><td>&quot;Asia&quot;</td><td>20219573310</td><td>4.2543e7</td><td>6.0354e13</td><td>2.104059</td><td>2.9849e6</td></tr><tr><td>&quot;2000&quot;</td><td>&quot;Europe&quot;</td><td>4295625726</td><td>3.5008e7</td><td>9.1349e13</td><td>8.149786</td><td>2.1266e7</td></tr><tr><td>&quot;2000&quot;</td><td>&quot;Africa&quot;</td><td>4897285710</td><td>4.7456e6</td><td>7.3803e12</td><td>0.969022</td><td>1.5070e6</td></tr><tr><td>&quot;2000&quot;</td><td>&quot;Oceania&quot;</td><td>186439830</td><td>2.2406e6</td><td>6.0884e12</td><td>12.018077</td><td>3.2656e7</td></tr><tr><td>&quot;2000&quot;</td><td>&quot;The Americas&quot;</td><td>5005363314</td><td>4.5209e7</td><td>1.0959e14</td><td>9.032179</td><td>2.1894e7</td></tr><tr><td>&hellip;</td><td>&hellip;</td><td>&hellip;</td><td>&hellip;</td><td>&hellip;</td><td>&hellip;</td><td>&hellip;</td></tr><tr><td>&quot;2009&quot;</td><td>&quot;Europe&quot;</td><td>4341768852</td><td>3.3030e7</td><td>1.0483e14</td><td>7.607582</td><td>2.4144e7</td></tr><tr><td>&quot;2009&quot;</td><td>&quot;Africa&quot;</td><td>6150365700</td><td>6.5194e6</td><td>1.1581e13</td><td>1.060009</td><td>1.8830e6</td></tr><tr><td>&quot;2009&quot;</td><td>&quot;Oceania&quot;</td><td>218028024</td><td>2.5918e6</td><td>8.0447e12</td><td>11.887546</td><td>3.6898e7</td></tr><tr><td>&quot;2009&quot;</td><td>&quot;The Americas&quot;</td><td>5539400508</td><td>4.2879e7</td><td>1.2960e14</td><td>7.740701</td><td>2.3397e7</td></tr><tr><td>&quot;2009&quot;</td><td>&quot;Middle East&quot;</td><td>1286670102</td><td>9.5753e6</td><td>1.1689e13</td><td>7.441938</td><td>9.0844e6</td></tr></tbody></table></div>"
      ],
      "text/plain": [
       "shape: (60, 7)\n",
       "┌──────┬──────────────┬────────────────┬───────────┬───────────────┬───────────────┬───────────────┐\n",
       "│ Year ┆ Region       ┆ Population,    ┆ CO2       ┆ GDP (constant ┆ CO2 emissions ┆ GDP (constant │\n",
       "│ ---  ┆ ---          ┆ total          ┆ emissions ┆ 2015 US$)     ┆ (kt) per      ┆ 2015 US$) per │\n",
       "│ str  ┆ str          ┆ ---            ┆ (kt)      ┆ ---           ┆ 1,000 p…      ┆ 1,…           │\n",
       "│      ┆              ┆ i64            ┆ ---       ┆ f64           ┆ ---           ┆ ---           │\n",
       "│      ┆              ┆                ┆ f64       ┆               ┆ f64           ┆ f64           │\n",
       "╞══════╪══════════════╪════════════════╪═══════════╪═══════════════╪═══════════════╪═══════════════╡\n",
       "│ 2000 ┆ Asia         ┆ 20219573310    ┆ 4.2543e7  ┆ 6.0354e13     ┆ 2.104059      ┆ 2.9849e6      │\n",
       "│ 2000 ┆ Europe       ┆ 4295625726     ┆ 3.5008e7  ┆ 9.1349e13     ┆ 8.149786      ┆ 2.1266e7      │\n",
       "│ 2000 ┆ Africa       ┆ 4897285710     ┆ 4.7456e6  ┆ 7.3803e12     ┆ 0.969022      ┆ 1.5070e6      │\n",
       "│ 2000 ┆ Oceania      ┆ 186439830      ┆ 2.2406e6  ┆ 6.0884e12     ┆ 12.018077     ┆ 3.2656e7      │\n",
       "│ 2000 ┆ The Americas ┆ 5005363314     ┆ 4.5209e7  ┆ 1.0959e14     ┆ 9.032179      ┆ 2.1894e7      │\n",
       "│ …    ┆ …            ┆ …              ┆ …         ┆ …             ┆ …             ┆ …             │\n",
       "│ 2009 ┆ Europe       ┆ 4341768852     ┆ 3.3030e7  ┆ 1.0483e14     ┆ 7.607582      ┆ 2.4144e7      │\n",
       "│ 2009 ┆ Africa       ┆ 6150365700     ┆ 6.5194e6  ┆ 1.1581e13     ┆ 1.060009      ┆ 1.8830e6      │\n",
       "│ 2009 ┆ Oceania      ┆ 218028024      ┆ 2.5918e6  ┆ 8.0447e12     ┆ 11.887546     ┆ 3.6898e7      │\n",
       "│ 2009 ┆ The Americas ┆ 5539400508     ┆ 4.2879e7  ┆ 1.2960e14     ┆ 7.740701      ┆ 2.3397e7      │\n",
       "│ 2009 ┆ Middle East  ┆ 1286670102     ┆ 9.5753e6  ┆ 1.1689e13     ┆ 7.441938      ┆ 9.0844e6      │\n",
       "└──────┴──────────────┴────────────────┴───────────┴───────────────┴───────────────┴───────────────┘"
      ]
     },
     "execution_count": 112,
     "metadata": {},
     "output_type": "execute_result"
    }
   ],
   "source": [
    "(per_1000_rates :=\n",
    " WB_dev_ind\n",
    " .filter(pl.col('Series Name').str.contains(r'^(CO2|GDP|^Pop)'),\n",
    "         pl.col('Region').is_not_null(),\n",
    "        )\n",
    " .unpivot(on = cs.starts_with('200'),\n",
    "          index= cs.string() - cs.contains('Code'),\n",
    "          variable_name = \"Year\",\n",
    "          )\n",
    " .pivot(on = 'Series Name',\n",
    "        values = 'value',\n",
    "        index = cs.by_name('Year', 'Region'),\n",
    "        aggregate_function='sum',\n",
    "       )\n",
    " .with_columns(cs.starts_with('Pop').cast(pl.Int64))\n",
    " .with_columns((cs.float()/pl.col('Population, total')*1000).name.suffix(' per 1,000 people'))\n",
    ")"
   ]
  },
  {
   "cell_type": "markdown",
   "id": "f66a3bb1-43af-47d0-87cd-57bfe0af9251",
   "metadata": {},
   "source": [
    "### Example 2 - Compute the regional population totals."
   ]
  },
  {
   "cell_type": "markdown",
   "id": "00f10d62-868b-42ee-804e-2ee879a1275d",
   "metadata": {},
   "source": [
    "#### Solution 1 - Without column selectors"
   ]
  },
  {
   "cell_type": "code",
   "execution_count": 113,
   "id": "ce8904b1-8560-486d-a83a-32a52e5989e3",
   "metadata": {},
   "outputs": [
    {
     "data": {
      "text/html": [
       "<div><style>\n",
       ".dataframe > thead > tr,\n",
       ".dataframe > tbody > tr {\n",
       "  text-align: right;\n",
       "  white-space: pre-wrap;\n",
       "}\n",
       "</style>\n",
       "<small>shape: (60, 4)</small><table border=\"1\" class=\"dataframe\"><thead><tr><th>Region</th><th>Year</th><th>Population, total</th><th>Urban population</th></tr><tr><td>str</td><td>str</td><td>f64</td><td>f64</td></tr></thead><tbody><tr><td>&quot;Europe&quot;</td><td>&quot;1992&quot;</td><td>4.2808e9</td><td>2.9995e9</td></tr><tr><td>&quot;Africa&quot;</td><td>&quot;1998&quot;</td><td>4.6636e9</td><td>1.6007e9</td></tr><tr><td>&quot;Middle East&quot;</td><td>&quot;1990&quot;</td><td>7.99883298e8</td><td>4.7889825e8</td></tr><tr><td>&quot;Middle East&quot;</td><td>&quot;1995&quot;</td><td>9.14412582e8</td><td>5.69331372e8</td></tr><tr><td>&quot;Asia&quot;</td><td>&quot;1997&quot;</td><td>1.9393e10</td><td>6.5832e9</td></tr><tr><td>&hellip;</td><td>&hellip;</td><td>&hellip;</td><td>&hellip;</td></tr><tr><td>&quot;Oceania&quot;</td><td>&quot;1996&quot;</td><td>1.7556936e8</td><td>1.22203848e8</td></tr><tr><td>&quot;Middle East&quot;</td><td>&quot;1991&quot;</td><td>8.26120518e8</td><td>4.9716129e8</td></tr><tr><td>&quot;Europe&quot;</td><td>&quot;1998&quot;</td><td>4.2994e9</td><td>3.0406e9</td></tr><tr><td>&quot;The Americas&quot;</td><td>&quot;1994&quot;</td><td>4.5989e9</td><td>3.4174e9</td></tr><tr><td>&quot;Africa&quot;</td><td>&quot;1991&quot;</td><td>3.9167e9</td><td>1.2499e9</td></tr></tbody></table></div>"
      ],
      "text/plain": [
       "shape: (60, 4)\n",
       "┌──────────────┬──────┬───────────────────┬──────────────────┐\n",
       "│ Region       ┆ Year ┆ Population, total ┆ Urban population │\n",
       "│ ---          ┆ ---  ┆ ---               ┆ ---              │\n",
       "│ str          ┆ str  ┆ f64               ┆ f64              │\n",
       "╞══════════════╪══════╪═══════════════════╪══════════════════╡\n",
       "│ Europe       ┆ 1992 ┆ 4.2808e9          ┆ 2.9995e9         │\n",
       "│ Africa       ┆ 1998 ┆ 4.6636e9          ┆ 1.6007e9         │\n",
       "│ Middle East  ┆ 1990 ┆ 7.99883298e8      ┆ 4.7889825e8      │\n",
       "│ Middle East  ┆ 1995 ┆ 9.14412582e8      ┆ 5.69331372e8     │\n",
       "│ Asia         ┆ 1997 ┆ 1.9393e10         ┆ 6.5832e9         │\n",
       "│ …            ┆ …    ┆ …                 ┆ …                │\n",
       "│ Oceania      ┆ 1996 ┆ 1.7556936e8       ┆ 1.22203848e8     │\n",
       "│ Middle East  ┆ 1991 ┆ 8.26120518e8      ┆ 4.9716129e8      │\n",
       "│ Europe       ┆ 1998 ┆ 4.2994e9          ┆ 3.0406e9         │\n",
       "│ The Americas ┆ 1994 ┆ 4.5989e9          ┆ 3.4174e9         │\n",
       "│ Africa       ┆ 1991 ┆ 3.9167e9          ┆ 1.2499e9         │\n",
       "└──────────────┴──────┴───────────────────┴──────────────────┘"
      ]
     },
     "execution_count": 113,
     "metadata": {},
     "output_type": "execute_result"
    }
   ],
   "source": [
    "(pop_nums\n",
    " .filter(pl.col('Region').is_not_null())\n",
    " .group_by('Region', 'Year')\n",
    " .agg(pl.col('Population, total').sum(),\n",
    "      pl.col('Urban population').sum(),\n",
    "     )\n",
    ")"
   ]
  },
  {
   "cell_type": "markdown",
   "id": "188fe54b-9e10-4e10-ad72-57e8bf69ffee",
   "metadata": {},
   "source": [
    "#### Solution 2 - With column selectors"
   ]
  },
  {
   "cell_type": "code",
   "execution_count": 114,
   "id": "96a320a4-6065-4616-b411-30b9b041ef7c",
   "metadata": {},
   "outputs": [
    {
     "data": {
      "text/html": [
       "<div><style>\n",
       ".dataframe > thead > tr,\n",
       ".dataframe > tbody > tr {\n",
       "  text-align: right;\n",
       "  white-space: pre-wrap;\n",
       "}\n",
       "</style>\n",
       "<small>shape: (60, 4)</small><table border=\"1\" class=\"dataframe\"><thead><tr><th>Region</th><th>Year</th><th>Population, total</th><th>Urban population</th></tr><tr><td>str</td><td>str</td><td>f64</td><td>f64</td></tr></thead><tbody><tr><td>&quot;Europe&quot;</td><td>&quot;1991&quot;</td><td>4.2709e9</td><td>2.9873e9</td></tr><tr><td>&quot;Oceania&quot;</td><td>&quot;1994&quot;</td><td>1.69968666e8</td><td>1.1927238e8</td></tr><tr><td>&quot;Middle East&quot;</td><td>&quot;1993&quot;</td><td>8.73521784e8</td><td>5.35684674e8</td></tr><tr><td>&quot;The Americas&quot;</td><td>&quot;1991&quot;</td><td>4.3858e9</td><td>3.2006e9</td></tr><tr><td>&quot;Africa&quot;</td><td>&quot;1999&quot;</td><td>4.7785e9</td><td>1.6553e9</td></tr><tr><td>&hellip;</td><td>&hellip;</td><td>&hellip;</td><td>&hellip;</td></tr><tr><td>&quot;Africa&quot;</td><td>&quot;1995&quot;</td><td>4.3312e9</td><td>1.4470e9</td></tr><tr><td>&quot;The Americas&quot;</td><td>&quot;1993&quot;</td><td>4.5290e9</td><td>3.3455e9</td></tr><tr><td>&quot;Middle East&quot;</td><td>&quot;1992&quot;</td><td>8.52674184e8</td><td>5.1825078e8</td></tr><tr><td>&quot;The Americas&quot;</td><td>&quot;1998&quot;</td><td>4.8727e9</td><td>3.7050e9</td></tr><tr><td>&quot;Oceania&quot;</td><td>&quot;1992&quot;</td><td>1.6516122e8</td><td>1.16916756e8</td></tr></tbody></table></div>"
      ],
      "text/plain": [
       "shape: (60, 4)\n",
       "┌──────────────┬──────┬───────────────────┬──────────────────┐\n",
       "│ Region       ┆ Year ┆ Population, total ┆ Urban population │\n",
       "│ ---          ┆ ---  ┆ ---               ┆ ---              │\n",
       "│ str          ┆ str  ┆ f64               ┆ f64              │\n",
       "╞══════════════╪══════╪═══════════════════╪══════════════════╡\n",
       "│ Europe       ┆ 1991 ┆ 4.2709e9          ┆ 2.9873e9         │\n",
       "│ Oceania      ┆ 1994 ┆ 1.69968666e8      ┆ 1.1927238e8      │\n",
       "│ Middle East  ┆ 1993 ┆ 8.73521784e8      ┆ 5.35684674e8     │\n",
       "│ The Americas ┆ 1991 ┆ 4.3858e9          ┆ 3.2006e9         │\n",
       "│ Africa       ┆ 1999 ┆ 4.7785e9          ┆ 1.6553e9         │\n",
       "│ …            ┆ …    ┆ …                 ┆ …                │\n",
       "│ Africa       ┆ 1995 ┆ 4.3312e9          ┆ 1.4470e9         │\n",
       "│ The Americas ┆ 1993 ┆ 4.5290e9          ┆ 3.3455e9         │\n",
       "│ Middle East  ┆ 1992 ┆ 8.52674184e8      ┆ 5.1825078e8      │\n",
       "│ The Americas ┆ 1998 ┆ 4.8727e9          ┆ 3.7050e9         │\n",
       "│ Oceania      ┆ 1992 ┆ 1.6516122e8       ┆ 1.16916756e8     │\n",
       "└──────────────┴──────┴───────────────────┴──────────────────┘"
      ]
     },
     "execution_count": 114,
     "metadata": {},
     "output_type": "execute_result"
    }
   ],
   "source": [
    "(pop_nums_by_region_and_year :=\n",
    " pop_nums\n",
    " .drop(cs.starts_with('C'))\n",
    " .filter(pl.col('Region').is_not_null())\n",
    " .group_by(cs.string())\n",
    " .agg(cs.float().sum(),\n",
    "      # cs.float().mean(),\n",
    "     )\n",
    ")"
   ]
  },
  {
   "cell_type": "code",
   "execution_count": 115,
   "id": "dfcadc0c-2e9f-4221-b8f7-c223a820246a",
   "metadata": {},
   "outputs": [
    {
     "data": {
      "text/html": [
       "<div><style>\n",
       ".dataframe > thead > tr,\n",
       ".dataframe > tbody > tr {\n",
       "  text-align: right;\n",
       "  white-space: pre-wrap;\n",
       "}\n",
       "</style>\n",
       "<small>shape: (60, 6)</small><table border=\"1\" class=\"dataframe\"><thead><tr><th>Region</th><th>Year</th><th>total_Population, total</th><th>total_Urban population</th><th>mean_Population, total</th><th>mean_Urban population</th></tr><tr><td>str</td><td>str</td><td>f64</td><td>f64</td><td>f64</td><td>f64</td></tr></thead><tbody><tr><td>&quot;Europe&quot;</td><td>&quot;1994&quot;</td><td>4.2935e9</td><td>3.0181e9</td><td>4.2935e9</td><td>3.0181e9</td></tr><tr><td>&quot;Middle East&quot;</td><td>&quot;1995&quot;</td><td>9.14412582e8</td><td>5.69331372e8</td><td>9.14412582e8</td><td>5.69331372e8</td></tr><tr><td>&quot;Africa&quot;</td><td>&quot;1996&quot;</td><td>4.4414e9</td><td>1.4964e9</td><td>4.4414e9</td><td>1.4964e9</td></tr><tr><td>&quot;Asia&quot;</td><td>&quot;1998&quot;</td><td>1.9675e10</td><td>6.7835e9</td><td>1.9675e10</td><td>6.7835e9</td></tr><tr><td>&quot;Oceania&quot;</td><td>&quot;1992&quot;</td><td>1.6516122e8</td><td>1.16916756e8</td><td>1.6516122e8</td><td>1.16916756e8</td></tr><tr><td>&hellip;</td><td>&hellip;</td><td>&hellip;</td><td>&hellip;</td><td>&hellip;</td><td>&hellip;</td></tr><tr><td>&quot;Oceania&quot;</td><td>&quot;1993&quot;</td><td>1.67485644e8</td><td>1.18040172e8</td><td>1.67485644e8</td><td>1.18040172e8</td></tr><tr><td>&quot;The Americas&quot;</td><td>&quot;1996&quot;</td><td>4.7364e9</td><td>3.5606e9</td><td>4.7364e9</td><td>3.5606e9</td></tr><tr><td>&quot;Europe&quot;</td><td>&quot;1990&quot;</td><td>4.2569e9</td><td>2.9720e9</td><td>4.2569e9</td><td>2.9720e9</td></tr><tr><td>&quot;Europe&quot;</td><td>&quot;1991&quot;</td><td>4.2709e9</td><td>2.9873e9</td><td>4.2709e9</td><td>2.9873e9</td></tr><tr><td>&quot;Europe&quot;</td><td>&quot;1993&quot;</td><td>4.2886e9</td><td>3.0097e9</td><td>4.2886e9</td><td>3.0097e9</td></tr></tbody></table></div>"
      ],
      "text/plain": [
       "shape: (60, 6)\n",
       "┌──────────────┬──────┬───────────────────┬──────────────┬──────────────────────────┬──────────────┐\n",
       "│ Region       ┆ Year ┆ total_Population, ┆ total_Urban  ┆ mean_Population, total   ┆ mean_Urban   │\n",
       "│ ---          ┆ ---  ┆ total             ┆ population   ┆ ---                      ┆ population   │\n",
       "│ str          ┆ str  ┆ ---               ┆ ---          ┆ f64                      ┆ ---          │\n",
       "│              ┆      ┆ f64               ┆ f64          ┆                          ┆ f64          │\n",
       "╞══════════════╪══════╪═══════════════════╪══════════════╪══════════════════════════╪══════════════╡\n",
       "│ Europe       ┆ 1994 ┆ 4.2935e9          ┆ 3.0181e9     ┆ 4.2935e9                 ┆ 3.0181e9     │\n",
       "│ Middle East  ┆ 1995 ┆ 9.14412582e8      ┆ 5.69331372e8 ┆ 9.14412582e8             ┆ 5.69331372e8 │\n",
       "│ Africa       ┆ 1996 ┆ 4.4414e9          ┆ 1.4964e9     ┆ 4.4414e9                 ┆ 1.4964e9     │\n",
       "│ Asia         ┆ 1998 ┆ 1.9675e10         ┆ 6.7835e9     ┆ 1.9675e10                ┆ 6.7835e9     │\n",
       "│ Oceania      ┆ 1992 ┆ 1.6516122e8       ┆ 1.16916756e8 ┆ 1.6516122e8              ┆ 1.16916756e8 │\n",
       "│ …            ┆ …    ┆ …                 ┆ …            ┆ …                        ┆ …            │\n",
       "│ Oceania      ┆ 1993 ┆ 1.67485644e8      ┆ 1.18040172e8 ┆ 1.67485644e8             ┆ 1.18040172e8 │\n",
       "│ The Americas ┆ 1996 ┆ 4.7364e9          ┆ 3.5606e9     ┆ 4.7364e9                 ┆ 3.5606e9     │\n",
       "│ Europe       ┆ 1990 ┆ 4.2569e9          ┆ 2.9720e9     ┆ 4.2569e9                 ┆ 2.9720e9     │\n",
       "│ Europe       ┆ 1991 ┆ 4.2709e9          ┆ 2.9873e9     ┆ 4.2709e9                 ┆ 2.9873e9     │\n",
       "│ Europe       ┆ 1993 ┆ 4.2886e9          ┆ 3.0097e9     ┆ 4.2886e9                 ┆ 3.0097e9     │\n",
       "└──────────────┴──────┴───────────────────┴──────────────┴──────────────────────────┴──────────────┘"
      ]
     },
     "execution_count": 115,
     "metadata": {},
     "output_type": "execute_result"
    }
   ],
   "source": [
    "(pop_nums_by_region_and_year :=\n",
    " pop_nums\n",
    " .drop(cs.starts_with('C'))\n",
    " .filter(pl.col('Region').is_not_null())\n",
    " .group_by(cs.string())\n",
    " .agg(cs.float().sum().name.prefix('total_'),\n",
    "      cs.float().mean().name.prefix('mean_'),\n",
    "     )\n",
    ")"
   ]
  },
  {
   "cell_type": "markdown",
   "id": "c61e0b1e-a3f8-4073-8cb1-1eb6757bdfbb",
   "metadata": {},
   "source": [
    "### Cleaning up multiple column transformations\n",
    "\n",
    "Finally, we can use column selectors to perform the same computation to multiple columns simultaneously."
   ]
  },
  {
   "cell_type": "markdown",
   "id": "9c8d9e43-3294-4f33-9ec2-d6245daf9843",
   "metadata": {},
   "source": [
    "### Example - Converting the population totals to per 1000 people. "
   ]
  },
  {
   "cell_type": "markdown",
   "id": "d240e950-8516-4a96-9c5f-97a03d5d6f12",
   "metadata": {},
   "source": [
    "#### Solution 1 - Without column selectors"
   ]
  },
  {
   "cell_type": "code",
   "execution_count": 116,
   "id": "fa105695-8ea4-43c3-b23d-5103005a159d",
   "metadata": {},
   "outputs": [
    {
     "data": {
      "text/html": [
       "<div><style>\n",
       ".dataframe > thead > tr,\n",
       ".dataframe > tbody > tr {\n",
       "  text-align: right;\n",
       "  white-space: pre-wrap;\n",
       "}\n",
       "</style>\n",
       "<small>shape: (60, 8)</small><table border=\"1\" class=\"dataframe\"><thead><tr><th>Region</th><th>Year</th><th>total_Population, total</th><th>total_Urban population</th><th>mean_Population, total</th><th>mean_Urban population</th><th>Population_total_per_1K</th><th>Urban_population_per_1K</th></tr><tr><td>str</td><td>str</td><td>f64</td><td>f64</td><td>f64</td><td>f64</td><td>f64</td><td>f64</td></tr></thead><tbody><tr><td>&quot;Europe&quot;</td><td>&quot;1994&quot;</td><td>4.2935e9</td><td>3.0181e9</td><td>4.2935e9</td><td>3.0181e9</td><td>4293543.3</td><td>3.0181e6</td></tr><tr><td>&quot;Middle East&quot;</td><td>&quot;1995&quot;</td><td>9.14412582e8</td><td>5.69331372e8</td><td>9.14412582e8</td><td>5.69331372e8</td><td>914412.582</td><td>569331.372</td></tr><tr><td>&quot;Africa&quot;</td><td>&quot;1996&quot;</td><td>4.4414e9</td><td>1.4964e9</td><td>4.4414e9</td><td>1.4964e9</td><td>4.4414e6</td><td>1.4964e6</td></tr><tr><td>&quot;Asia&quot;</td><td>&quot;1998&quot;</td><td>1.9675e10</td><td>6.7835e9</td><td>1.9675e10</td><td>6.7835e9</td><td>1.9675e7</td><td>6.7835e6</td></tr><tr><td>&quot;Oceania&quot;</td><td>&quot;1992&quot;</td><td>1.6516122e8</td><td>1.16916756e8</td><td>1.6516122e8</td><td>1.16916756e8</td><td>165161.22</td><td>116916.756</td></tr><tr><td>&hellip;</td><td>&hellip;</td><td>&hellip;</td><td>&hellip;</td><td>&hellip;</td><td>&hellip;</td><td>&hellip;</td><td>&hellip;</td></tr><tr><td>&quot;Oceania&quot;</td><td>&quot;1993&quot;</td><td>1.67485644e8</td><td>1.18040172e8</td><td>1.67485644e8</td><td>1.18040172e8</td><td>167485.644</td><td>118040.172</td></tr><tr><td>&quot;The Americas&quot;</td><td>&quot;1996&quot;</td><td>4.7364e9</td><td>3.5606e9</td><td>4.7364e9</td><td>3.5606e9</td><td>4.7364e6</td><td>3.5606e6</td></tr><tr><td>&quot;Europe&quot;</td><td>&quot;1990&quot;</td><td>4.2569e9</td><td>2.9720e9</td><td>4.2569e9</td><td>2.9720e9</td><td>4.2569e6</td><td>2.9720e6</td></tr><tr><td>&quot;Europe&quot;</td><td>&quot;1991&quot;</td><td>4.2709e9</td><td>2.9873e9</td><td>4.2709e9</td><td>2.9873e9</td><td>4.2709e6</td><td>2.9873e6</td></tr><tr><td>&quot;Europe&quot;</td><td>&quot;1993&quot;</td><td>4.2886e9</td><td>3.0097e9</td><td>4.2886e9</td><td>3.0097e9</td><td>4.2886e6</td><td>3.0097e6</td></tr></tbody></table></div>"
      ],
      "text/plain": [
       "shape: (60, 8)\n",
       "┌─────────────┬──────┬────────────┬────────────┬────────────┬────────────┬────────────┬────────────┐\n",
       "│ Region      ┆ Year ┆ total_Popu ┆ total_Urba ┆ mean_Popul ┆ mean_Urban ┆ Population ┆ Urban_popu │\n",
       "│ ---         ┆ ---  ┆ lation,    ┆ n          ┆ ation,     ┆ population ┆ _total_per ┆ lation_per │\n",
       "│ str         ┆ str  ┆ total      ┆ population ┆ total      ┆ ---        ┆ _1K        ┆ _1K        │\n",
       "│             ┆      ┆ ---        ┆ ---        ┆ ---        ┆ f64        ┆ ---        ┆ ---        │\n",
       "│             ┆      ┆ f64        ┆ f64        ┆ f64        ┆            ┆ f64        ┆ f64        │\n",
       "╞═════════════╪══════╪════════════╪════════════╪════════════╪════════════╪════════════╪════════════╡\n",
       "│ Europe      ┆ 1994 ┆ 4.2935e9   ┆ 3.0181e9   ┆ 4.2935e9   ┆ 3.0181e9   ┆ 4293543.3  ┆ 3.0181e6   │\n",
       "│ Middle East ┆ 1995 ┆ 9.14412582 ┆ 5.69331372 ┆ 9.14412582 ┆ 5.69331372 ┆ 914412.582 ┆ 569331.372 │\n",
       "│             ┆      ┆ e8         ┆ e8         ┆ e8         ┆ e8         ┆            ┆            │\n",
       "│ Africa      ┆ 1996 ┆ 4.4414e9   ┆ 1.4964e9   ┆ 4.4414e9   ┆ 1.4964e9   ┆ 4.4414e6   ┆ 1.4964e6   │\n",
       "│ Asia        ┆ 1998 ┆ 1.9675e10  ┆ 6.7835e9   ┆ 1.9675e10  ┆ 6.7835e9   ┆ 1.9675e7   ┆ 6.7835e6   │\n",
       "│ Oceania     ┆ 1992 ┆ 1.6516122e ┆ 1.16916756 ┆ 1.6516122e ┆ 1.16916756 ┆ 165161.22  ┆ 116916.756 │\n",
       "│             ┆      ┆ 8          ┆ e8         ┆ 8          ┆ e8         ┆            ┆            │\n",
       "│ …           ┆ …    ┆ …          ┆ …          ┆ …          ┆ …          ┆ …          ┆ …          │\n",
       "│ Oceania     ┆ 1993 ┆ 1.67485644 ┆ 1.18040172 ┆ 1.67485644 ┆ 1.18040172 ┆ 167485.644 ┆ 118040.172 │\n",
       "│             ┆      ┆ e8         ┆ e8         ┆ e8         ┆ e8         ┆            ┆            │\n",
       "│ The         ┆ 1996 ┆ 4.7364e9   ┆ 3.5606e9   ┆ 4.7364e9   ┆ 3.5606e9   ┆ 4.7364e6   ┆ 3.5606e6   │\n",
       "│ Americas    ┆      ┆            ┆            ┆            ┆            ┆            ┆            │\n",
       "│ Europe      ┆ 1990 ┆ 4.2569e9   ┆ 2.9720e9   ┆ 4.2569e9   ┆ 2.9720e9   ┆ 4.2569e6   ┆ 2.9720e6   │\n",
       "│ Europe      ┆ 1991 ┆ 4.2709e9   ┆ 2.9873e9   ┆ 4.2709e9   ┆ 2.9873e9   ┆ 4.2709e6   ┆ 2.9873e6   │\n",
       "│ Europe      ┆ 1993 ┆ 4.2886e9   ┆ 3.0097e9   ┆ 4.2886e9   ┆ 3.0097e9   ┆ 4.2886e6   ┆ 3.0097e6   │\n",
       "└─────────────┴──────┴────────────┴────────────┴────────────┴────────────┴────────────┴────────────┘"
      ]
     },
     "execution_count": 116,
     "metadata": {},
     "output_type": "execute_result"
    }
   ],
   "source": [
    "(pop_per_1K_by_region_and_year :=\n",
    " pop_nums_by_region_and_year.with_columns(\n",
    "     (pl.col(\"total_Population, total\") / 1000).alias(\"Population_total_per_1K\"),\n",
    "     (pl.col(\"total_Urban population\") / 1000).alias(\"Urban_population_per_1K\"),\n",
    " )\n",
    ")\n"
   ]
  },
  {
   "cell_type": "markdown",
   "id": "a0d05a08-0578-45b6-8b1a-6ea8f73b71b8",
   "metadata": {},
   "source": [
    "#### Solution 2 - With column selectors"
   ]
  },
  {
   "cell_type": "code",
   "execution_count": 117,
   "id": "58bf42f7-2517-42d6-aff2-c959e3037dd9",
   "metadata": {},
   "outputs": [
    {
     "data": {
      "text/html": [
       "<div><style>\n",
       ".dataframe > thead > tr,\n",
       ".dataframe > tbody > tr {\n",
       "  text-align: right;\n",
       "  white-space: pre-wrap;\n",
       "}\n",
       "</style>\n",
       "<small>shape: (60, 6)</small><table border=\"1\" class=\"dataframe\"><thead><tr><th>Region</th><th>Year</th><th>total_Population, total</th><th>total_Urban population</th><th>mean_Population, total</th><th>mean_Urban population</th></tr><tr><td>str</td><td>str</td><td>f64</td><td>f64</td><td>f64</td><td>f64</td></tr></thead><tbody><tr><td>&quot;Europe&quot;</td><td>&quot;1994&quot;</td><td>4293543.3</td><td>3.0181e6</td><td>4293543.3</td><td>3.0181e6</td></tr><tr><td>&quot;Middle East&quot;</td><td>&quot;1995&quot;</td><td>914412.582</td><td>569331.372</td><td>914412.582</td><td>569331.372</td></tr><tr><td>&quot;Africa&quot;</td><td>&quot;1996&quot;</td><td>4.4414e6</td><td>1.4964e6</td><td>4.4414e6</td><td>1.4964e6</td></tr><tr><td>&quot;Asia&quot;</td><td>&quot;1998&quot;</td><td>1.9675e7</td><td>6.7835e6</td><td>1.9675e7</td><td>6.7835e6</td></tr><tr><td>&quot;Oceania&quot;</td><td>&quot;1992&quot;</td><td>165161.22</td><td>116916.756</td><td>165161.22</td><td>116916.756</td></tr><tr><td>&hellip;</td><td>&hellip;</td><td>&hellip;</td><td>&hellip;</td><td>&hellip;</td><td>&hellip;</td></tr><tr><td>&quot;Oceania&quot;</td><td>&quot;1993&quot;</td><td>167485.644</td><td>118040.172</td><td>167485.644</td><td>118040.172</td></tr><tr><td>&quot;The Americas&quot;</td><td>&quot;1996&quot;</td><td>4.7364e6</td><td>3.5606e6</td><td>4.7364e6</td><td>3.5606e6</td></tr><tr><td>&quot;Europe&quot;</td><td>&quot;1990&quot;</td><td>4.2569e6</td><td>2.9720e6</td><td>4.2569e6</td><td>2.9720e6</td></tr><tr><td>&quot;Europe&quot;</td><td>&quot;1991&quot;</td><td>4.2709e6</td><td>2.9873e6</td><td>4.2709e6</td><td>2.9873e6</td></tr><tr><td>&quot;Europe&quot;</td><td>&quot;1993&quot;</td><td>4.2886e6</td><td>3.0097e6</td><td>4.2886e6</td><td>3.0097e6</td></tr></tbody></table></div>"
      ],
      "text/plain": [
       "shape: (60, 6)\n",
       "┌──────────────┬──────┬───────────────────┬─────────────┬────────────────────────┬────────────┐\n",
       "│ Region       ┆ Year ┆ total_Population, ┆ total_Urban ┆ mean_Population, total ┆ mean_Urban │\n",
       "│ ---          ┆ ---  ┆ total             ┆ population  ┆ ---                    ┆ population │\n",
       "│ str          ┆ str  ┆ ---               ┆ ---         ┆ f64                    ┆ ---        │\n",
       "│              ┆      ┆ f64               ┆ f64         ┆                        ┆ f64        │\n",
       "╞══════════════╪══════╪═══════════════════╪═════════════╪════════════════════════╪════════════╡\n",
       "│ Europe       ┆ 1994 ┆ 4293543.3         ┆ 3.0181e6    ┆ 4293543.3              ┆ 3.0181e6   │\n",
       "│ Middle East  ┆ 1995 ┆ 914412.582        ┆ 569331.372  ┆ 914412.582             ┆ 569331.372 │\n",
       "│ Africa       ┆ 1996 ┆ 4.4414e6          ┆ 1.4964e6    ┆ 4.4414e6               ┆ 1.4964e6   │\n",
       "│ Asia         ┆ 1998 ┆ 1.9675e7          ┆ 6.7835e6    ┆ 1.9675e7               ┆ 6.7835e6   │\n",
       "│ Oceania      ┆ 1992 ┆ 165161.22         ┆ 116916.756  ┆ 165161.22              ┆ 116916.756 │\n",
       "│ …            ┆ …    ┆ …                 ┆ …           ┆ …                      ┆ …          │\n",
       "│ Oceania      ┆ 1993 ┆ 167485.644        ┆ 118040.172  ┆ 167485.644             ┆ 118040.172 │\n",
       "│ The Americas ┆ 1996 ┆ 4.7364e6          ┆ 3.5606e6    ┆ 4.7364e6               ┆ 3.5606e6   │\n",
       "│ Europe       ┆ 1990 ┆ 4.2569e6          ┆ 2.9720e6    ┆ 4.2569e6               ┆ 2.9720e6   │\n",
       "│ Europe       ┆ 1991 ┆ 4.2709e6          ┆ 2.9873e6    ┆ 4.2709e6               ┆ 2.9873e6   │\n",
       "│ Europe       ┆ 1993 ┆ 4.2886e6          ┆ 3.0097e6    ┆ 4.2886e6               ┆ 3.0097e6   │\n",
       "└──────────────┴──────┴───────────────────┴─────────────┴────────────────────────┴────────────┘"
      ]
     },
     "execution_count": 117,
     "metadata": {},
     "output_type": "execute_result"
    }
   ],
   "source": [
    "(pop_per_1K_by_region_and_year :=\n",
    " pop_nums_by_region_and_year\n",
    " .with_columns(cs.float()/1000)\n",
    ")"
   ]
  },
  {
   "cell_type": "markdown",
   "id": "cbfb2d70-a943-42cb-a24f-30fc38d3cd42",
   "metadata": {},
   "source": [
    "### Example - Standardize multiple columns"
   ]
  },
  {
   "cell_type": "markdown",
   "id": "a7c229ae-e84d-4d1d-9048-6a73a8d7bc3d",
   "metadata": {},
   "source": [
    "#### Solution 1 - Without column selectors"
   ]
  },
  {
   "cell_type": "code",
   "execution_count": 119,
   "id": "a63068fb-099f-46b7-81ec-457595f14b6f",
   "metadata": {},
   "outputs": [
    {
     "data": {
      "text/html": [
       "<div><style>\n",
       ".dataframe > thead > tr,\n",
       ".dataframe > tbody > tr {\n",
       "  text-align: right;\n",
       "  white-space: pre-wrap;\n",
       "}\n",
       "</style>\n",
       "<small>shape: (60, 8)</small><table border=\"1\" class=\"dataframe\"><thead><tr><th>Region</th><th>Year</th><th>total_Population, total</th><th>total_Urban population</th><th>mean_Population, total</th><th>mean_Urban population</th><th>Population_total_zscore</th><th>Urban_population_zscore</th></tr><tr><td>str</td><td>str</td><td>f64</td><td>f64</td><td>f64</td><td>f64</td><td>f64</td><td>f64</td></tr></thead><tbody><tr><td>&quot;Europe&quot;</td><td>&quot;1994&quot;</td><td>4.2935e9</td><td>3.0181e9</td><td>4.2935e9</td><td>3.0181e9</td><td>-0.192866</td><td>0.27678</td></tr><tr><td>&quot;Middle East&quot;</td><td>&quot;1995&quot;</td><td>9.14412582e8</td><td>5.69331372e8</td><td>9.14412582e8</td><td>5.69331372e8</td><td>-0.737237</td><td>-0.909926</td></tr><tr><td>&quot;Africa&quot;</td><td>&quot;1996&quot;</td><td>4.4414e9</td><td>1.4964e9</td><td>4.4414e9</td><td>1.4964e9</td><td>-0.169045</td><td>-0.460665</td></tr><tr><td>&quot;Asia&quot;</td><td>&quot;1998&quot;</td><td>1.9675e10</td><td>6.7835e9</td><td>1.9675e10</td><td>6.7835e9</td><td>2.285041</td><td>2.101558</td></tr><tr><td>&quot;Oceania&quot;</td><td>&quot;1992&quot;</td><td>1.6516122e8</td><td>1.16916756e8</td><td>1.6516122e8</td><td>1.16916756e8</td><td>-0.85794</td><td>-1.129174</td></tr><tr><td>&hellip;</td><td>&hellip;</td><td>&hellip;</td><td>&hellip;</td><td>&hellip;</td><td>&hellip;</td><td>&hellip;</td><td>&hellip;</td></tr><tr><td>&quot;Oceania&quot;</td><td>&quot;1993&quot;</td><td>1.67485644e8</td><td>1.18040172e8</td><td>1.67485644e8</td><td>1.18040172e8</td><td>-0.857565</td><td>-1.128629</td></tr><tr><td>&quot;The Americas&quot;</td><td>&quot;1996&quot;</td><td>4.7364e9</td><td>3.5606e9</td><td>4.7364e9</td><td>3.5606e9</td><td>-0.121517</td><td>0.539671</td></tr><tr><td>&quot;Europe&quot;</td><td>&quot;1990&quot;</td><td>4.2569e9</td><td>2.9720e9</td><td>4.2569e9</td><td>2.9720e9</td><td>-0.198762</td><td>0.254445</td></tr><tr><td>&quot;Europe&quot;</td><td>&quot;1991&quot;</td><td>4.2709e9</td><td>2.9873e9</td><td>4.2709e9</td><td>2.9873e9</td><td>-0.19651</td><td>0.261852</td></tr><tr><td>&quot;Europe&quot;</td><td>&quot;1993&quot;</td><td>4.2886e9</td><td>3.0097e9</td><td>4.2886e9</td><td>3.0097e9</td><td>-0.193667</td><td>0.272725</td></tr></tbody></table></div>"
      ],
      "text/plain": [
       "shape: (60, 8)\n",
       "┌─────────────┬──────┬────────────┬────────────┬────────────┬────────────┬────────────┬────────────┐\n",
       "│ Region      ┆ Year ┆ total_Popu ┆ total_Urba ┆ mean_Popul ┆ mean_Urban ┆ Population ┆ Urban_popu │\n",
       "│ ---         ┆ ---  ┆ lation,    ┆ n          ┆ ation,     ┆ population ┆ _total_zsc ┆ lation_zsc │\n",
       "│ str         ┆ str  ┆ total      ┆ population ┆ total      ┆ ---        ┆ ore        ┆ ore        │\n",
       "│             ┆      ┆ ---        ┆ ---        ┆ ---        ┆ f64        ┆ ---        ┆ ---        │\n",
       "│             ┆      ┆ f64        ┆ f64        ┆ f64        ┆            ┆ f64        ┆ f64        │\n",
       "╞═════════════╪══════╪════════════╪════════════╪════════════╪════════════╪════════════╪════════════╡\n",
       "│ Europe      ┆ 1994 ┆ 4.2935e9   ┆ 3.0181e9   ┆ 4.2935e9   ┆ 3.0181e9   ┆ -0.192866  ┆ 0.27678    │\n",
       "│ Middle East ┆ 1995 ┆ 9.14412582 ┆ 5.69331372 ┆ 9.14412582 ┆ 5.69331372 ┆ -0.737237  ┆ -0.909926  │\n",
       "│             ┆      ┆ e8         ┆ e8         ┆ e8         ┆ e8         ┆            ┆            │\n",
       "│ Africa      ┆ 1996 ┆ 4.4414e9   ┆ 1.4964e9   ┆ 4.4414e9   ┆ 1.4964e9   ┆ -0.169045  ┆ -0.460665  │\n",
       "│ Asia        ┆ 1998 ┆ 1.9675e10  ┆ 6.7835e9   ┆ 1.9675e10  ┆ 6.7835e9   ┆ 2.285041   ┆ 2.101558   │\n",
       "│ Oceania     ┆ 1992 ┆ 1.6516122e ┆ 1.16916756 ┆ 1.6516122e ┆ 1.16916756 ┆ -0.85794   ┆ -1.129174  │\n",
       "│             ┆      ┆ 8          ┆ e8         ┆ 8          ┆ e8         ┆            ┆            │\n",
       "│ …           ┆ …    ┆ …          ┆ …          ┆ …          ┆ …          ┆ …          ┆ …          │\n",
       "│ Oceania     ┆ 1993 ┆ 1.67485644 ┆ 1.18040172 ┆ 1.67485644 ┆ 1.18040172 ┆ -0.857565  ┆ -1.128629  │\n",
       "│             ┆      ┆ e8         ┆ e8         ┆ e8         ┆ e8         ┆            ┆            │\n",
       "│ The         ┆ 1996 ┆ 4.7364e9   ┆ 3.5606e9   ┆ 4.7364e9   ┆ 3.5606e9   ┆ -0.121517  ┆ 0.539671   │\n",
       "│ Americas    ┆      ┆            ┆            ┆            ┆            ┆            ┆            │\n",
       "│ Europe      ┆ 1990 ┆ 4.2569e9   ┆ 2.9720e9   ┆ 4.2569e9   ┆ 2.9720e9   ┆ -0.198762  ┆ 0.254445   │\n",
       "│ Europe      ┆ 1991 ┆ 4.2709e9   ┆ 2.9873e9   ┆ 4.2709e9   ┆ 2.9873e9   ┆ -0.19651   ┆ 0.261852   │\n",
       "│ Europe      ┆ 1993 ┆ 4.2886e9   ┆ 3.0097e9   ┆ 4.2886e9   ┆ 3.0097e9   ┆ -0.193667  ┆ 0.272725   │\n",
       "└─────────────┴──────┴────────────┴────────────┴────────────┴────────────┴────────────┴────────────┘"
      ]
     },
     "execution_count": 119,
     "metadata": {},
     "output_type": "execute_result"
    }
   ],
   "source": [
    "(pop_z_scores_by_region_and_year :=\n",
    " pop_nums_by_region_and_year.with_columns(\n",
    "     (\n",
    "         (pl.col(\"total_Population, total\") - pl.col(\"total_Population, total\").mean())\n",
    "         / pl.col(\"total_Population, total\").std()\n",
    "     ).alias(\"Population_total_zscore\"),\n",
    "     \n",
    "     (\n",
    "         (pl.col(\"total_Urban population\") - pl.col(\"total_Urban population\").mean())\n",
    "         / pl.col(\"total_Urban population\").std()\n",
    "     ).alias(\"Urban_population_zscore\"),\n",
    " )\n",
    ")\n"
   ]
  },
  {
   "cell_type": "markdown",
   "id": "ad895b5f-137b-4daf-a883-9fee9ae77437",
   "metadata": {},
   "source": [
    "#### Solution 2 - With columns selectors"
   ]
  },
  {
   "cell_type": "code",
   "execution_count": null,
   "id": "c2b5f2a9-96b4-43cc-8310-9eaabdd7b4fd",
   "metadata": {
    "scrolled": true
   },
   "outputs": [
    {
     "data": {
      "text/html": [
       "<div><style>\n",
       ".dataframe > thead > tr,\n",
       ".dataframe > tbody > tr {\n",
       "  text-align: right;\n",
       "  white-space: pre-wrap;\n",
       "}\n",
       "</style>\n",
       "<small>shape: (60, 4)</small><table border=\"1\" class=\"dataframe\"><thead><tr><th>Region</th><th>Year</th><th>Population, total</th><th>Urban population</th></tr><tr><td>str</td><td>str</td><td>f64</td><td>f64</td></tr></thead><tbody><tr><td>&quot;Oceania&quot;</td><td>&quot;1999&quot;</td><td>-0.854962</td><td>-1.124764</td></tr><tr><td>&quot;Oceania&quot;</td><td>&quot;1995&quot;</td><td>-0.856729</td><td>-1.127355</td></tr><tr><td>&quot;Middle East&quot;</td><td>&quot;1996&quot;</td><td>-0.733803</td><td>-0.901463</td></tr><tr><td>&quot;The Americas&quot;</td><td>&quot;1997&quot;</td><td>-0.110446</td><td>0.5748</td></tr><tr><td>&quot;Oceania&quot;</td><td>&quot;1993&quot;</td><td>-0.857565</td><td>-1.128629</td></tr><tr><td>&hellip;</td><td>&hellip;</td><td>&hellip;</td><td>&hellip;</td></tr><tr><td>&quot;Africa&quot;</td><td>&quot;1997&quot;</td><td>-0.151256</td><td>-0.435825</td></tr><tr><td>&quot;The Americas&quot;</td><td>&quot;1999&quot;</td><td>-0.088801</td><td>0.644295</td></tr><tr><td>&quot;Middle East&quot;</td><td>&quot;1999&quot;</td><td>-0.722895</td><td>-0.874673</td></tr><tr><td>&quot;Europe&quot;</td><td>&quot;1990&quot;</td><td>-0.198762</td><td>0.254445</td></tr><tr><td>&quot;Oceania&quot;</td><td>&quot;1997&quot;</td><td>-0.855817</td><td>-1.125951</td></tr></tbody></table></div>"
      ],
      "text/plain": [
       "shape: (60, 4)\n",
       "┌──────────────┬──────┬───────────────────┬──────────────────┐\n",
       "│ Region       ┆ Year ┆ Population, total ┆ Urban population │\n",
       "│ ---          ┆ ---  ┆ ---               ┆ ---              │\n",
       "│ str          ┆ str  ┆ f64               ┆ f64              │\n",
       "╞══════════════╪══════╪═══════════════════╪══════════════════╡\n",
       "│ Oceania      ┆ 1999 ┆ -0.854962         ┆ -1.124764        │\n",
       "│ Oceania      ┆ 1995 ┆ -0.856729         ┆ -1.127355        │\n",
       "│ Middle East  ┆ 1996 ┆ -0.733803         ┆ -0.901463        │\n",
       "│ The Americas ┆ 1997 ┆ -0.110446         ┆ 0.5748           │\n",
       "│ Oceania      ┆ 1993 ┆ -0.857565         ┆ -1.128629        │\n",
       "│ …            ┆ …    ┆ …                 ┆ …                │\n",
       "│ Africa       ┆ 1997 ┆ -0.151256         ┆ -0.435825        │\n",
       "│ The Americas ┆ 1999 ┆ -0.088801         ┆ 0.644295         │\n",
       "│ Middle East  ┆ 1999 ┆ -0.722895         ┆ -0.874673        │\n",
       "│ Europe       ┆ 1990 ┆ -0.198762         ┆ 0.254445         │\n",
       "│ Oceania      ┆ 1997 ┆ -0.855817         ┆ -1.125951        │\n",
       "└──────────────┴──────┴───────────────────┴──────────────────┘"
      ]
     },
     "execution_count": 60,
     "metadata": {},
     "output_type": "execute_result"
    }
   ],
   "source": [
    "(pop_per_1K_by_region_and_year :=\n",
    " pop_nums_by_region_and_year\n",
    " .with_columns((cs.float() - cs.float().mean())/cs.float().std())\n",
    ")"
   ]
  },
  {
   "cell_type": "markdown",
   "id": "cdb9542a-2223-44bf-9894-bc5b2eac5e58",
   "metadata": {},
   "source": [
    "### Example - Standardize multiple columns (within `Region`)"
   ]
  },
  {
   "cell_type": "markdown",
   "id": "80ba625a-e076-42e1-854e-e6958bee369a",
   "metadata": {},
   "source": [
    "#### Solution 1 - Without column selectors"
   ]
  },
  {
   "cell_type": "code",
   "execution_count": null,
   "id": "a45b2155-9bbe-4104-b09e-ab5f8eb734f1",
   "metadata": {},
   "outputs": [
    {
     "data": {
      "text/html": [
       "<div><style>\n",
       ".dataframe > thead > tr,\n",
       ".dataframe > tbody > tr {\n",
       "  text-align: right;\n",
       "  white-space: pre-wrap;\n",
       "}\n",
       "</style>\n",
       "<small>shape: (60, 4)</small><table border=\"1\" class=\"dataframe\"><thead><tr><th>Region</th><th>Year</th><th>Population, total</th><th>Urban population</th></tr><tr><td>str</td><td>str</td><td>f64</td><td>f64</td></tr></thead><tbody><tr><td>&quot;Oceania&quot;</td><td>&quot;1999&quot;</td><td>1.496933</td><td>1.445769</td></tr><tr><td>&quot;Oceania&quot;</td><td>&quot;1995&quot;</td><td>0.13435</td><td>0.15007</td></tr><tr><td>&quot;Middle East&quot;</td><td>&quot;1996&quot;</td><td>0.47942</td><td>0.480335</td></tr><tr><td>&quot;The Americas&quot;</td><td>&quot;1997&quot;</td><td>0.82893</td><td>0.826205</td></tr><tr><td>&quot;Oceania&quot;</td><td>&quot;1993&quot;</td><td>-0.509868</td><td>-0.487318</td></tr><tr><td>&hellip;</td><td>&hellip;</td><td>&hellip;</td><td>&hellip;</td></tr><tr><td>&quot;Africa&quot;</td><td>&quot;1997&quot;</td><td>0.820938</td><td>0.812929</td></tr><tr><td>&quot;The Americas&quot;</td><td>&quot;1999&quot;</td><td>1.467548</td><td>1.484156</td></tr><tr><td>&quot;Middle East&quot;</td><td>&quot;1999&quot;</td><td>1.491771</td><td>1.500873</td></tr><tr><td>&quot;Europe&quot;</td><td>&quot;1990&quot;</td><td>-2.164742</td><td>-1.842614</td></tr><tr><td>&quot;Oceania&quot;</td><td>&quot;1997&quot;</td><td>0.837484</td><td>0.851895</td></tr></tbody></table></div>"
      ],
      "text/plain": [
       "shape: (60, 4)\n",
       "┌──────────────┬──────┬───────────────────┬──────────────────┐\n",
       "│ Region       ┆ Year ┆ Population, total ┆ Urban population │\n",
       "│ ---          ┆ ---  ┆ ---               ┆ ---              │\n",
       "│ str          ┆ str  ┆ f64               ┆ f64              │\n",
       "╞══════════════╪══════╪═══════════════════╪══════════════════╡\n",
       "│ Oceania      ┆ 1999 ┆ 1.496933          ┆ 1.445769         │\n",
       "│ Oceania      ┆ 1995 ┆ 0.13435           ┆ 0.15007          │\n",
       "│ Middle East  ┆ 1996 ┆ 0.47942           ┆ 0.480335         │\n",
       "│ The Americas ┆ 1997 ┆ 0.82893           ┆ 0.826205         │\n",
       "│ Oceania      ┆ 1993 ┆ -0.509868         ┆ -0.487318        │\n",
       "│ …            ┆ …    ┆ …                 ┆ …                │\n",
       "│ Africa       ┆ 1997 ┆ 0.820938          ┆ 0.812929         │\n",
       "│ The Americas ┆ 1999 ┆ 1.467548          ┆ 1.484156         │\n",
       "│ Middle East  ┆ 1999 ┆ 1.491771          ┆ 1.500873         │\n",
       "│ Europe       ┆ 1990 ┆ -2.164742         ┆ -1.842614        │\n",
       "│ Oceania      ┆ 1997 ┆ 0.837484          ┆ 0.851895         │\n",
       "└──────────────┴──────┴───────────────────┴──────────────────┘"
      ]
     },
     "execution_count": 61,
     "metadata": {},
     "output_type": "execute_result"
    }
   ],
   "source": [
    "(pop_z_scores_by_region_and_year :=\n",
    " pop_nums_by_region_and_year\n",
    " .with_columns((pl.col('Population, total') - pl.col('Population, total').mean().over('Region'))/pl.col('Population, total').std().over('Region'), \n",
    "               (pl.col('Urban population') - pl.col('Urban population').mean().over('Region'))/pl.col('Urban population').std().over('Region'),\n",
    "              )\n",
    ")"
   ]
  },
  {
   "cell_type": "markdown",
   "id": "1e0a079e-1145-43ae-8fe6-784824e4fc6b",
   "metadata": {},
   "source": [
    "#### Solution 2 - With columns selectors"
   ]
  },
  {
   "cell_type": "code",
   "execution_count": null,
   "id": "c74ddb51-2f54-4c46-89b2-a1c2dd48ca62",
   "metadata": {
    "scrolled": true
   },
   "outputs": [
    {
     "data": {
      "text/html": [
       "<div><style>\n",
       ".dataframe > thead > tr,\n",
       ".dataframe > tbody > tr {\n",
       "  text-align: right;\n",
       "  white-space: pre-wrap;\n",
       "}\n",
       "</style>\n",
       "<small>shape: (60, 4)</small><table border=\"1\" class=\"dataframe\"><thead><tr><th>Region</th><th>Year</th><th>Population, total</th><th>Urban population</th></tr><tr><td>str</td><td>str</td><td>f64</td><td>f64</td></tr></thead><tbody><tr><td>&quot;Oceania&quot;</td><td>&quot;1999&quot;</td><td>1.496933</td><td>1.445769</td></tr><tr><td>&quot;Oceania&quot;</td><td>&quot;1995&quot;</td><td>0.13435</td><td>0.15007</td></tr><tr><td>&quot;Middle East&quot;</td><td>&quot;1996&quot;</td><td>0.47942</td><td>0.480335</td></tr><tr><td>&quot;The Americas&quot;</td><td>&quot;1997&quot;</td><td>0.82893</td><td>0.826205</td></tr><tr><td>&quot;Oceania&quot;</td><td>&quot;1993&quot;</td><td>-0.509868</td><td>-0.487318</td></tr><tr><td>&hellip;</td><td>&hellip;</td><td>&hellip;</td><td>&hellip;</td></tr><tr><td>&quot;Africa&quot;</td><td>&quot;1997&quot;</td><td>0.820938</td><td>0.812929</td></tr><tr><td>&quot;The Americas&quot;</td><td>&quot;1999&quot;</td><td>1.467548</td><td>1.484156</td></tr><tr><td>&quot;Middle East&quot;</td><td>&quot;1999&quot;</td><td>1.491771</td><td>1.500873</td></tr><tr><td>&quot;Europe&quot;</td><td>&quot;1990&quot;</td><td>-2.164742</td><td>-1.842614</td></tr><tr><td>&quot;Oceania&quot;</td><td>&quot;1997&quot;</td><td>0.837484</td><td>0.851895</td></tr></tbody></table></div>"
      ],
      "text/plain": [
       "shape: (60, 4)\n",
       "┌──────────────┬──────┬───────────────────┬──────────────────┐\n",
       "│ Region       ┆ Year ┆ Population, total ┆ Urban population │\n",
       "│ ---          ┆ ---  ┆ ---               ┆ ---              │\n",
       "│ str          ┆ str  ┆ f64               ┆ f64              │\n",
       "╞══════════════╪══════╪═══════════════════╪══════════════════╡\n",
       "│ Oceania      ┆ 1999 ┆ 1.496933          ┆ 1.445769         │\n",
       "│ Oceania      ┆ 1995 ┆ 0.13435           ┆ 0.15007          │\n",
       "│ Middle East  ┆ 1996 ┆ 0.47942           ┆ 0.480335         │\n",
       "│ The Americas ┆ 1997 ┆ 0.82893           ┆ 0.826205         │\n",
       "│ Oceania      ┆ 1993 ┆ -0.509868         ┆ -0.487318        │\n",
       "│ …            ┆ …    ┆ …                 ┆ …                │\n",
       "│ Africa       ┆ 1997 ┆ 0.820938          ┆ 0.812929         │\n",
       "│ The Americas ┆ 1999 ┆ 1.467548          ┆ 1.484156         │\n",
       "│ Middle East  ┆ 1999 ┆ 1.491771          ┆ 1.500873         │\n",
       "│ Europe       ┆ 1990 ┆ -2.164742         ┆ -1.842614        │\n",
       "│ Oceania      ┆ 1997 ┆ 0.837484          ┆ 0.851895         │\n",
       "└──────────────┴──────┴───────────────────┴──────────────────┘"
      ]
     },
     "execution_count": 65,
     "metadata": {},
     "output_type": "execute_result"
    }
   ],
   "source": [
    "(pop_per_1K_by_region_and_year :=\n",
    " pop_nums_by_region_and_year\n",
    " .with_columns((cs.float() - cs.float().mean().over('Region'))/cs.float().std().over('Region'))\n",
    ")"
   ]
  },
  {
   "cell_type": "markdown",
   "id": "4881a8ed-47d6-474f-b9ff-67e8122f0ab1",
   "metadata": {},
   "source": [
    "## <font color=\"red\"> Exercise 3.1.3 </font>\n",
    "\n",
    "Now redo the work in the first exercise, but also use one column selector to perform the `agg` step."
   ]
  },
  {
   "cell_type": "code",
   "execution_count": 120,
   "id": "86483cbe-7ccc-4664-acab-43349f5ee568",
   "metadata": {},
   "outputs": [
    {
     "name": "stderr",
     "output_type": "stream",
     "text": [
      "C:\\Users\\im4284hw\\AppData\\Local\\Temp\\ipykernel_18972\\3555384290.py:7: DeprecationWarning: `DataFrame.melt` is deprecated; use `DataFrame.unpivot` instead, with `index` instead of `id_vars` and `on` instead of `value_vars`\n",
      "  WB_long = WB_dev_ind.melt(\n"
     ]
    },
    {
     "data": {
      "text/html": [
       "<div><style>\n",
       ".dataframe > thead > tr,\n",
       ".dataframe > tbody > tr {\n",
       "  text-align: right;\n",
       "  white-space: pre-wrap;\n",
       "}\n",
       "</style>\n",
       "<small>shape: (0, 5)</small><table border=\"1\" class=\"dataframe\"><thead><tr><th>Region</th><th>Year</th><th>Total_diabetes</th><th>Population</th><th>Prevalence</th></tr><tr><td>str</td><td>str</td><td>f64</td><td>f64</td><td>f64</td></tr></thead><tbody></tbody></table></div>"
      ],
      "text/plain": [
       "shape: (0, 5)\n",
       "┌────────┬──────┬────────────────┬────────────┬────────────┐\n",
       "│ Region ┆ Year ┆ Total_diabetes ┆ Population ┆ Prevalence │\n",
       "│ ---    ┆ ---  ┆ ---            ┆ ---        ┆ ---        │\n",
       "│ str    ┆ str  ┆ f64            ┆ f64        ┆ f64        │\n",
       "╞════════╪══════╪════════════════╪════════════╪════════════╡\n",
       "└────────┴──────┴────────────────┴────────────┴────────────┘"
      ]
     },
     "execution_count": 120,
     "metadata": {},
     "output_type": "execute_result"
    }
   ],
   "source": [
    "# Your code here\n",
    "\n",
    "\n",
    "# Reshape \n",
    "year_cols = [c for c in WB_dev_ind.columns if c.isdigit()]  \n",
    "\n",
    "WB_long = WB_dev_ind.melt(\n",
    "    id_vars=[\"Country Name\", \"Region\", \"Series Name\", \"Series Code\"], \n",
    "    value_vars=year_cols,\n",
    "    variable_name=\"Year\",\n",
    "    value_name=\"Value\"\n",
    ")\n",
    "\n",
    "# Compute diabetes cases\n",
    "df_cases = (\n",
    "    WB_long\n",
    "    .filter(pl.col(\"Series Name\") == \"Diabetes cases\")\n",
    "    .group_by([\"Country Name\", \"Year\"])\n",
    "    .agg(pl.col(\"Value\").sum().alias(\"Total_diabetes\"))\n",
    ")\n",
    "\n",
    "# group and sum population\n",
    "df_pop = (\n",
    "    WB_long\n",
    "    .filter(pl.col(\"Series Name\") == \"Population\")\n",
    "    .group_by([\"Country Name\", \"Year\"])\n",
    "    .agg(pl.col(\"Value\").sum().alias(\"Population\"))\n",
    ")\n",
    "\n",
    "# Join + aggregate by region/year\n",
    "df_country = df_cases.join(df_pop, on=[\"Country Name\", \"Year\"])\n",
    "\n",
    "df_region = (\n",
    "    df_country\n",
    "    .join(WB_dev_ind.select([\"Country Name\", \"Region\"]).unique(),\n",
    "          on=\"Country Name\")\n",
    "    .group_by([\"Region\", \"Year\"])\n",
    "    # 👇 use ONE selector to aggregate both numeric columns\n",
    "    .agg(pl.col([\"Total_diabetes\", \"Population\"]).sum())\n",
    ")\n",
    "\n",
    "# Compute prevalence\n",
    "df_result = df_region.with_columns(\n",
    "    (pl.col(\"Total_diabetes\") / pl.col(\"Population\")).alias(\"Prevalence\")\n",
    ")\n",
    "\n",
    "df_result.head()\n"
   ]
  }
 ],
 "metadata": {
  "kernelspec": {
   "display_name": "polars",
   "language": "python",
   "name": "python3"
  },
  "language_info": {
   "codemirror_mode": {
    "name": "ipython",
    "version": 3
   },
   "file_extension": ".py",
   "mimetype": "text/x-python",
   "name": "python",
   "nbconvert_exporter": "python",
   "pygments_lexer": "ipython3",
   "version": "3.12.11"
  }
 },
 "nbformat": 4,
 "nbformat_minor": 5
}
